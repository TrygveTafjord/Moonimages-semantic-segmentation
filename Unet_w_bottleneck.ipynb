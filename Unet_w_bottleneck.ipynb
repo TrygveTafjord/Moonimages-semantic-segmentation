{
  "cells": [
    {
      "cell_type": "markdown",
      "metadata": {
        "id": "nuwVgG3Vbbka"
      },
      "source": [
        "# Artificial Neural Networks and Deep Learning\n",
        "\n",
        "---\n",
        "\n",
        "## Homework 2: Minimal Working Example\n",
        "\n",
        "\n"
      ]
    },
    {
      "cell_type": "markdown",
      "metadata": {
        "id": "OwnA3RGIeabQ"
      },
      "source": [
        "https://github.com/bnsreenu/python_for_microscopists/blob/master/224_225_226_models.py"
      ]
    },
    {
      "cell_type": "markdown",
      "metadata": {
        "id": "dw_-hFm6bjY6"
      },
      "source": [
        "## 🌐 Connect Colab to Google Drive"
      ]
    },
    {
      "cell_type": "code",
      "execution_count": null,
      "metadata": {
        "colab": {
          "base_uri": "https://localhost:8080/"
        },
        "id": "y2S4GWr3Uoa8",
        "outputId": "bbe69cc0-fced-4095-a16b-7e63095f2c96"
      },
      "outputs": [
        {
          "name": "stdout",
          "output_type": "stream",
          "text": [
            "Mounted at /gdrive\n",
            "/gdrive/My Drive/[2024-2025] AN2DL/Homework 2\n"
          ]
        }
      ],
      "source": [
        "from google.colab import drive\n",
        "\n",
        "drive.mount(\"/gdrive\")\n",
        "%cd /gdrive/My Drive/[2024-2025] AN2DL/Homework 2"
      ]
    },
    {
      "cell_type": "markdown",
      "metadata": {
        "id": "d7IqZP5Iblna"
      },
      "source": [
        "## ⚙️ Import Libraries"
      ]
    },
    {
      "cell_type": "code",
      "execution_count": null,
      "metadata": {
        "colab": {
          "base_uri": "https://localhost:8080/"
        },
        "id": "CO6_Ft_8T56A",
        "outputId": "cabcb4aa-800f-4364-f3dd-8813c5c746b9"
      },
      "outputs": [
        {
          "name": "stdout",
          "output_type": "stream",
          "text": [
            "TensorFlow version: 2.17.1\n",
            "Keras version: 3.5.0\n",
            "GPU devices: 0\n"
          ]
        }
      ],
      "source": [
        "import os\n",
        "from datetime import datetime\n",
        "\n",
        "import numpy as np\n",
        "import pandas as pd\n",
        "\n",
        "import tensorflow as tf\n",
        "from tensorflow import keras as tfk\n",
        "from tensorflow.keras import layers as tfkl\n",
        "\n",
        "import matplotlib.pyplot as plt\n",
        "%matplotlib inline\n",
        "\n",
        "import hashlib\n",
        "seed = 42\n",
        "np.random.seed(seed)\n",
        "tf.random.set_seed(seed)\n",
        "\n",
        "print(f\"TensorFlow version: {tf.__version__}\")\n",
        "print(f\"Keras version: {tfk.__version__}\")\n",
        "print(f\"GPU devices: {len(tf.config.list_physical_devices('GPU'))}\")"
      ]
    },
    {
      "cell_type": "code",
      "execution_count": null,
      "metadata": {
        "id": "5oWsyYfM1Yfm"
      },
      "outputs": [],
      "source": [
        "## U-net imports\n",
        "\n",
        "import os\n",
        "import math\n",
        "from PIL import Image\n",
        "from keras import backend as K\n",
        "from sklearn.model_selection import train_test_split\n",
        "from sklearn.metrics import accuracy_score, f1_score, precision_score, recall_score, confusion_matrix\n",
        "import matplotlib.pyplot as plt\n",
        "import seaborn as sns\n",
        "\n",
        "# Configure plot display settings\n",
        "sns.set(font_scale=1.4)\n",
        "sns.set_style('white')\n",
        "plt.rc('font', size=14)\n",
        "\n",
        "from tensorflow.keras import models, layers, regularizers\n",
        "from tensorflow.keras import backend as K"
      ]
    },
    {
      "cell_type": "markdown",
      "metadata": {
        "id": "Cegj8dJYmkFB"
      },
      "source": [
        "## Data Exploration Functions\n"
      ]
    },
    {
      "cell_type": "code",
      "execution_count": null,
      "metadata": {
        "id": "BkJ9MhH_zmsU"
      },
      "outputs": [],
      "source": [
        "def plot_highest_error_iou(model, X_val, y_val, num_classes, top_n=10):\n",
        "    \"\"\"\n",
        "    Plots the images with the highest IoU error (lowest IoU scores).\n",
        "\n",
        "    Parameters:\n",
        "        model (tf.keras.Model): The trained segmentation model.\n",
        "        X_val (numpy.ndarray): Validation images of shape (N, H, W, C).\n",
        "        y_val (numpy.ndarray): Ground truth masks of shape (N, H, W).\n",
        "        num_classes (int): The number of segmentation classes.\n",
        "        top_n (int): The number of images with highest error to plot.\n",
        "    \"\"\"\n",
        "    # Initialize IoU scores and predictions\n",
        "    iou_scores = []\n",
        "    predictions = []\n",
        "\n",
        "    for i in range(len(X_val)):\n",
        "        # Predict single batch and remove the batch dimension\n",
        "        pred_mask = model.predict(X_val[i:i+1], verbose=0)  # Shape: (1, H, W, num_classes)\n",
        "        pred_mask = np.argmax(pred_mask[0], axis=-1)  # Shape: (H, W)\n",
        "        predictions.append(pred_mask)\n",
        "\n",
        "        # Flatten both the true and predicted masks\n",
        "        y_true_flat = y_val[i].flatten()  # Ground truth mask flattened\n",
        "        y_pred_flat = pred_mask.flatten()  # Predicted mask flattened\n",
        "\n",
        "        # Calculate IoU\n",
        "        intersection = np.sum((y_true_flat == y_pred_flat) & (y_true_flat > 0))\n",
        "        union = np.sum((y_true_flat > 0) | (y_pred_flat > 0))\n",
        "        iou = intersection / union if union > 0 else 0.0\n",
        "        iou_scores.append(iou)\n",
        "\n",
        "    # Get indices of the lowest IoU scores\n",
        "    lowest_iou_indices = np.argsort(iou_scores)[:top_n]\n",
        "\n",
        "    # Plot the images, true masks, predicted masks, and IoU scores\n",
        "    fig, axes = plt.subplots(top_n, 3, figsize=(15, 5 * top_n))\n",
        "    for i, idx in enumerate(lowest_iou_indices):\n",
        "        img = X_val[idx]\n",
        "        true_mask = y_val[idx]\n",
        "        pred_mask = predictions[idx]\n",
        "        iou = iou_scores[idx]\n",
        "\n",
        "        # Plot image\n",
        "        axes[i, 0].imshow(img.squeeze(), cmap=\"gray\")\n",
        "        axes[i, 0].set_title(f\"Image (IoU: {iou:.2f})\")\n",
        "        axes[i, 0].axis(\"off\")\n",
        "\n",
        "        # Plot true mask\n",
        "        axes[i, 1].imshow(true_mask, cmap=\"nipy_spectral\")\n",
        "        axes[i, 1].set_title(\"True Mask\")\n",
        "        axes[i, 1].axis(\"off\")\n",
        "\n",
        "        # Plot predicted mask\n",
        "        axes[i, 2].imshow(pred_mask, cmap=\"nipy_spectral\")\n",
        "        axes[i, 2].set_title(\"Predicted Mask\")\n",
        "        axes[i, 2].axis(\"off\")\n",
        "\n",
        "    plt.tight_layout()\n",
        "    plt.show()\n"
      ]
    },
    {
      "cell_type": "code",
      "execution_count": null,
      "metadata": {
        "id": "phlK_Q0BmpgK"
      },
      "outputs": [],
      "source": [
        "def plot_image_mask_pairs(X, y, num_pairs=5):\n",
        "    num_samples = min(num_pairs, len(X))\n",
        "    plt.figure(figsize=(10, 4 * num_samples))\n",
        "\n",
        "    random_indices = np.random.choice(len(X), num_samples, replace=False)\n",
        "    for idx, i in enumerate(random_indices):\n",
        "        plt.subplot(num_samples, 2, 2 * idx + 1)\n",
        "        plt.imshow(X[i])\n",
        "        plt.title(f\"Image {i+1}\")\n",
        "        plt.axis('off')\n",
        "\n",
        "        plt.subplot(num_samples, 2, 2 * idx + 2)\n",
        "        plt.imshow(y[i], cmap='nipy_spectral', vmin=0, vmax=4)  # Standardize the color scaling\n",
        "        plt.title(f\"Mask {i+1}\")\n",
        "        plt.axis('off')\n",
        "\n",
        "    plt.tight_layout()\n",
        "    plt.show()"
      ]
    },
    {
      "cell_type": "code",
      "execution_count": null,
      "metadata": {
        "id": "UkyukEVoppne"
      },
      "outputs": [],
      "source": [
        "import numpy as np\n",
        "\n",
        "def compute_class_distribution(y_train, num_classes=5):\n",
        "    \"\"\"\n",
        "    Compute the percentage of pixels belonging to each class in the dataset.\n",
        "\n",
        "    Parameters:\n",
        "    - y_train (numpy array): Array of shape (num_images, height, width) containing the label masks.\n",
        "    - num_classes (int): The number of classes in the dataset (default is 5).\n",
        "\n",
        "    Returns:\n",
        "    - percentages (list): A list of percentages corresponding to each class.\n",
        "    \"\"\"\n",
        "    # Flatten the masks to count pixel values across all images\n",
        "    flattened_labels = y_train.flatten()\n",
        "\n",
        "    # Total number of pixels\n",
        "    total_pixels = flattened_labels.size\n",
        "\n",
        "    # Compute the percentage for each class\n",
        "    percentages = [(flattened_labels == i).sum() / total_pixels * 100 for i in range(num_classes)]\n",
        "\n",
        "    return percentages"
      ]
    },
    {
      "cell_type": "code",
      "execution_count": null,
      "metadata": {
        "id": "ngEumwzW-xRd"
      },
      "outputs": [],
      "source": [
        "import numpy as np\n",
        "\n",
        "def flip_dataset(X_train, y_train):\n",
        "    \"\"\"\n",
        "    Augments the dataset by adding horizontally and vertically flipped versions of\n",
        "    the images and their corresponding masks.\n",
        "\n",
        "    Args:\n",
        "        X_train (numpy.ndarray): Training images of shape (n_samples, 64, 128).\n",
        "        y_train (numpy.ndarray): Corresponding masks of shape (n_samples, 64, 128).\n",
        "\n",
        "    Returns:\n",
        "        augmented_X (numpy.ndarray): Augmented training images.\n",
        "        augmented_y (numpy.ndarray): Augmented training masks.\n",
        "    \"\"\"\n",
        "    # Horizontal flipping\n",
        "    X_h_flip = np.flip(X_train, axis=2)  # Flip along width (horizontal axis)\n",
        "    y_h_flip = np.flip(y_train, axis=2)\n",
        "\n",
        "    # Combine original and horizontally flipped data\n",
        "    X_combined = np.concatenate((X_train, X_h_flip), axis=0)\n",
        "    y_combined = np.concatenate((y_train, y_h_flip), axis=0)\n",
        "\n",
        "    # Vertical flipping\n",
        "    X_v_flip = np.flip(X_combined, axis=1)  # Flip along height (vertical axis)\n",
        "    y_v_flip = np.flip(y_combined, axis=1)\n",
        "\n",
        "    # Combine with vertically flipped data\n",
        "    augmented_X = np.concatenate((X_combined, X_v_flip), axis=0)\n",
        "    augmented_y = np.concatenate((y_combined, y_v_flip), axis=0)\n",
        "\n",
        "    return augmented_X, augmented_y\n"
      ]
    },
    {
      "cell_type": "markdown",
      "metadata": {
        "id": "oT5VBI4QqbKt"
      },
      "source": [
        "## Data Cleanup Functions\n"
      ]
    },
    {
      "cell_type": "code",
      "execution_count": null,
      "metadata": {
        "id": "oRrIaIqrq4ft"
      },
      "outputs": [],
      "source": [
        "def find_duplicate_masks(labels):\n",
        "    hashes = {}\n",
        "    duplicates = {}\n",
        "\n",
        "    for i, mask in enumerate(labels):\n",
        "        mask_flat = mask.tobytes()\n",
        "        mask_hash = hashlib.md5(mask_flat).hexdigest()\n",
        "\n",
        "        if mask_hash in hashes:\n",
        "            first_index = hashes[mask_hash]\n",
        "            if first_index not in duplicates:\n",
        "                duplicates[first_index] = []  # Initialize the list for this first index\n",
        "            duplicates[first_index].append(i)  # Add the duplicate index\n",
        "        else:\n",
        "            hashes[mask_hash] = i  # Store the first occurrence of this hash\n",
        "\n",
        "    return duplicates"
      ]
    },
    {
      "cell_type": "code",
      "execution_count": null,
      "metadata": {
        "id": "-KtNVIFrqdep"
      },
      "outputs": [],
      "source": [
        "def remove_alien_elements(input_dict, keys_to_remove):\n",
        "    result = {}\n",
        "    for key, value in input_dict.items():\n",
        "        if key not in keys_to_remove:\n",
        "            result[key] = value\n",
        "    return result"
      ]
    },
    {
      "cell_type": "code",
      "execution_count": null,
      "metadata": {
        "colab": {
          "base_uri": "https://localhost:8080/"
        },
        "id": "5qRODGaxkn-n",
        "outputId": "07185857-a14a-4d9f-e715-95be55cdb25c"
      },
      "outputs": [
        {
          "name": "stdout",
          "output_type": "stream",
          "text": [
            "Requirement already satisfied: albumentations in /usr/local/lib/python3.10/dist-packages (1.4.20)\n",
            "Requirement already satisfied: opencv-python in /usr/local/lib/python3.10/dist-packages (4.10.0.84)\n",
            "Requirement already satisfied: numpy>=1.24.4 in /usr/local/lib/python3.10/dist-packages (from albumentations) (1.26.4)\n",
            "Requirement already satisfied: scipy>=1.10.0 in /usr/local/lib/python3.10/dist-packages (from albumentations) (1.13.1)\n",
            "Requirement already satisfied: PyYAML in /usr/local/lib/python3.10/dist-packages (from albumentations) (6.0.2)\n",
            "Requirement already satisfied: pydantic>=2.7.0 in /usr/local/lib/python3.10/dist-packages (from albumentations) (2.10.3)\n",
            "Requirement already satisfied: albucore==0.0.19 in /usr/local/lib/python3.10/dist-packages (from albumentations) (0.0.19)\n",
            "Requirement already satisfied: eval-type-backport in /usr/local/lib/python3.10/dist-packages (from albumentations) (0.2.0)\n",
            "Requirement already satisfied: opencv-python-headless>=4.9.0.80 in /usr/local/lib/python3.10/dist-packages (from albumentations) (4.10.0.84)\n",
            "Requirement already satisfied: stringzilla>=3.10.4 in /usr/local/lib/python3.10/dist-packages (from albucore==0.0.19->albumentations) (3.11.0)\n",
            "Requirement already satisfied: annotated-types>=0.6.0 in /usr/local/lib/python3.10/dist-packages (from pydantic>=2.7.0->albumentations) (0.7.0)\n",
            "Requirement already satisfied: pydantic-core==2.27.1 in /usr/local/lib/python3.10/dist-packages (from pydantic>=2.7.0->albumentations) (2.27.1)\n",
            "Requirement already satisfied: typing-extensions>=4.12.2 in /usr/local/lib/python3.10/dist-packages (from pydantic>=2.7.0->albumentations) (4.12.2)\n"
          ]
        }
      ],
      "source": [
        "pip install albumentations opencv-python"
      ]
    },
    {
      "cell_type": "code",
      "execution_count": null,
      "metadata": {
        "colab": {
          "base_uri": "https://localhost:8080/"
        },
        "id": "pnlbGTgRkpan",
        "outputId": "5ddef5e7-a785-4b5f-94d5-77d03aa054d7"
      },
      "outputs": [
        {
          "name": "stderr",
          "output_type": "stream",
          "text": [
            "/usr/local/lib/python3.10/dist-packages/albumentations/__init__.py:24: UserWarning: A new version of Albumentations is available: 1.4.22 (you have 1.4.20). Upgrade using: pip install -U albumentations. To disable automatic update checks, set the environment variable NO_ALBUMENTATIONS_UPDATE to 1.\n",
            "  check_for_updates()\n"
          ]
        }
      ],
      "source": [
        "import albumentations as A\n",
        "from albumentations.core.composition import OneOf\n",
        "from albumentations.core.transforms_interface import ImageOnlyTransform\n",
        "from albumentations.augmentations.transforms import *\n",
        "import cv2\n",
        "from albumentations import Compose\n",
        "\n",
        "\n",
        "import numpy as np\n",
        "def augment_image_and_mask(image, mask, augmentations):\n",
        "    \"\"\"\n",
        "    Apply the same augmentations to an image and its corresponding mask.\n",
        "\n",
        "    Args:\n",
        "        image (np.ndarray): The input image.\n",
        "        mask (np.ndarray): The corresponding mask.\n",
        "        augmentations: Albumentations augmentation pipeline.\n",
        "\n",
        "    Returns:\n",
        "        Tuple[np.ndarray, np.ndarray]: Augmented image and mask.\n",
        "    \"\"\"\n",
        "    data = augmentations(image=image, mask=mask)\n",
        "    return data[\"image\"], data[\"mask\"]"
      ]
    },
    {
      "cell_type": "code",
      "execution_count": null,
      "metadata": {
        "id": "CfyPNVNBm3nE"
      },
      "outputs": [],
      "source": [
        "def augment_dataset(X_train, y_train, augmentations):\n",
        "    \"\"\"\n",
        "    Augment the dataset by applying transformations, including horizontal and vertical flips.\n",
        "\n",
        "    Args:\n",
        "        X_train (np.ndarray): Array of input images of shape (N, 64, 128).\n",
        "        y_train (np.ndarray): Array of masks of shape (N, 64, 128).\n",
        "        augmentations: Albumentations augmentation pipeline.\n",
        "\n",
        "    Returns:\n",
        "        Tuple[np.ndarray, np.ndarray]: Augmented image and mask arrays.\n",
        "    \"\"\"\n",
        "    augmented_images = []\n",
        "    augmented_masks = []\n",
        "\n",
        "    for img, mask in zip(X_train, y_train):\n",
        "        # Original\n",
        "        augmented_images.append(img)\n",
        "        augmented_masks.append(mask)\n",
        "\n",
        "        # Horizontal Flip\n",
        "        img_hf, mask_hf = augment_image_and_mask(img, mask, A.Compose([A.HorizontalFlip(p=1)]))\n",
        "        augmented_images.append(img_hf)\n",
        "        augmented_masks.append(mask_hf)\n",
        "\n",
        "        # Vertical Flip\n",
        "        img_vf, mask_vf = augment_image_and_mask(img, mask, A.Compose([A.VerticalFlip(p=1)]))\n",
        "        augmented_images.append(img_vf)\n",
        "        augmented_masks.append(mask_vf)\n",
        "\n",
        "        # Combined (Horizontal + Vertical Flip)\n",
        "        img_hvf, mask_hvf = augment_image_and_mask(img_hf, mask_hf, A.Compose([A.VerticalFlip(p=1)]))\n",
        "        augmented_images.append(img_hvf)\n",
        "        augmented_masks.append(mask_hvf)\n",
        "\n",
        "    # Convert lists to arrays\n",
        "    return np.array(augmented_images), np.array(augmented_masks)\n"
      ]
    },
    {
      "cell_type": "code",
      "execution_count": null,
      "metadata": {
        "id": "PkIifoQiwcY3"
      },
      "outputs": [],
      "source": [
        "import numpy as np\n",
        "from sklearn.metrics import confusion_matrix\n",
        "\n",
        "def compute_segmentation_confusion_matrix(model, X_val, y_val, num_classes):\n",
        "    \"\"\"\n",
        "    Computes a confusion matrix for image segmentation predictions.\n",
        "\n",
        "    Parameters:\n",
        "        model (tf.keras.Model): The trained segmentation model.\n",
        "        X_val (numpy.ndarray): Validation images of shape (N, H, W, C).\n",
        "        y_val (numpy.ndarray): Ground truth masks of shape (N, H, W).\n",
        "        num_classes (int): The number of segmentation classes.\n",
        "\n",
        "    Returns:\n",
        "        numpy.ndarray: Confusion matrix of shape (num_classes, num_classes).\n",
        "    \"\"\"\n",
        "    # Initialize an overall confusion matrix\n",
        "    overall_confusion_matrix = np.zeros((num_classes, num_classes), dtype=np.int64)\n",
        "\n",
        "    # Loop through each sample to make predictions and calculate confusion matrix\n",
        "    for i in range(len(X_val)):\n",
        "        # Get model predictions for a single image\n",
        "        prediction = model.predict(X_val[i:i+1])  # Predict single batch\n",
        "        prediction = np.argmax(prediction[0], axis=-1)  # Convert logits to class indices\n",
        "\n",
        "        # Flatten prediction and ground truth for comparison\n",
        "        pred_flat = prediction.flatten()\n",
        "        true_flat = y_val[i].flatten()\n",
        "\n",
        "        # Compute confusion matrix for the current image\n",
        "        cm = confusion_matrix(true_flat, pred_flat, labels=range(num_classes))\n",
        "\n",
        "        # Add to the overall confusion matrix\n",
        "        overall_confusion_matrix += cm\n",
        "\n",
        "    return overall_confusion_matrix\n"
      ]
    },
    {
      "cell_type": "markdown",
      "metadata": {
        "id": "EpSz04b6YawS"
      },
      "source": [
        "## Training Functions"
      ]
    },
    {
      "cell_type": "code",
      "execution_count": null,
      "metadata": {
        "id": "5mL6oYEPYdy6"
      },
      "outputs": [],
      "source": [
        "import keras\n",
        "import tensorflow as tf\n",
        "from keras.metrics import MeanIoU\n",
        "from keras.saving import register_keras_serializable\n",
        "\n",
        "@keras.saving.register_keras_serializable()\n",
        "class MeanIntersectionOverUnion(tf.keras.metrics.MeanIoU):\n",
        "    def __init__(self, num_classes, labels_to_exclude=None, ignore_class=None, name=\"mean_iou\", dtype=None, **kwargs):\n",
        "        # Pass only recognized arguments to the parent class\n",
        "        super(MeanIntersectionOverUnion, self).__init__(num_classes=num_classes, name=name, dtype=dtype, **kwargs)\n",
        "\n",
        "        if labels_to_exclude is None:\n",
        "            labels_to_exclude = [0]  # Default to excluding label 0 (background)\n",
        "        self.labels_to_exclude = labels_to_exclude\n",
        "        self.ignore_class = ignore_class  # Explicitly handle the ignore_class\n",
        "\n",
        "    def update_state(self, y_true, y_pred, sample_weight=None):\n",
        "        # Convert predictions to class labels\n",
        "        y_pred = tf.math.argmax(y_pred, axis=-1)\n",
        "\n",
        "        # Flatten the tensors\n",
        "        y_true = tf.reshape(y_true, [-1])\n",
        "        y_pred = tf.reshape(y_pred, [-1])\n",
        "\n",
        "        # Apply mask to exclude specified labels\n",
        "        for label in self.labels_to_exclude:\n",
        "            mask = tf.not_equal(y_true, label)\n",
        "            y_true = tf.boolean_mask(y_true, mask)\n",
        "            y_pred = tf.boolean_mask(y_pred, mask)\n",
        "\n",
        "        # Update the state\n",
        "        return super().update_state(y_true, y_pred, sample_weight)\n",
        "\n",
        "    def get_config(self):\n",
        "        # Extend the parent class's get_config to include custom arguments\n",
        "        config = super(MeanIntersectionOverUnion, self).get_config()\n",
        "        config.update({\n",
        "            \"labels_to_exclude\": self.labels_to_exclude,\n",
        "            \"ignore_class\": self.ignore_class,\n",
        "        })\n",
        "        return config\n",
        "\n",
        "    @classmethod\n",
        "    def from_config(cls, config):\n",
        "        # Ensure the custom config can be deserialized\n",
        "        return cls(**config)\n"
      ]
    },
    {
      "cell_type": "code",
      "execution_count": null,
      "metadata": {
        "id": "6nmQH1FWiSvz"
      },
      "outputs": [],
      "source": [
        "def load_single_image(image_path, label_path, input_size=(64, 128)):\n",
        "    \"\"\"\n",
        "    Load a single image-label pair with the correct shape.\n",
        "    \"\"\"\n",
        "    print(f\"Loading image from {image_path}\")\n",
        "    print(f\"Loading label from {label_path}\")\n",
        "    # Read and preprocess the image\n",
        "    image = tf.io.read_file(image_path)\n",
        "    image = tf.io.decode_png(image, channels=1)  # Ensure 1 channel, greyscale\n",
        "    image = tf.image.resize(image, input_size)   # Resize to fixed size\n",
        "    image = tf.cast(image, tf.float32) / 255.0\n",
        "\n",
        "    # Read and preprocess the label\n",
        "    label = tf.io.read_file(label_path)\n",
        "    label = tf.io.decode_png(label, channels=1)  # Ensure single channel\n",
        "    label = tf.image.resize(label, input_size, method='bilinear')  # Resize to fixed size\n",
        "    label = tf.cast(label, tf.int32)\n",
        "\n",
        "    return image, label"
      ]
    },
    {
      "cell_type": "code",
      "execution_count": null,
      "metadata": {
        "id": "20crd_xdYYP9"
      },
      "outputs": [],
      "source": [
        "# Visualization callback\n",
        "class VizCallback(tf.keras.callbacks.Callback):\n",
        "    def __init__(self, image, label, frequency=5):\n",
        "        super().__init__()\n",
        "        self.image = image\n",
        "        self.label = label\n",
        "        self.frequency = frequency\n",
        "\n",
        "    def on_epoch_end(self, epoch, logs=None):\n",
        "        if epoch % self.frequency == 0:  # Visualize only every \"frequency\" epochs\n",
        "            image, label = self.image, self.label\n",
        "            image = tf.expand_dims(image, 0)\n",
        "            pred = self.model.predict(image, verbose=0)\n",
        "            y_pred = tf.math.argmax(pred, axis=-1)\n",
        "            y_pred = y_pred.numpy()\n",
        "\n",
        "            num_classes = 5 #had to do it\n",
        "            colormap = create_segmentation_colormap(num_classes)\n",
        "\n",
        "            plt.figure(figsize=(16, 4))\n",
        "\n",
        "            # Input image\n",
        "            plt.subplot(1, 3, 1)\n",
        "            plt.imshow(image[0], cmap='gray')\n",
        "            plt.title(\"Input Image\")\n",
        "            plt.axis('off')\n",
        "\n",
        "            # Ground truth\n",
        "            plt.subplot(1, 3, 2)\n",
        "            colored_label = apply_colormap(label, colormap)\n",
        "            plt.imshow(colored_label)\n",
        "            plt.title(\"Ground Truth Mask\")\n",
        "            plt.axis('off')\n",
        "\n",
        "            # Prediction\n",
        "            plt.subplot(1, 3, 3)\n",
        "            colored_pred = apply_colormap(y_pred, colormap)\n",
        "            plt.imshow(colored_pred)\n",
        "            plt.title(\"Predicted Mask\")\n",
        "            plt.axis('off')\n",
        "\n",
        "            plt.tight_layout()\n",
        "            plt.show()\n",
        "            plt.close()"
      ]
    },
    {
      "cell_type": "code",
      "execution_count": null,
      "metadata": {
        "id": "bAuO6XLw_QTt"
      },
      "outputs": [],
      "source": [
        "#Creating a colour map\n",
        "def create_segmentation_colormap(num_classes):\n",
        "    \"\"\"\n",
        "    Create a linear colormap using a predefined palette.\n",
        "    Uses 'viridis' as default because it is perceptually uniform\n",
        "    and works well for colorblindness.\n",
        "    \"\"\"\n",
        "\n",
        "    return plt.cm.viridis(np.linspace(0, 1, num_classes))\n",
        "\n",
        "def apply_colormap(label, colormap=None):\n",
        "    \"\"\"\n",
        "    Apply the colormap to a label.\n",
        "    \"\"\"\n",
        "    # Ensure label is 2D\n",
        "    label = np.squeeze(label)\n",
        "\n",
        "    if colormap is None:\n",
        "        num_classes = len(np.unique(label))\n",
        "        colormap = create_segmentation_colormap(num_classes)\n",
        "\n",
        "    # Apply the colormap\n",
        "    colored = colormap[label.astype(int)]\n",
        "\n",
        "    return colored"
      ]
    },
    {
      "cell_type": "markdown",
      "metadata": {
        "id": "GN_cpHlSboXV"
      },
      "source": [
        "## ⏳ Load the Data"
      ]
    },
    {
      "cell_type": "code",
      "execution_count": null,
      "metadata": {
        "colab": {
          "base_uri": "https://localhost:8080/"
        },
        "id": "pLaoDaG1V1Yg",
        "outputId": "1a5d9197-c721-4385-eb3d-ef7c5aad8d96"
      },
      "outputs": [
        {
          "name": "stdout",
          "output_type": "stream",
          "text": [
            "Training X shape: (2615, 64, 128)\n",
            "Training y shape: (2615, 64, 128)\n",
            "Test X shape: (10022, 64, 128)\n"
          ]
        }
      ],
      "source": [
        "data = np.load(\"mars_for_students.npz\")\n",
        "\n",
        "training_set = data[\"training_set\"]\n",
        "X_train = training_set[:, 0]\n",
        "y_train = training_set[:, 1]\n",
        "\n",
        "X_test = data[\"test_set\"]\n",
        "\n",
        "print(f\"Training X shape: {X_train.shape}\")\n",
        "print(f\"Training y shape: {y_train.shape}\")\n",
        "print(f\"Test X shape: {X_test.shape}\")"
      ]
    },
    {
      "cell_type": "code",
      "execution_count": null,
      "metadata": {
        "colab": {
          "base_uri": "https://localhost:8080/"
        },
        "id": "brlCbGhqqf-s",
        "outputId": "a049e2df-4719-489e-8129-88307c47673f"
      },
      "outputs": [
        {
          "name": "stdout",
          "output_type": "stream",
          "text": [
            "Total masks before removal: 2615\n",
            "Total masks after removal: 2505\n"
          ]
        }
      ],
      "source": [
        "#Finding and removing duplicates\n",
        "duplicates = find_duplicate_masks(y_train)\n",
        "\n",
        "#After manual inspection, the first alien image appears at index 62:\n",
        "alien_image_indices = duplicates[62]\n",
        "alien_image_indices.append(62)\n",
        "\n",
        "# Step 3: Create a dictionary of all masks\n",
        "input_dict = {index: y_train[index] for index in range(len(y_train))}\n",
        "\n",
        "no_aliens_map = remove_alien_elements(input_dict, alien_image_indices)\n",
        "\n",
        "remaining_indices = [i for i in range(len(y_train)) if i not in alien_image_indices]\n",
        "\n",
        "X_train = X_train[remaining_indices]\n",
        "y_train = y_train[remaining_indices]\n",
        "\n",
        "print(f\"Total masks before removal: {len(input_dict)}\")\n",
        "print(f\"Total masks after removal: {len(no_aliens_map)}\")"
      ]
    },
    {
      "cell_type": "code",
      "execution_count": null,
      "metadata": {
        "id": "0DBd9vim-1ch"
      },
      "outputs": [],
      "source": [
        "# Adding flipped versions of images\n",
        "X_train, y_train = flip_dataset(X_train, y_train)"
      ]
    },
    {
      "cell_type": "code",
      "execution_count": null,
      "metadata": {
        "id": "GYMgTAZwdQWI"
      },
      "outputs": [],
      "source": [
        "#Split a validation set\n",
        "X_train, X_val, y_train, y_val = train_test_split(X_train, y_train, test_size=0.1, random_state=seed)"
      ]
    },
    {
      "cell_type": "code",
      "execution_count": null,
      "metadata": {
        "id": "Xub4qz88hBNH"
      },
      "outputs": [],
      "source": [
        "augmentations = A.Compose([\n",
        "    A.ShiftScaleRotate(shift_limit=0.5625, scale_limit=0.1, rotate_limit=15, border_mode=cv2.BORDER_CONSTANT, value=0, mask_value=0, p=0.5),\n",
        "    A.OneOf([\n",
        "        A.MotionBlur(blur_limit=7, p=0.4),\n",
        "        A.MedianBlur(blur_limit=7, p=0.4),\n",
        "        A.Blur(blur_limit=7, p=0.4)\n",
        "    ], p=0.5),\n",
        "    A.Resize(64, 128, always_apply=True),  # Ensures all outputs are the correct shape\n",
        "])\n",
        "\n",
        "# Apply the augmentations\n",
        "X_train, y_train = augment_dataset(X_train, y_train, augmentations)"
      ]
    },
    {
      "cell_type": "markdown",
      "metadata": {
        "id": "4GG1G5wjg8vf"
      },
      "source": []
    },
    {
      "cell_type": "code",
      "execution_count": null,
      "metadata": {
        "colab": {
          "base_uri": "https://localhost:8080/"
        },
        "id": "s-eLbh2ZqDvo",
        "outputId": "0b9a79a3-4665-4eb9-e15b-7913a13048f2"
      },
      "outputs": [
        {
          "name": "stdout",
          "output_type": "stream",
          "text": [
            "Class 0: 24.36%\n",
            "Class 1: 33.98%\n",
            "Class 2: 23.33%\n",
            "Class 3: 18.21%\n",
            "Class 4: 0.13%\n"
          ]
        }
      ],
      "source": [
        "# Compute the class distribution\n",
        "class_percentages = compute_class_distribution(y_train)\n",
        "\n",
        "# Print the results\n",
        "for i, percentage in enumerate(class_percentages):\n",
        "    print(f\"Class {i}: {percentage:.2f}%\")"
      ]
    },
    {
      "cell_type": "markdown",
      "metadata": {
        "id": "FSliIxBvbs2Q"
      },
      "source": [
        "## 🛠️ Train and Save the Model"
      ]
    },
    {
      "cell_type": "code",
      "execution_count": null,
      "metadata": {
        "colab": {
          "base_uri": "https://localhost:8080/"
        },
        "id": "VmnTgJi_OOs1",
        "outputId": "6d14a2c5-08ce-4856-a05f-fd3da3e18868"
      },
      "outputs": [
        {
          "name": "stdout",
          "output_type": "stream",
          "text": [
            "Input shape: (64, 128, 1)\n",
            "Number of classes: 5\n"
          ]
        }
      ],
      "source": [
        "# Add color channel and rescale pixels between 0 and 1\n",
        "X_train = X_train[..., np.newaxis] / 255.0\n",
        "X_test = X_test[..., np.newaxis] / 255.0\n",
        "X_val = X_val[..., np.newaxis] / 255.0\n",
        "\n",
        "input_shape = X_train.shape[1:]\n",
        "num_classes = len(np.unique(y_train))\n",
        "\n",
        "#\n",
        "\n",
        "print(f\"Input shape: {input_shape}\")\n",
        "print(f\"Number of classes: {num_classes}\")"
      ]
    },
    {
      "cell_type": "code",
      "execution_count": null,
      "metadata": {
        "id": "oqd7rdBgJ10c"
      },
      "outputs": [],
      "source": [
        "# Defining constants\n",
        "\n",
        "batch_size = 64\n",
        "num_epochs = 120\n",
        "learning_rate = 0.001\n",
        "patience = 15"
      ]
    },
    {
      "cell_type": "markdown",
      "metadata": {
        "id": "y6HUxeqQ3tP-"
      },
      "source": [
        "### Define Model"
      ]
    },
    {
      "cell_type": "code",
      "execution_count": null,
      "metadata": {
        "id": "pTuDPh_EfeAu"
      },
      "outputs": [],
      "source": [
        "def res_conv_block(x, filter_size, size):\n",
        "    '''\n",
        "    Residual convolutional layer.\n",
        "    Two variants....\n",
        "    Either put activation function before the addition with shortcut\n",
        "    or after the addition (which would be as proposed in the original resNet).\n",
        "\n",
        "    1. conv - BN - Activation - conv - BN - Activation\n",
        "                                          - shortcut  - BN - shortcut+BN\n",
        "\n",
        "    2. conv - BN - Activation - conv - BN\n",
        "                                     - shortcut  - BN - shortcut+BN - Activation\n",
        "\n",
        "    Check fig 4 in https://arxiv.org/ftp/arxiv/papers/1802/1802.06955.pdf\n",
        "    '''\n",
        "\n",
        "    conv = layers.Conv2D(size, (filter_size, filter_size), padding='same')(x)\n",
        "    conv = layers.BatchNormalization(axis=3)(conv)\n",
        "    conv = layers.Activation('relu')(conv)\n",
        "\n",
        "    conv = layers.Conv2D(size, (filter_size, filter_size), padding='same')(conv)\n",
        "    conv = layers.BatchNormalization(axis=3)(conv)\n",
        "    #conv = layers.Activation('relu')(conv)    #Activation before addition with shortcut\n",
        "\n",
        "    shortcut = layers.Conv2D(size, kernel_size=(1, 1), padding='same')(x)\n",
        "    res_path = layers.add([shortcut, conv])\n",
        "    res_path = layers.Activation('relu')(res_path)    #Activation after addition with shortcut (Original residual block)\n",
        "    return res_path"
      ]
    },
    {
      "cell_type": "code",
      "execution_count": null,
      "metadata": {
        "id": "BejReriufj3z"
      },
      "outputs": [],
      "source": [
        "def attention_block(x, gating, inter_shape):\n",
        "    shape_x = K.int_shape(x)\n",
        "    shape_g = K.int_shape(gating)\n",
        "\n",
        "# Getting the x signal to the same shape as the gating signal\n",
        "    theta_x = layers.Conv2D(inter_shape, (2, 2), strides=(2, 2), padding='same')(x)  # 16\n",
        "    shape_theta_x = K.int_shape(theta_x)\n",
        "\n",
        "# Getting the gating signal to the same number of filters as the inter_shape\n",
        "    phi_g = layers.Conv2D(inter_shape, (1, 1), padding='same')(gating)\n",
        "    upsample_g = layers.Conv2DTranspose(inter_shape, (3, 3),\n",
        "                                 strides=(shape_theta_x[1] // shape_g[1], shape_theta_x[2] // shape_g[2]),\n",
        "                                 padding='same')(phi_g)  # 16\n",
        "\n",
        "    concat_xg = layers.add([upsample_g, theta_x])\n",
        "    act_xg = layers.Activation('relu')(concat_xg)\n",
        "    psi = layers.Conv2D(1, (1, 1), padding='same')(act_xg)\n",
        "    sigmoid_xg = layers.Activation('sigmoid')(psi)\n",
        "    shape_sigmoid = K.int_shape(sigmoid_xg)\n",
        "    upsample_psi = layers.UpSampling2D(size=(shape_x[1] // shape_sigmoid[1], shape_x[2] // shape_sigmoid[2]))(sigmoid_xg)  # 32\n",
        "\n",
        "    upsample_psi = repeat_elem(upsample_psi, shape_x[3])\n",
        "\n",
        "    y = layers.multiply([upsample_psi, x])\n",
        "\n",
        "    result = layers.Conv2D(shape_x[3], (1, 1), padding='same')(y)\n",
        "    result_bn = layers.BatchNormalization()(result)\n",
        "    return result_bn"
      ]
    },
    {
      "cell_type": "code",
      "execution_count": null,
      "metadata": {
        "id": "8eq-B46Mfr7n"
      },
      "outputs": [],
      "source": [
        "def gating_signal(input, out_size):\n",
        "    \"\"\"\n",
        "    resize the down layer feature map into the same dimension as the up layer feature map\n",
        "    using 1x1 conv\n",
        "    :return: the gating feature map with the same dimension of the up layer feature map\n",
        "    \"\"\"\n",
        "    x = layers.Conv2D(out_size, (1, 1), padding='same')(input)\n",
        "    x = layers.BatchNormalization()(x)\n",
        "    x = layers.Activation('relu')(x)\n",
        "    return x\n"
      ]
    },
    {
      "cell_type": "code",
      "execution_count": null,
      "metadata": {
        "id": "fdKo58tDygCZ"
      },
      "outputs": [],
      "source": [
        "def senet_block(input, filters, kernel_size=3, activation='relu', stack=2, name=''):\n",
        "    for s in range(stack):\n",
        "        # Main concolutional part\n",
        "        x = tfkl.Conv2D(filters, kernel_size, padding='same', use_bias=False, name=f'{name}_conv_{s}')(input)\n",
        "        x = tfkl.BatchNormalization(name=f'{name}_bn1_{s}')(x)\n",
        "        x = tfkl.Activation(activation, name=f'{name}_activation_{s}')(x)\n",
        "\n",
        "        # Squeeze-and-excitation module\n",
        "        channels = x.shape[-1]\n",
        "        # Squeeze step\n",
        "        se = tfkl.GlobalAveragePooling2D(name=f'{name}_squeeze_{s}')(x)\n",
        "        # Excitation step\n",
        "        se = tfkl.Dense(channels // 16, activation=activation, name=f'{name}_dense1_{s}')(se)\n",
        "        se = tfkl.Dense(channels, activation='sigmoid', name=f'{name}_dense2_{s}')(se)\n",
        "\n",
        "        # Scaling of the output with SE activation\n",
        "        se = tfkl.Reshape((1,1,channels))(se)\n",
        "        x = tfkl.Multiply(name=f'{name}_scale_{s}')([x,se])\n",
        "\n",
        "        return x"
      ]
    },
    {
      "cell_type": "code",
      "execution_count": null,
      "metadata": {
        "id": "Z9Mv9tUniEqL"
      },
      "outputs": [],
      "source": [
        "def repeat_elem(tensor, rep):\n",
        "\n",
        "     return layers.Lambda(lambda x, repnum: K.repeat_elements(x, repnum, axis=3),\n",
        "                          arguments={'repnum': rep})(tensor)"
      ]
    },
    {
      "cell_type": "code",
      "execution_count": null,
      "metadata": {
        "id": "9gzF10--f0-d"
      },
      "outputs": [],
      "source": [
        "def Attention_ResUNet(input_shape=(64, 128, 1), NUM_CLASSES=5):\n",
        "    '''\n",
        "    Rsidual UNet, with attention\n",
        "\n",
        "    '''\n",
        "    # network structure\n",
        "    FILTER_NUM = 64 # number of basic filters for the first layer\n",
        "    FILTER_SIZE = 3 # size of the convolutional filter\n",
        "    UP_SAMP_SIZE = 2 # size of upsampling filters\n",
        "    # input data\n",
        "    # dimension of the image depth\n",
        "    inputs = layers.Input(input_shape, dtype=tf.float32)\n",
        "    axis = 3\n",
        "\n",
        "    # Downsampling layers\n",
        "    # DownRes 1, double residual convolution + pooling\n",
        "    conv_128 = res_conv_block(inputs, FILTER_SIZE, FILTER_NUM)\n",
        "    pool_64 = layers.MaxPooling2D(pool_size=(2,2))(conv_128)\n",
        "    # DownRes 2\n",
        "\n",
        "    conv_64 = res_conv_block(pool_64, FILTER_SIZE, 2*FILTER_NUM)\n",
        "    pool_32 = layers.MaxPooling2D(pool_size=(2,2))(conv_64)\n",
        "    # DownRes 3\n",
        "\n",
        "    conv_32 = res_conv_block(pool_32, FILTER_SIZE, 4*FILTER_NUM)\n",
        "    pool_16 = layers.MaxPooling2D(pool_size=(2,2))(conv_32)\n",
        "    # DownRes 4\n",
        "\n",
        "    conv_16 = res_conv_block(pool_16, FILTER_SIZE, 8*FILTER_NUM)\n",
        "    pool_8 = layers.MaxPooling2D(pool_size=(2,2))(conv_16)\n",
        "    # DownRes 5, convolution only\n",
        "\n",
        "    conv_8 = senet_block(pool_8, 16*FILTER_NUM, name='bottleneck')\n",
        "\n",
        "    # Upsampling layers\n",
        "\n",
        "    # UpRes 6, attention gated concatenation + upsampling + double residual convolution\n",
        "    gating_16 = gating_signal(conv_8, 8*FILTER_NUM)\n",
        "    att_16 = attention_block(conv_16, gating_16, 8*FILTER_NUM)\n",
        "    up_16 = layers.UpSampling2D(size=(UP_SAMP_SIZE, UP_SAMP_SIZE), data_format=\"channels_last\")(conv_8)\n",
        "    up_16 = layers.concatenate([up_16, att_16], axis=axis)\n",
        "    up_conv_16 = res_conv_block(up_16, FILTER_SIZE, 8*FILTER_NUM)\n",
        "    # UpRes 7\n",
        "    gating_32 = gating_signal(up_conv_16, 4*FILTER_NUM)\n",
        "    att_32 = attention_block(conv_32, gating_32, 4*FILTER_NUM)\n",
        "    up_32 = layers.UpSampling2D(size=(UP_SAMP_SIZE, UP_SAMP_SIZE), data_format=\"channels_last\")(up_conv_16)\n",
        "    up_32 = layers.concatenate([up_32, att_32], axis=axis)\n",
        "    up_conv_32 = res_conv_block(up_32, FILTER_SIZE, 4*FILTER_NUM)\n",
        "    # UpRes 8\n",
        "    gating_64 = gating_signal(up_conv_32, 2*FILTER_NUM)\n",
        "    att_64 = attention_block(conv_64, gating_64, 2*FILTER_NUM)\n",
        "    up_64 = layers.UpSampling2D(size=(UP_SAMP_SIZE, UP_SAMP_SIZE), data_format=\"channels_last\")(up_conv_32)\n",
        "    up_64 = layers.concatenate([up_64, att_64], axis=axis)\n",
        "    up_conv_64 = res_conv_block(up_64, FILTER_SIZE, 2*FILTER_NUM)\n",
        "    # UpRes 9\n",
        "    gating_128 = gating_signal(up_conv_64, FILTER_NUM)\n",
        "    att_128 = attention_block(conv_128, gating_128, FILTER_NUM)\n",
        "    up_128 = layers.UpSampling2D(size=(UP_SAMP_SIZE, UP_SAMP_SIZE), data_format=\"channels_last\")(up_conv_64)\n",
        "    up_128 = layers.concatenate([up_128, att_128], axis=axis)\n",
        "    up_conv_128 = res_conv_block(up_128, FILTER_SIZE, FILTER_NUM)\n",
        "\n",
        "    # 1*1 convolutional layers\n",
        "\n",
        "    conv_final = layers.Conv2D(NUM_CLASSES, kernel_size=(1,1))(up_conv_128)\n",
        "    conv_final = layers.BatchNormalization(axis=axis)(conv_final)\n",
        "    conv_final = layers.Activation('softmax')(conv_final)\n",
        "\n",
        "    # Model integration\n",
        "    model = models.Model(inputs, conv_final, name=\"AttentionResUNet\")\n",
        "    return model"
      ]
    },
    {
      "cell_type": "markdown",
      "metadata": {
        "id": "oZfQeqZI9kVM"
      },
      "source": [
        "### Building model"
      ]
    },
    {
      "cell_type": "code",
      "execution_count": null,
      "metadata": {
        "colab": {
          "base_uri": "https://localhost:8080/",
          "height": 1000
        },
        "id": "pxQbxCVIYMzO",
        "outputId": "463f1d34-3134-4b2c-f184-bcac08900d4e"
      },
      "outputs": [
        {
          "data": {
            "text/html": [
              "<pre style=\"white-space:pre;overflow-x:auto;line-height:normal;font-family:Menlo,'DejaVu Sans Mono',consolas,'Courier New',monospace\"><span style=\"font-weight: bold\">Model: \"AttentionResUNet\"</span>\n",
              "</pre>\n"
            ],
            "text/plain": [
              "\u001b[1mModel: \"AttentionResUNet\"\u001b[0m\n"
            ]
          },
          "metadata": {},
          "output_type": "display_data"
        },
        {
          "data": {
            "text/html": [
              "<pre style=\"white-space:pre;overflow-x:auto;line-height:normal;font-family:Menlo,'DejaVu Sans Mono',consolas,'Courier New',monospace\">┏━━━━━━━━━━━━━━━━━━━━━━━━┳━━━━━━━━━━━━━━━━━━━━━━┳━━━━━━━━━━━━━━┳━━━━━━━━━━━━━━━━━━━━━┳━━━━━━━━━┓\n",
              "┃<span style=\"font-weight: bold\"> Layer (type)           </span>┃<span style=\"font-weight: bold\"> Output Shape         </span>┃<span style=\"font-weight: bold\">      Param # </span>┃<span style=\"font-weight: bold\"> Connected to        </span>┃<span style=\"font-weight: bold\"> Traina… </span>┃\n",
              "┡━━━━━━━━━━━━━━━━━━━━━━━━╇━━━━━━━━━━━━━━━━━━━━━━╇━━━━━━━━━━━━━━╇━━━━━━━━━━━━━━━━━━━━━╇━━━━━━━━━┩\n",
              "│ input_layer            │ (<span style=\"color: #00d7ff; text-decoration-color: #00d7ff\">None</span>, <span style=\"color: #00af00; text-decoration-color: #00af00\">64</span>, <span style=\"color: #00af00; text-decoration-color: #00af00\">128</span>, <span style=\"color: #00af00; text-decoration-color: #00af00\">1</span>)   │            <span style=\"color: #00af00; text-decoration-color: #00af00\">0</span> │ -                   │    <span style=\"font-weight: bold\">-</span>    │\n",
              "│ (<span style=\"color: #0087ff; text-decoration-color: #0087ff\">InputLayer</span>)           │                      │              │                     │         │\n",
              "├────────────────────────┼──────────────────────┼──────────────┼─────────────────────┼─────────┤\n",
              "│ conv2d (<span style=\"color: #0087ff; text-decoration-color: #0087ff\">Conv2D</span>)        │ (<span style=\"color: #00d7ff; text-decoration-color: #00d7ff\">None</span>, <span style=\"color: #00af00; text-decoration-color: #00af00\">64</span>, <span style=\"color: #00af00; text-decoration-color: #00af00\">128</span>, <span style=\"color: #00af00; text-decoration-color: #00af00\">64</span>)  │          <span style=\"color: #00af00; text-decoration-color: #00af00\">640</span> │ input_layer[<span style=\"color: #00af00; text-decoration-color: #00af00\">0</span>][<span style=\"color: #00af00; text-decoration-color: #00af00\">0</span>]   │    <span style=\"color: #00af00; text-decoration-color: #00af00; font-weight: bold\">Y</span>    │\n",
              "├────────────────────────┼──────────────────────┼──────────────┼─────────────────────┼─────────┤\n",
              "│ batch_normalization    │ (<span style=\"color: #00d7ff; text-decoration-color: #00d7ff\">None</span>, <span style=\"color: #00af00; text-decoration-color: #00af00\">64</span>, <span style=\"color: #00af00; text-decoration-color: #00af00\">128</span>, <span style=\"color: #00af00; text-decoration-color: #00af00\">64</span>)  │          <span style=\"color: #00af00; text-decoration-color: #00af00\">256</span> │ conv2d[<span style=\"color: #00af00; text-decoration-color: #00af00\">0</span>][<span style=\"color: #00af00; text-decoration-color: #00af00\">0</span>]        │    <span style=\"color: #00af00; text-decoration-color: #00af00; font-weight: bold\">Y</span>    │\n",
              "│ (<span style=\"color: #0087ff; text-decoration-color: #0087ff\">BatchNormalization</span>)   │                      │              │                     │         │\n",
              "├────────────────────────┼──────────────────────┼──────────────┼─────────────────────┼─────────┤\n",
              "│ activation             │ (<span style=\"color: #00d7ff; text-decoration-color: #00d7ff\">None</span>, <span style=\"color: #00af00; text-decoration-color: #00af00\">64</span>, <span style=\"color: #00af00; text-decoration-color: #00af00\">128</span>, <span style=\"color: #00af00; text-decoration-color: #00af00\">64</span>)  │            <span style=\"color: #00af00; text-decoration-color: #00af00\">0</span> │ batch_normalizatio… │    <span style=\"font-weight: bold\">-</span>    │\n",
              "│ (<span style=\"color: #0087ff; text-decoration-color: #0087ff\">Activation</span>)           │                      │              │                     │         │\n",
              "├────────────────────────┼──────────────────────┼──────────────┼─────────────────────┼─────────┤\n",
              "│ conv2d_1 (<span style=\"color: #0087ff; text-decoration-color: #0087ff\">Conv2D</span>)      │ (<span style=\"color: #00d7ff; text-decoration-color: #00d7ff\">None</span>, <span style=\"color: #00af00; text-decoration-color: #00af00\">64</span>, <span style=\"color: #00af00; text-decoration-color: #00af00\">128</span>, <span style=\"color: #00af00; text-decoration-color: #00af00\">64</span>)  │       <span style=\"color: #00af00; text-decoration-color: #00af00\">36,928</span> │ activation[<span style=\"color: #00af00; text-decoration-color: #00af00\">0</span>][<span style=\"color: #00af00; text-decoration-color: #00af00\">0</span>]    │    <span style=\"color: #00af00; text-decoration-color: #00af00; font-weight: bold\">Y</span>    │\n",
              "├────────────────────────┼──────────────────────┼──────────────┼─────────────────────┼─────────┤\n",
              "│ conv2d_2 (<span style=\"color: #0087ff; text-decoration-color: #0087ff\">Conv2D</span>)      │ (<span style=\"color: #00d7ff; text-decoration-color: #00d7ff\">None</span>, <span style=\"color: #00af00; text-decoration-color: #00af00\">64</span>, <span style=\"color: #00af00; text-decoration-color: #00af00\">128</span>, <span style=\"color: #00af00; text-decoration-color: #00af00\">64</span>)  │          <span style=\"color: #00af00; text-decoration-color: #00af00\">128</span> │ input_layer[<span style=\"color: #00af00; text-decoration-color: #00af00\">0</span>][<span style=\"color: #00af00; text-decoration-color: #00af00\">0</span>]   │    <span style=\"color: #00af00; text-decoration-color: #00af00; font-weight: bold\">Y</span>    │\n",
              "├────────────────────────┼──────────────────────┼──────────────┼─────────────────────┼─────────┤\n",
              "│ batch_normalization_1  │ (<span style=\"color: #00d7ff; text-decoration-color: #00d7ff\">None</span>, <span style=\"color: #00af00; text-decoration-color: #00af00\">64</span>, <span style=\"color: #00af00; text-decoration-color: #00af00\">128</span>, <span style=\"color: #00af00; text-decoration-color: #00af00\">64</span>)  │          <span style=\"color: #00af00; text-decoration-color: #00af00\">256</span> │ conv2d_1[<span style=\"color: #00af00; text-decoration-color: #00af00\">0</span>][<span style=\"color: #00af00; text-decoration-color: #00af00\">0</span>]      │    <span style=\"color: #00af00; text-decoration-color: #00af00; font-weight: bold\">Y</span>    │\n",
              "│ (<span style=\"color: #0087ff; text-decoration-color: #0087ff\">BatchNormalization</span>)   │                      │              │                     │         │\n",
              "├────────────────────────┼──────────────────────┼──────────────┼─────────────────────┼─────────┤\n",
              "│ add (<span style=\"color: #0087ff; text-decoration-color: #0087ff\">Add</span>)              │ (<span style=\"color: #00d7ff; text-decoration-color: #00d7ff\">None</span>, <span style=\"color: #00af00; text-decoration-color: #00af00\">64</span>, <span style=\"color: #00af00; text-decoration-color: #00af00\">128</span>, <span style=\"color: #00af00; text-decoration-color: #00af00\">64</span>)  │            <span style=\"color: #00af00; text-decoration-color: #00af00\">0</span> │ conv2d_2[<span style=\"color: #00af00; text-decoration-color: #00af00\">0</span>][<span style=\"color: #00af00; text-decoration-color: #00af00\">0</span>],     │    <span style=\"font-weight: bold\">-</span>    │\n",
              "│                        │                      │              │ batch_normalizatio… │         │\n",
              "├────────────────────────┼──────────────────────┼──────────────┼─────────────────────┼─────────┤\n",
              "│ activation_1           │ (<span style=\"color: #00d7ff; text-decoration-color: #00d7ff\">None</span>, <span style=\"color: #00af00; text-decoration-color: #00af00\">64</span>, <span style=\"color: #00af00; text-decoration-color: #00af00\">128</span>, <span style=\"color: #00af00; text-decoration-color: #00af00\">64</span>)  │            <span style=\"color: #00af00; text-decoration-color: #00af00\">0</span> │ add[<span style=\"color: #00af00; text-decoration-color: #00af00\">0</span>][<span style=\"color: #00af00; text-decoration-color: #00af00\">0</span>]           │    <span style=\"font-weight: bold\">-</span>    │\n",
              "│ (<span style=\"color: #0087ff; text-decoration-color: #0087ff\">Activation</span>)           │                      │              │                     │         │\n",
              "├────────────────────────┼──────────────────────┼──────────────┼─────────────────────┼─────────┤\n",
              "│ max_pooling2d          │ (<span style=\"color: #00d7ff; text-decoration-color: #00d7ff\">None</span>, <span style=\"color: #00af00; text-decoration-color: #00af00\">32</span>, <span style=\"color: #00af00; text-decoration-color: #00af00\">64</span>, <span style=\"color: #00af00; text-decoration-color: #00af00\">64</span>)   │            <span style=\"color: #00af00; text-decoration-color: #00af00\">0</span> │ activation_1[<span style=\"color: #00af00; text-decoration-color: #00af00\">0</span>][<span style=\"color: #00af00; text-decoration-color: #00af00\">0</span>]  │    <span style=\"font-weight: bold\">-</span>    │\n",
              "│ (<span style=\"color: #0087ff; text-decoration-color: #0087ff\">MaxPooling2D</span>)         │                      │              │                     │         │\n",
              "├────────────────────────┼──────────────────────┼──────────────┼─────────────────────┼─────────┤\n",
              "│ conv2d_3 (<span style=\"color: #0087ff; text-decoration-color: #0087ff\">Conv2D</span>)      │ (<span style=\"color: #00d7ff; text-decoration-color: #00d7ff\">None</span>, <span style=\"color: #00af00; text-decoration-color: #00af00\">32</span>, <span style=\"color: #00af00; text-decoration-color: #00af00\">64</span>, <span style=\"color: #00af00; text-decoration-color: #00af00\">128</span>)  │       <span style=\"color: #00af00; text-decoration-color: #00af00\">73,856</span> │ max_pooling2d[<span style=\"color: #00af00; text-decoration-color: #00af00\">0</span>][<span style=\"color: #00af00; text-decoration-color: #00af00\">0</span>] │    <span style=\"color: #00af00; text-decoration-color: #00af00; font-weight: bold\">Y</span>    │\n",
              "├────────────────────────┼──────────────────────┼──────────────┼─────────────────────┼─────────┤\n",
              "│ batch_normalization_2  │ (<span style=\"color: #00d7ff; text-decoration-color: #00d7ff\">None</span>, <span style=\"color: #00af00; text-decoration-color: #00af00\">32</span>, <span style=\"color: #00af00; text-decoration-color: #00af00\">64</span>, <span style=\"color: #00af00; text-decoration-color: #00af00\">128</span>)  │          <span style=\"color: #00af00; text-decoration-color: #00af00\">512</span> │ conv2d_3[<span style=\"color: #00af00; text-decoration-color: #00af00\">0</span>][<span style=\"color: #00af00; text-decoration-color: #00af00\">0</span>]      │    <span style=\"color: #00af00; text-decoration-color: #00af00; font-weight: bold\">Y</span>    │\n",
              "│ (<span style=\"color: #0087ff; text-decoration-color: #0087ff\">BatchNormalization</span>)   │                      │              │                     │         │\n",
              "├────────────────────────┼──────────────────────┼──────────────┼─────────────────────┼─────────┤\n",
              "│ activation_2           │ (<span style=\"color: #00d7ff; text-decoration-color: #00d7ff\">None</span>, <span style=\"color: #00af00; text-decoration-color: #00af00\">32</span>, <span style=\"color: #00af00; text-decoration-color: #00af00\">64</span>, <span style=\"color: #00af00; text-decoration-color: #00af00\">128</span>)  │            <span style=\"color: #00af00; text-decoration-color: #00af00\">0</span> │ batch_normalizatio… │    <span style=\"font-weight: bold\">-</span>    │\n",
              "│ (<span style=\"color: #0087ff; text-decoration-color: #0087ff\">Activation</span>)           │                      │              │                     │         │\n",
              "├────────────────────────┼──────────────────────┼──────────────┼─────────────────────┼─────────┤\n",
              "│ conv2d_4 (<span style=\"color: #0087ff; text-decoration-color: #0087ff\">Conv2D</span>)      │ (<span style=\"color: #00d7ff; text-decoration-color: #00d7ff\">None</span>, <span style=\"color: #00af00; text-decoration-color: #00af00\">32</span>, <span style=\"color: #00af00; text-decoration-color: #00af00\">64</span>, <span style=\"color: #00af00; text-decoration-color: #00af00\">128</span>)  │      <span style=\"color: #00af00; text-decoration-color: #00af00\">147,584</span> │ activation_2[<span style=\"color: #00af00; text-decoration-color: #00af00\">0</span>][<span style=\"color: #00af00; text-decoration-color: #00af00\">0</span>]  │    <span style=\"color: #00af00; text-decoration-color: #00af00; font-weight: bold\">Y</span>    │\n",
              "├────────────────────────┼──────────────────────┼──────────────┼─────────────────────┼─────────┤\n",
              "│ conv2d_5 (<span style=\"color: #0087ff; text-decoration-color: #0087ff\">Conv2D</span>)      │ (<span style=\"color: #00d7ff; text-decoration-color: #00d7ff\">None</span>, <span style=\"color: #00af00; text-decoration-color: #00af00\">32</span>, <span style=\"color: #00af00; text-decoration-color: #00af00\">64</span>, <span style=\"color: #00af00; text-decoration-color: #00af00\">128</span>)  │        <span style=\"color: #00af00; text-decoration-color: #00af00\">8,320</span> │ max_pooling2d[<span style=\"color: #00af00; text-decoration-color: #00af00\">0</span>][<span style=\"color: #00af00; text-decoration-color: #00af00\">0</span>] │    <span style=\"color: #00af00; text-decoration-color: #00af00; font-weight: bold\">Y</span>    │\n",
              "├────────────────────────┼──────────────────────┼──────────────┼─────────────────────┼─────────┤\n",
              "│ batch_normalization_3  │ (<span style=\"color: #00d7ff; text-decoration-color: #00d7ff\">None</span>, <span style=\"color: #00af00; text-decoration-color: #00af00\">32</span>, <span style=\"color: #00af00; text-decoration-color: #00af00\">64</span>, <span style=\"color: #00af00; text-decoration-color: #00af00\">128</span>)  │          <span style=\"color: #00af00; text-decoration-color: #00af00\">512</span> │ conv2d_4[<span style=\"color: #00af00; text-decoration-color: #00af00\">0</span>][<span style=\"color: #00af00; text-decoration-color: #00af00\">0</span>]      │    <span style=\"color: #00af00; text-decoration-color: #00af00; font-weight: bold\">Y</span>    │\n",
              "│ (<span style=\"color: #0087ff; text-decoration-color: #0087ff\">BatchNormalization</span>)   │                      │              │                     │         │\n",
              "├────────────────────────┼──────────────────────┼──────────────┼─────────────────────┼─────────┤\n",
              "│ add_1 (<span style=\"color: #0087ff; text-decoration-color: #0087ff\">Add</span>)            │ (<span style=\"color: #00d7ff; text-decoration-color: #00d7ff\">None</span>, <span style=\"color: #00af00; text-decoration-color: #00af00\">32</span>, <span style=\"color: #00af00; text-decoration-color: #00af00\">64</span>, <span style=\"color: #00af00; text-decoration-color: #00af00\">128</span>)  │            <span style=\"color: #00af00; text-decoration-color: #00af00\">0</span> │ conv2d_5[<span style=\"color: #00af00; text-decoration-color: #00af00\">0</span>][<span style=\"color: #00af00; text-decoration-color: #00af00\">0</span>],     │    <span style=\"font-weight: bold\">-</span>    │\n",
              "│                        │                      │              │ batch_normalizatio… │         │\n",
              "├────────────────────────┼──────────────────────┼──────────────┼─────────────────────┼─────────┤\n",
              "│ activation_3           │ (<span style=\"color: #00d7ff; text-decoration-color: #00d7ff\">None</span>, <span style=\"color: #00af00; text-decoration-color: #00af00\">32</span>, <span style=\"color: #00af00; text-decoration-color: #00af00\">64</span>, <span style=\"color: #00af00; text-decoration-color: #00af00\">128</span>)  │            <span style=\"color: #00af00; text-decoration-color: #00af00\">0</span> │ add_1[<span style=\"color: #00af00; text-decoration-color: #00af00\">0</span>][<span style=\"color: #00af00; text-decoration-color: #00af00\">0</span>]         │    <span style=\"font-weight: bold\">-</span>    │\n",
              "│ (<span style=\"color: #0087ff; text-decoration-color: #0087ff\">Activation</span>)           │                      │              │                     │         │\n",
              "├────────────────────────┼──────────────────────┼──────────────┼─────────────────────┼─────────┤\n",
              "│ max_pooling2d_1        │ (<span style=\"color: #00d7ff; text-decoration-color: #00d7ff\">None</span>, <span style=\"color: #00af00; text-decoration-color: #00af00\">16</span>, <span style=\"color: #00af00; text-decoration-color: #00af00\">32</span>, <span style=\"color: #00af00; text-decoration-color: #00af00\">128</span>)  │            <span style=\"color: #00af00; text-decoration-color: #00af00\">0</span> │ activation_3[<span style=\"color: #00af00; text-decoration-color: #00af00\">0</span>][<span style=\"color: #00af00; text-decoration-color: #00af00\">0</span>]  │    <span style=\"font-weight: bold\">-</span>    │\n",
              "│ (<span style=\"color: #0087ff; text-decoration-color: #0087ff\">MaxPooling2D</span>)         │                      │              │                     │         │\n",
              "├────────────────────────┼──────────────────────┼──────────────┼─────────────────────┼─────────┤\n",
              "│ conv2d_6 (<span style=\"color: #0087ff; text-decoration-color: #0087ff\">Conv2D</span>)      │ (<span style=\"color: #00d7ff; text-decoration-color: #00d7ff\">None</span>, <span style=\"color: #00af00; text-decoration-color: #00af00\">16</span>, <span style=\"color: #00af00; text-decoration-color: #00af00\">32</span>, <span style=\"color: #00af00; text-decoration-color: #00af00\">256</span>)  │      <span style=\"color: #00af00; text-decoration-color: #00af00\">295,168</span> │ max_pooling2d_1[<span style=\"color: #00af00; text-decoration-color: #00af00\">0</span>]… │    <span style=\"color: #00af00; text-decoration-color: #00af00; font-weight: bold\">Y</span>    │\n",
              "├────────────────────────┼──────────────────────┼──────────────┼─────────────────────┼─────────┤\n",
              "│ batch_normalization_4  │ (<span style=\"color: #00d7ff; text-decoration-color: #00d7ff\">None</span>, <span style=\"color: #00af00; text-decoration-color: #00af00\">16</span>, <span style=\"color: #00af00; text-decoration-color: #00af00\">32</span>, <span style=\"color: #00af00; text-decoration-color: #00af00\">256</span>)  │        <span style=\"color: #00af00; text-decoration-color: #00af00\">1,024</span> │ conv2d_6[<span style=\"color: #00af00; text-decoration-color: #00af00\">0</span>][<span style=\"color: #00af00; text-decoration-color: #00af00\">0</span>]      │    <span style=\"color: #00af00; text-decoration-color: #00af00; font-weight: bold\">Y</span>    │\n",
              "│ (<span style=\"color: #0087ff; text-decoration-color: #0087ff\">BatchNormalization</span>)   │                      │              │                     │         │\n",
              "├────────────────────────┼──────────────────────┼──────────────┼─────────────────────┼─────────┤\n",
              "│ activation_4           │ (<span style=\"color: #00d7ff; text-decoration-color: #00d7ff\">None</span>, <span style=\"color: #00af00; text-decoration-color: #00af00\">16</span>, <span style=\"color: #00af00; text-decoration-color: #00af00\">32</span>, <span style=\"color: #00af00; text-decoration-color: #00af00\">256</span>)  │            <span style=\"color: #00af00; text-decoration-color: #00af00\">0</span> │ batch_normalizatio… │    <span style=\"font-weight: bold\">-</span>    │\n",
              "│ (<span style=\"color: #0087ff; text-decoration-color: #0087ff\">Activation</span>)           │                      │              │                     │         │\n",
              "├────────────────────────┼──────────────────────┼──────────────┼─────────────────────┼─────────┤\n",
              "│ conv2d_7 (<span style=\"color: #0087ff; text-decoration-color: #0087ff\">Conv2D</span>)      │ (<span style=\"color: #00d7ff; text-decoration-color: #00d7ff\">None</span>, <span style=\"color: #00af00; text-decoration-color: #00af00\">16</span>, <span style=\"color: #00af00; text-decoration-color: #00af00\">32</span>, <span style=\"color: #00af00; text-decoration-color: #00af00\">256</span>)  │      <span style=\"color: #00af00; text-decoration-color: #00af00\">590,080</span> │ activation_4[<span style=\"color: #00af00; text-decoration-color: #00af00\">0</span>][<span style=\"color: #00af00; text-decoration-color: #00af00\">0</span>]  │    <span style=\"color: #00af00; text-decoration-color: #00af00; font-weight: bold\">Y</span>    │\n",
              "├────────────────────────┼──────────────────────┼──────────────┼─────────────────────┼─────────┤\n",
              "│ conv2d_8 (<span style=\"color: #0087ff; text-decoration-color: #0087ff\">Conv2D</span>)      │ (<span style=\"color: #00d7ff; text-decoration-color: #00d7ff\">None</span>, <span style=\"color: #00af00; text-decoration-color: #00af00\">16</span>, <span style=\"color: #00af00; text-decoration-color: #00af00\">32</span>, <span style=\"color: #00af00; text-decoration-color: #00af00\">256</span>)  │       <span style=\"color: #00af00; text-decoration-color: #00af00\">33,024</span> │ max_pooling2d_1[<span style=\"color: #00af00; text-decoration-color: #00af00\">0</span>]… │    <span style=\"color: #00af00; text-decoration-color: #00af00; font-weight: bold\">Y</span>    │\n",
              "├────────────────────────┼──────────────────────┼──────────────┼─────────────────────┼─────────┤\n",
              "│ batch_normalization_5  │ (<span style=\"color: #00d7ff; text-decoration-color: #00d7ff\">None</span>, <span style=\"color: #00af00; text-decoration-color: #00af00\">16</span>, <span style=\"color: #00af00; text-decoration-color: #00af00\">32</span>, <span style=\"color: #00af00; text-decoration-color: #00af00\">256</span>)  │        <span style=\"color: #00af00; text-decoration-color: #00af00\">1,024</span> │ conv2d_7[<span style=\"color: #00af00; text-decoration-color: #00af00\">0</span>][<span style=\"color: #00af00; text-decoration-color: #00af00\">0</span>]      │    <span style=\"color: #00af00; text-decoration-color: #00af00; font-weight: bold\">Y</span>    │\n",
              "│ (<span style=\"color: #0087ff; text-decoration-color: #0087ff\">BatchNormalization</span>)   │                      │              │                     │         │\n",
              "├────────────────────────┼──────────────────────┼──────────────┼─────────────────────┼─────────┤\n",
              "│ add_2 (<span style=\"color: #0087ff; text-decoration-color: #0087ff\">Add</span>)            │ (<span style=\"color: #00d7ff; text-decoration-color: #00d7ff\">None</span>, <span style=\"color: #00af00; text-decoration-color: #00af00\">16</span>, <span style=\"color: #00af00; text-decoration-color: #00af00\">32</span>, <span style=\"color: #00af00; text-decoration-color: #00af00\">256</span>)  │            <span style=\"color: #00af00; text-decoration-color: #00af00\">0</span> │ conv2d_8[<span style=\"color: #00af00; text-decoration-color: #00af00\">0</span>][<span style=\"color: #00af00; text-decoration-color: #00af00\">0</span>],     │    <span style=\"font-weight: bold\">-</span>    │\n",
              "│                        │                      │              │ batch_normalizatio… │         │\n",
              "├────────────────────────┼──────────────────────┼──────────────┼─────────────────────┼─────────┤\n",
              "│ activation_5           │ (<span style=\"color: #00d7ff; text-decoration-color: #00d7ff\">None</span>, <span style=\"color: #00af00; text-decoration-color: #00af00\">16</span>, <span style=\"color: #00af00; text-decoration-color: #00af00\">32</span>, <span style=\"color: #00af00; text-decoration-color: #00af00\">256</span>)  │            <span style=\"color: #00af00; text-decoration-color: #00af00\">0</span> │ add_2[<span style=\"color: #00af00; text-decoration-color: #00af00\">0</span>][<span style=\"color: #00af00; text-decoration-color: #00af00\">0</span>]         │    <span style=\"font-weight: bold\">-</span>    │\n",
              "│ (<span style=\"color: #0087ff; text-decoration-color: #0087ff\">Activation</span>)           │                      │              │                     │         │\n",
              "├────────────────────────┼──────────────────────┼──────────────┼─────────────────────┼─────────┤\n",
              "│ max_pooling2d_2        │ (<span style=\"color: #00d7ff; text-decoration-color: #00d7ff\">None</span>, <span style=\"color: #00af00; text-decoration-color: #00af00\">8</span>, <span style=\"color: #00af00; text-decoration-color: #00af00\">16</span>, <span style=\"color: #00af00; text-decoration-color: #00af00\">256</span>)   │            <span style=\"color: #00af00; text-decoration-color: #00af00\">0</span> │ activation_5[<span style=\"color: #00af00; text-decoration-color: #00af00\">0</span>][<span style=\"color: #00af00; text-decoration-color: #00af00\">0</span>]  │    <span style=\"font-weight: bold\">-</span>    │\n",
              "│ (<span style=\"color: #0087ff; text-decoration-color: #0087ff\">MaxPooling2D</span>)         │                      │              │                     │         │\n",
              "├────────────────────────┼──────────────────────┼──────────────┼─────────────────────┼─────────┤\n",
              "│ conv2d_9 (<span style=\"color: #0087ff; text-decoration-color: #0087ff\">Conv2D</span>)      │ (<span style=\"color: #00d7ff; text-decoration-color: #00d7ff\">None</span>, <span style=\"color: #00af00; text-decoration-color: #00af00\">8</span>, <span style=\"color: #00af00; text-decoration-color: #00af00\">16</span>, <span style=\"color: #00af00; text-decoration-color: #00af00\">512</span>)   │    <span style=\"color: #00af00; text-decoration-color: #00af00\">1,180,160</span> │ max_pooling2d_2[<span style=\"color: #00af00; text-decoration-color: #00af00\">0</span>]… │    <span style=\"color: #00af00; text-decoration-color: #00af00; font-weight: bold\">Y</span>    │\n",
              "├────────────────────────┼──────────────────────┼──────────────┼─────────────────────┼─────────┤\n",
              "│ batch_normalization_6  │ (<span style=\"color: #00d7ff; text-decoration-color: #00d7ff\">None</span>, <span style=\"color: #00af00; text-decoration-color: #00af00\">8</span>, <span style=\"color: #00af00; text-decoration-color: #00af00\">16</span>, <span style=\"color: #00af00; text-decoration-color: #00af00\">512</span>)   │        <span style=\"color: #00af00; text-decoration-color: #00af00\">2,048</span> │ conv2d_9[<span style=\"color: #00af00; text-decoration-color: #00af00\">0</span>][<span style=\"color: #00af00; text-decoration-color: #00af00\">0</span>]      │    <span style=\"color: #00af00; text-decoration-color: #00af00; font-weight: bold\">Y</span>    │\n",
              "│ (<span style=\"color: #0087ff; text-decoration-color: #0087ff\">BatchNormalization</span>)   │                      │              │                     │         │\n",
              "├────────────────────────┼──────────────────────┼──────────────┼─────────────────────┼─────────┤\n",
              "│ activation_6           │ (<span style=\"color: #00d7ff; text-decoration-color: #00d7ff\">None</span>, <span style=\"color: #00af00; text-decoration-color: #00af00\">8</span>, <span style=\"color: #00af00; text-decoration-color: #00af00\">16</span>, <span style=\"color: #00af00; text-decoration-color: #00af00\">512</span>)   │            <span style=\"color: #00af00; text-decoration-color: #00af00\">0</span> │ batch_normalizatio… │    <span style=\"font-weight: bold\">-</span>    │\n",
              "│ (<span style=\"color: #0087ff; text-decoration-color: #0087ff\">Activation</span>)           │                      │              │                     │         │\n",
              "├────────────────────────┼──────────────────────┼──────────────┼─────────────────────┼─────────┤\n",
              "│ conv2d_10 (<span style=\"color: #0087ff; text-decoration-color: #0087ff\">Conv2D</span>)     │ (<span style=\"color: #00d7ff; text-decoration-color: #00d7ff\">None</span>, <span style=\"color: #00af00; text-decoration-color: #00af00\">8</span>, <span style=\"color: #00af00; text-decoration-color: #00af00\">16</span>, <span style=\"color: #00af00; text-decoration-color: #00af00\">512</span>)   │    <span style=\"color: #00af00; text-decoration-color: #00af00\">2,359,808</span> │ activation_6[<span style=\"color: #00af00; text-decoration-color: #00af00\">0</span>][<span style=\"color: #00af00; text-decoration-color: #00af00\">0</span>]  │    <span style=\"color: #00af00; text-decoration-color: #00af00; font-weight: bold\">Y</span>    │\n",
              "├────────────────────────┼──────────────────────┼──────────────┼─────────────────────┼─────────┤\n",
              "│ conv2d_11 (<span style=\"color: #0087ff; text-decoration-color: #0087ff\">Conv2D</span>)     │ (<span style=\"color: #00d7ff; text-decoration-color: #00d7ff\">None</span>, <span style=\"color: #00af00; text-decoration-color: #00af00\">8</span>, <span style=\"color: #00af00; text-decoration-color: #00af00\">16</span>, <span style=\"color: #00af00; text-decoration-color: #00af00\">512</span>)   │      <span style=\"color: #00af00; text-decoration-color: #00af00\">131,584</span> │ max_pooling2d_2[<span style=\"color: #00af00; text-decoration-color: #00af00\">0</span>]… │    <span style=\"color: #00af00; text-decoration-color: #00af00; font-weight: bold\">Y</span>    │\n",
              "├────────────────────────┼──────────────────────┼──────────────┼─────────────────────┼─────────┤\n",
              "│ batch_normalization_7  │ (<span style=\"color: #00d7ff; text-decoration-color: #00d7ff\">None</span>, <span style=\"color: #00af00; text-decoration-color: #00af00\">8</span>, <span style=\"color: #00af00; text-decoration-color: #00af00\">16</span>, <span style=\"color: #00af00; text-decoration-color: #00af00\">512</span>)   │        <span style=\"color: #00af00; text-decoration-color: #00af00\">2,048</span> │ conv2d_10[<span style=\"color: #00af00; text-decoration-color: #00af00\">0</span>][<span style=\"color: #00af00; text-decoration-color: #00af00\">0</span>]     │    <span style=\"color: #00af00; text-decoration-color: #00af00; font-weight: bold\">Y</span>    │\n",
              "│ (<span style=\"color: #0087ff; text-decoration-color: #0087ff\">BatchNormalization</span>)   │                      │              │                     │         │\n",
              "├────────────────────────┼──────────────────────┼──────────────┼─────────────────────┼─────────┤\n",
              "│ add_3 (<span style=\"color: #0087ff; text-decoration-color: #0087ff\">Add</span>)            │ (<span style=\"color: #00d7ff; text-decoration-color: #00d7ff\">None</span>, <span style=\"color: #00af00; text-decoration-color: #00af00\">8</span>, <span style=\"color: #00af00; text-decoration-color: #00af00\">16</span>, <span style=\"color: #00af00; text-decoration-color: #00af00\">512</span>)   │            <span style=\"color: #00af00; text-decoration-color: #00af00\">0</span> │ conv2d_11[<span style=\"color: #00af00; text-decoration-color: #00af00\">0</span>][<span style=\"color: #00af00; text-decoration-color: #00af00\">0</span>],    │    <span style=\"font-weight: bold\">-</span>    │\n",
              "│                        │                      │              │ batch_normalizatio… │         │\n",
              "├────────────────────────┼──────────────────────┼──────────────┼─────────────────────┼─────────┤\n",
              "│ activation_7           │ (<span style=\"color: #00d7ff; text-decoration-color: #00d7ff\">None</span>, <span style=\"color: #00af00; text-decoration-color: #00af00\">8</span>, <span style=\"color: #00af00; text-decoration-color: #00af00\">16</span>, <span style=\"color: #00af00; text-decoration-color: #00af00\">512</span>)   │            <span style=\"color: #00af00; text-decoration-color: #00af00\">0</span> │ add_3[<span style=\"color: #00af00; text-decoration-color: #00af00\">0</span>][<span style=\"color: #00af00; text-decoration-color: #00af00\">0</span>]         │    <span style=\"font-weight: bold\">-</span>    │\n",
              "│ (<span style=\"color: #0087ff; text-decoration-color: #0087ff\">Activation</span>)           │                      │              │                     │         │\n",
              "├────────────────────────┼──────────────────────┼──────────────┼─────────────────────┼─────────┤\n",
              "│ max_pooling2d_3        │ (<span style=\"color: #00d7ff; text-decoration-color: #00d7ff\">None</span>, <span style=\"color: #00af00; text-decoration-color: #00af00\">4</span>, <span style=\"color: #00af00; text-decoration-color: #00af00\">8</span>, <span style=\"color: #00af00; text-decoration-color: #00af00\">512</span>)    │            <span style=\"color: #00af00; text-decoration-color: #00af00\">0</span> │ activation_7[<span style=\"color: #00af00; text-decoration-color: #00af00\">0</span>][<span style=\"color: #00af00; text-decoration-color: #00af00\">0</span>]  │    <span style=\"font-weight: bold\">-</span>    │\n",
              "│ (<span style=\"color: #0087ff; text-decoration-color: #0087ff\">MaxPooling2D</span>)         │                      │              │                     │         │\n",
              "├────────────────────────┼──────────────────────┼──────────────┼─────────────────────┼─────────┤\n",
              "│ bottleneck_conv_0      │ (<span style=\"color: #00d7ff; text-decoration-color: #00d7ff\">None</span>, <span style=\"color: #00af00; text-decoration-color: #00af00\">4</span>, <span style=\"color: #00af00; text-decoration-color: #00af00\">8</span>, <span style=\"color: #00af00; text-decoration-color: #00af00\">1024</span>)   │    <span style=\"color: #00af00; text-decoration-color: #00af00\">4,718,592</span> │ max_pooling2d_3[<span style=\"color: #00af00; text-decoration-color: #00af00\">0</span>]… │    <span style=\"color: #00af00; text-decoration-color: #00af00; font-weight: bold\">Y</span>    │\n",
              "│ (<span style=\"color: #0087ff; text-decoration-color: #0087ff\">Conv2D</span>)               │                      │              │                     │         │\n",
              "├────────────────────────┼──────────────────────┼──────────────┼─────────────────────┼─────────┤\n",
              "│ bottleneck_bn1_0       │ (<span style=\"color: #00d7ff; text-decoration-color: #00d7ff\">None</span>, <span style=\"color: #00af00; text-decoration-color: #00af00\">4</span>, <span style=\"color: #00af00; text-decoration-color: #00af00\">8</span>, <span style=\"color: #00af00; text-decoration-color: #00af00\">1024</span>)   │        <span style=\"color: #00af00; text-decoration-color: #00af00\">4,096</span> │ bottleneck_conv_0[<span style=\"color: #00af00; text-decoration-color: #00af00\">…</span> │    <span style=\"color: #00af00; text-decoration-color: #00af00; font-weight: bold\">Y</span>    │\n",
              "│ (<span style=\"color: #0087ff; text-decoration-color: #0087ff\">BatchNormalization</span>)   │                      │              │                     │         │\n",
              "├────────────────────────┼──────────────────────┼──────────────┼─────────────────────┼─────────┤\n",
              "│ bottleneck_activation… │ (<span style=\"color: #00d7ff; text-decoration-color: #00d7ff\">None</span>, <span style=\"color: #00af00; text-decoration-color: #00af00\">4</span>, <span style=\"color: #00af00; text-decoration-color: #00af00\">8</span>, <span style=\"color: #00af00; text-decoration-color: #00af00\">1024</span>)   │            <span style=\"color: #00af00; text-decoration-color: #00af00\">0</span> │ bottleneck_bn1_0[<span style=\"color: #00af00; text-decoration-color: #00af00\">0</span>… │    <span style=\"font-weight: bold\">-</span>    │\n",
              "│ (<span style=\"color: #0087ff; text-decoration-color: #0087ff\">Activation</span>)           │                      │              │                     │         │\n",
              "├────────────────────────┼──────────────────────┼──────────────┼─────────────────────┼─────────┤\n",
              "│ bottleneck_squeeze_0   │ (<span style=\"color: #00d7ff; text-decoration-color: #00d7ff\">None</span>, <span style=\"color: #00af00; text-decoration-color: #00af00\">1024</span>)         │            <span style=\"color: #00af00; text-decoration-color: #00af00\">0</span> │ bottleneck_activat… │    <span style=\"font-weight: bold\">-</span>    │\n",
              "│ (<span style=\"color: #0087ff; text-decoration-color: #0087ff\">GlobalAveragePooling…</span> │                      │              │                     │         │\n",
              "├────────────────────────┼──────────────────────┼──────────────┼─────────────────────┼─────────┤\n",
              "│ bottleneck_dense1_0    │ (<span style=\"color: #00d7ff; text-decoration-color: #00d7ff\">None</span>, <span style=\"color: #00af00; text-decoration-color: #00af00\">64</span>)           │       <span style=\"color: #00af00; text-decoration-color: #00af00\">65,600</span> │ bottleneck_squeeze… │    <span style=\"color: #00af00; text-decoration-color: #00af00; font-weight: bold\">Y</span>    │\n",
              "│ (<span style=\"color: #0087ff; text-decoration-color: #0087ff\">Dense</span>)                │                      │              │                     │         │\n",
              "├────────────────────────┼──────────────────────┼──────────────┼─────────────────────┼─────────┤\n",
              "│ bottleneck_dense2_0    │ (<span style=\"color: #00d7ff; text-decoration-color: #00d7ff\">None</span>, <span style=\"color: #00af00; text-decoration-color: #00af00\">1024</span>)         │       <span style=\"color: #00af00; text-decoration-color: #00af00\">66,560</span> │ bottleneck_dense1_… │    <span style=\"color: #00af00; text-decoration-color: #00af00; font-weight: bold\">Y</span>    │\n",
              "│ (<span style=\"color: #0087ff; text-decoration-color: #0087ff\">Dense</span>)                │                      │              │                     │         │\n",
              "├────────────────────────┼──────────────────────┼──────────────┼─────────────────────┼─────────┤\n",
              "│ reshape (<span style=\"color: #0087ff; text-decoration-color: #0087ff\">Reshape</span>)      │ (<span style=\"color: #00d7ff; text-decoration-color: #00d7ff\">None</span>, <span style=\"color: #00af00; text-decoration-color: #00af00\">1</span>, <span style=\"color: #00af00; text-decoration-color: #00af00\">1</span>, <span style=\"color: #00af00; text-decoration-color: #00af00\">1024</span>)   │            <span style=\"color: #00af00; text-decoration-color: #00af00\">0</span> │ bottleneck_dense2_… │    <span style=\"font-weight: bold\">-</span>    │\n",
              "├────────────────────────┼──────────────────────┼──────────────┼─────────────────────┼─────────┤\n",
              "│ bottleneck_scale_0     │ (<span style=\"color: #00d7ff; text-decoration-color: #00d7ff\">None</span>, <span style=\"color: #00af00; text-decoration-color: #00af00\">4</span>, <span style=\"color: #00af00; text-decoration-color: #00af00\">8</span>, <span style=\"color: #00af00; text-decoration-color: #00af00\">1024</span>)   │            <span style=\"color: #00af00; text-decoration-color: #00af00\">0</span> │ bottleneck_activat… │    <span style=\"font-weight: bold\">-</span>    │\n",
              "│ (<span style=\"color: #0087ff; text-decoration-color: #0087ff\">Multiply</span>)             │                      │              │ reshape[<span style=\"color: #00af00; text-decoration-color: #00af00\">0</span>][<span style=\"color: #00af00; text-decoration-color: #00af00\">0</span>]       │         │\n",
              "├────────────────────────┼──────────────────────┼──────────────┼─────────────────────┼─────────┤\n",
              "│ conv2d_12 (<span style=\"color: #0087ff; text-decoration-color: #0087ff\">Conv2D</span>)     │ (<span style=\"color: #00d7ff; text-decoration-color: #00d7ff\">None</span>, <span style=\"color: #00af00; text-decoration-color: #00af00\">4</span>, <span style=\"color: #00af00; text-decoration-color: #00af00\">8</span>, <span style=\"color: #00af00; text-decoration-color: #00af00\">512</span>)    │      <span style=\"color: #00af00; text-decoration-color: #00af00\">524,800</span> │ bottleneck_scale_0… │    <span style=\"color: #00af00; text-decoration-color: #00af00; font-weight: bold\">Y</span>    │\n",
              "├────────────────────────┼──────────────────────┼──────────────┼─────────────────────┼─────────┤\n",
              "│ batch_normalization_8  │ (<span style=\"color: #00d7ff; text-decoration-color: #00d7ff\">None</span>, <span style=\"color: #00af00; text-decoration-color: #00af00\">4</span>, <span style=\"color: #00af00; text-decoration-color: #00af00\">8</span>, <span style=\"color: #00af00; text-decoration-color: #00af00\">512</span>)    │        <span style=\"color: #00af00; text-decoration-color: #00af00\">2,048</span> │ conv2d_12[<span style=\"color: #00af00; text-decoration-color: #00af00\">0</span>][<span style=\"color: #00af00; text-decoration-color: #00af00\">0</span>]     │    <span style=\"color: #00af00; text-decoration-color: #00af00; font-weight: bold\">Y</span>    │\n",
              "│ (<span style=\"color: #0087ff; text-decoration-color: #0087ff\">BatchNormalization</span>)   │                      │              │                     │         │\n",
              "├────────────────────────┼──────────────────────┼──────────────┼─────────────────────┼─────────┤\n",
              "│ activation_8           │ (<span style=\"color: #00d7ff; text-decoration-color: #00d7ff\">None</span>, <span style=\"color: #00af00; text-decoration-color: #00af00\">4</span>, <span style=\"color: #00af00; text-decoration-color: #00af00\">8</span>, <span style=\"color: #00af00; text-decoration-color: #00af00\">512</span>)    │            <span style=\"color: #00af00; text-decoration-color: #00af00\">0</span> │ batch_normalizatio… │    <span style=\"font-weight: bold\">-</span>    │\n",
              "│ (<span style=\"color: #0087ff; text-decoration-color: #0087ff\">Activation</span>)           │                      │              │                     │         │\n",
              "├────────────────────────┼──────────────────────┼──────────────┼─────────────────────┼─────────┤\n",
              "│ conv2d_14 (<span style=\"color: #0087ff; text-decoration-color: #0087ff\">Conv2D</span>)     │ (<span style=\"color: #00d7ff; text-decoration-color: #00d7ff\">None</span>, <span style=\"color: #00af00; text-decoration-color: #00af00\">4</span>, <span style=\"color: #00af00; text-decoration-color: #00af00\">8</span>, <span style=\"color: #00af00; text-decoration-color: #00af00\">512</span>)    │      <span style=\"color: #00af00; text-decoration-color: #00af00\">262,656</span> │ activation_8[<span style=\"color: #00af00; text-decoration-color: #00af00\">0</span>][<span style=\"color: #00af00; text-decoration-color: #00af00\">0</span>]  │    <span style=\"color: #00af00; text-decoration-color: #00af00; font-weight: bold\">Y</span>    │\n",
              "├────────────────────────┼──────────────────────┼──────────────┼─────────────────────┼─────────┤\n",
              "│ conv2d_transpose       │ (<span style=\"color: #00d7ff; text-decoration-color: #00d7ff\">None</span>, <span style=\"color: #00af00; text-decoration-color: #00af00\">4</span>, <span style=\"color: #00af00; text-decoration-color: #00af00\">8</span>, <span style=\"color: #00af00; text-decoration-color: #00af00\">512</span>)    │    <span style=\"color: #00af00; text-decoration-color: #00af00\">2,359,808</span> │ conv2d_14[<span style=\"color: #00af00; text-decoration-color: #00af00\">0</span>][<span style=\"color: #00af00; text-decoration-color: #00af00\">0</span>]     │    <span style=\"color: #00af00; text-decoration-color: #00af00; font-weight: bold\">Y</span>    │\n",
              "│ (<span style=\"color: #0087ff; text-decoration-color: #0087ff\">Conv2DTranspose</span>)      │                      │              │                     │         │\n",
              "├────────────────────────┼──────────────────────┼──────────────┼─────────────────────┼─────────┤\n",
              "│ conv2d_13 (<span style=\"color: #0087ff; text-decoration-color: #0087ff\">Conv2D</span>)     │ (<span style=\"color: #00d7ff; text-decoration-color: #00d7ff\">None</span>, <span style=\"color: #00af00; text-decoration-color: #00af00\">4</span>, <span style=\"color: #00af00; text-decoration-color: #00af00\">8</span>, <span style=\"color: #00af00; text-decoration-color: #00af00\">512</span>)    │    <span style=\"color: #00af00; text-decoration-color: #00af00\">1,049,088</span> │ activation_7[<span style=\"color: #00af00; text-decoration-color: #00af00\">0</span>][<span style=\"color: #00af00; text-decoration-color: #00af00\">0</span>]  │    <span style=\"color: #00af00; text-decoration-color: #00af00; font-weight: bold\">Y</span>    │\n",
              "├────────────────────────┼──────────────────────┼──────────────┼─────────────────────┼─────────┤\n",
              "│ add_4 (<span style=\"color: #0087ff; text-decoration-color: #0087ff\">Add</span>)            │ (<span style=\"color: #00d7ff; text-decoration-color: #00d7ff\">None</span>, <span style=\"color: #00af00; text-decoration-color: #00af00\">4</span>, <span style=\"color: #00af00; text-decoration-color: #00af00\">8</span>, <span style=\"color: #00af00; text-decoration-color: #00af00\">512</span>)    │            <span style=\"color: #00af00; text-decoration-color: #00af00\">0</span> │ conv2d_transpose[<span style=\"color: #00af00; text-decoration-color: #00af00\">0</span>… │    <span style=\"font-weight: bold\">-</span>    │\n",
              "│                        │                      │              │ conv2d_13[<span style=\"color: #00af00; text-decoration-color: #00af00\">0</span>][<span style=\"color: #00af00; text-decoration-color: #00af00\">0</span>]     │         │\n",
              "├────────────────────────┼──────────────────────┼──────────────┼─────────────────────┼─────────┤\n",
              "│ activation_9           │ (<span style=\"color: #00d7ff; text-decoration-color: #00d7ff\">None</span>, <span style=\"color: #00af00; text-decoration-color: #00af00\">4</span>, <span style=\"color: #00af00; text-decoration-color: #00af00\">8</span>, <span style=\"color: #00af00; text-decoration-color: #00af00\">512</span>)    │            <span style=\"color: #00af00; text-decoration-color: #00af00\">0</span> │ add_4[<span style=\"color: #00af00; text-decoration-color: #00af00\">0</span>][<span style=\"color: #00af00; text-decoration-color: #00af00\">0</span>]         │    <span style=\"font-weight: bold\">-</span>    │\n",
              "│ (<span style=\"color: #0087ff; text-decoration-color: #0087ff\">Activation</span>)           │                      │              │                     │         │\n",
              "├────────────────────────┼──────────────────────┼──────────────┼─────────────────────┼─────────┤\n",
              "│ conv2d_15 (<span style=\"color: #0087ff; text-decoration-color: #0087ff\">Conv2D</span>)     │ (<span style=\"color: #00d7ff; text-decoration-color: #00d7ff\">None</span>, <span style=\"color: #00af00; text-decoration-color: #00af00\">4</span>, <span style=\"color: #00af00; text-decoration-color: #00af00\">8</span>, <span style=\"color: #00af00; text-decoration-color: #00af00\">1</span>)      │          <span style=\"color: #00af00; text-decoration-color: #00af00\">513</span> │ activation_9[<span style=\"color: #00af00; text-decoration-color: #00af00\">0</span>][<span style=\"color: #00af00; text-decoration-color: #00af00\">0</span>]  │    <span style=\"color: #00af00; text-decoration-color: #00af00; font-weight: bold\">Y</span>    │\n",
              "├────────────────────────┼──────────────────────┼──────────────┼─────────────────────┼─────────┤\n",
              "│ activation_10          │ (<span style=\"color: #00d7ff; text-decoration-color: #00d7ff\">None</span>, <span style=\"color: #00af00; text-decoration-color: #00af00\">4</span>, <span style=\"color: #00af00; text-decoration-color: #00af00\">8</span>, <span style=\"color: #00af00; text-decoration-color: #00af00\">1</span>)      │            <span style=\"color: #00af00; text-decoration-color: #00af00\">0</span> │ conv2d_15[<span style=\"color: #00af00; text-decoration-color: #00af00\">0</span>][<span style=\"color: #00af00; text-decoration-color: #00af00\">0</span>]     │    <span style=\"font-weight: bold\">-</span>    │\n",
              "│ (<span style=\"color: #0087ff; text-decoration-color: #0087ff\">Activation</span>)           │                      │              │                     │         │\n",
              "├────────────────────────┼──────────────────────┼──────────────┼─────────────────────┼─────────┤\n",
              "│ up_sampling2d          │ (<span style=\"color: #00d7ff; text-decoration-color: #00d7ff\">None</span>, <span style=\"color: #00af00; text-decoration-color: #00af00\">8</span>, <span style=\"color: #00af00; text-decoration-color: #00af00\">16</span>, <span style=\"color: #00af00; text-decoration-color: #00af00\">1</span>)     │            <span style=\"color: #00af00; text-decoration-color: #00af00\">0</span> │ activation_10[<span style=\"color: #00af00; text-decoration-color: #00af00\">0</span>][<span style=\"color: #00af00; text-decoration-color: #00af00\">0</span>] │    <span style=\"font-weight: bold\">-</span>    │\n",
              "│ (<span style=\"color: #0087ff; text-decoration-color: #0087ff\">UpSampling2D</span>)         │                      │              │                     │         │\n",
              "├────────────────────────┼──────────────────────┼──────────────┼─────────────────────┼─────────┤\n",
              "│ lambda (<span style=\"color: #0087ff; text-decoration-color: #0087ff\">Lambda</span>)        │ (<span style=\"color: #00d7ff; text-decoration-color: #00d7ff\">None</span>, <span style=\"color: #00af00; text-decoration-color: #00af00\">8</span>, <span style=\"color: #00af00; text-decoration-color: #00af00\">16</span>, <span style=\"color: #00af00; text-decoration-color: #00af00\">512</span>)   │            <span style=\"color: #00af00; text-decoration-color: #00af00\">0</span> │ up_sampling2d[<span style=\"color: #00af00; text-decoration-color: #00af00\">0</span>][<span style=\"color: #00af00; text-decoration-color: #00af00\">0</span>] │    <span style=\"font-weight: bold\">-</span>    │\n",
              "├────────────────────────┼──────────────────────┼──────────────┼─────────────────────┼─────────┤\n",
              "│ multiply (<span style=\"color: #0087ff; text-decoration-color: #0087ff\">Multiply</span>)    │ (<span style=\"color: #00d7ff; text-decoration-color: #00d7ff\">None</span>, <span style=\"color: #00af00; text-decoration-color: #00af00\">8</span>, <span style=\"color: #00af00; text-decoration-color: #00af00\">16</span>, <span style=\"color: #00af00; text-decoration-color: #00af00\">512</span>)   │            <span style=\"color: #00af00; text-decoration-color: #00af00\">0</span> │ lambda[<span style=\"color: #00af00; text-decoration-color: #00af00\">0</span>][<span style=\"color: #00af00; text-decoration-color: #00af00\">0</span>],       │    <span style=\"font-weight: bold\">-</span>    │\n",
              "│                        │                      │              │ activation_7[<span style=\"color: #00af00; text-decoration-color: #00af00\">0</span>][<span style=\"color: #00af00; text-decoration-color: #00af00\">0</span>]  │         │\n",
              "├────────────────────────┼──────────────────────┼──────────────┼─────────────────────┼─────────┤\n",
              "│ conv2d_16 (<span style=\"color: #0087ff; text-decoration-color: #0087ff\">Conv2D</span>)     │ (<span style=\"color: #00d7ff; text-decoration-color: #00d7ff\">None</span>, <span style=\"color: #00af00; text-decoration-color: #00af00\">8</span>, <span style=\"color: #00af00; text-decoration-color: #00af00\">16</span>, <span style=\"color: #00af00; text-decoration-color: #00af00\">512</span>)   │      <span style=\"color: #00af00; text-decoration-color: #00af00\">262,656</span> │ multiply[<span style=\"color: #00af00; text-decoration-color: #00af00\">0</span>][<span style=\"color: #00af00; text-decoration-color: #00af00\">0</span>]      │    <span style=\"color: #00af00; text-decoration-color: #00af00; font-weight: bold\">Y</span>    │\n",
              "├────────────────────────┼──────────────────────┼──────────────┼─────────────────────┼─────────┤\n",
              "│ up_sampling2d_1        │ (<span style=\"color: #00d7ff; text-decoration-color: #00d7ff\">None</span>, <span style=\"color: #00af00; text-decoration-color: #00af00\">8</span>, <span style=\"color: #00af00; text-decoration-color: #00af00\">16</span>, <span style=\"color: #00af00; text-decoration-color: #00af00\">1024</span>)  │            <span style=\"color: #00af00; text-decoration-color: #00af00\">0</span> │ bottleneck_scale_0… │    <span style=\"font-weight: bold\">-</span>    │\n",
              "│ (<span style=\"color: #0087ff; text-decoration-color: #0087ff\">UpSampling2D</span>)         │                      │              │                     │         │\n",
              "├────────────────────────┼──────────────────────┼──────────────┼─────────────────────┼─────────┤\n",
              "│ batch_normalization_9  │ (<span style=\"color: #00d7ff; text-decoration-color: #00d7ff\">None</span>, <span style=\"color: #00af00; text-decoration-color: #00af00\">8</span>, <span style=\"color: #00af00; text-decoration-color: #00af00\">16</span>, <span style=\"color: #00af00; text-decoration-color: #00af00\">512</span>)   │        <span style=\"color: #00af00; text-decoration-color: #00af00\">2,048</span> │ conv2d_16[<span style=\"color: #00af00; text-decoration-color: #00af00\">0</span>][<span style=\"color: #00af00; text-decoration-color: #00af00\">0</span>]     │    <span style=\"color: #00af00; text-decoration-color: #00af00; font-weight: bold\">Y</span>    │\n",
              "│ (<span style=\"color: #0087ff; text-decoration-color: #0087ff\">BatchNormalization</span>)   │                      │              │                     │         │\n",
              "├────────────────────────┼──────────────────────┼──────────────┼─────────────────────┼─────────┤\n",
              "│ concatenate            │ (<span style=\"color: #00d7ff; text-decoration-color: #00d7ff\">None</span>, <span style=\"color: #00af00; text-decoration-color: #00af00\">8</span>, <span style=\"color: #00af00; text-decoration-color: #00af00\">16</span>, <span style=\"color: #00af00; text-decoration-color: #00af00\">1536</span>)  │            <span style=\"color: #00af00; text-decoration-color: #00af00\">0</span> │ up_sampling2d_1[<span style=\"color: #00af00; text-decoration-color: #00af00\">0</span>]… │    <span style=\"font-weight: bold\">-</span>    │\n",
              "│ (<span style=\"color: #0087ff; text-decoration-color: #0087ff\">Concatenate</span>)          │                      │              │ batch_normalizatio… │         │\n",
              "├────────────────────────┼──────────────────────┼──────────────┼─────────────────────┼─────────┤\n",
              "│ conv2d_17 (<span style=\"color: #0087ff; text-decoration-color: #0087ff\">Conv2D</span>)     │ (<span style=\"color: #00d7ff; text-decoration-color: #00d7ff\">None</span>, <span style=\"color: #00af00; text-decoration-color: #00af00\">8</span>, <span style=\"color: #00af00; text-decoration-color: #00af00\">16</span>, <span style=\"color: #00af00; text-decoration-color: #00af00\">512</span>)   │    <span style=\"color: #00af00; text-decoration-color: #00af00\">7,078,400</span> │ concatenate[<span style=\"color: #00af00; text-decoration-color: #00af00\">0</span>][<span style=\"color: #00af00; text-decoration-color: #00af00\">0</span>]   │    <span style=\"color: #00af00; text-decoration-color: #00af00; font-weight: bold\">Y</span>    │\n",
              "├────────────────────────┼──────────────────────┼──────────────┼─────────────────────┼─────────┤\n",
              "│ batch_normalization_10 │ (<span style=\"color: #00d7ff; text-decoration-color: #00d7ff\">None</span>, <span style=\"color: #00af00; text-decoration-color: #00af00\">8</span>, <span style=\"color: #00af00; text-decoration-color: #00af00\">16</span>, <span style=\"color: #00af00; text-decoration-color: #00af00\">512</span>)   │        <span style=\"color: #00af00; text-decoration-color: #00af00\">2,048</span> │ conv2d_17[<span style=\"color: #00af00; text-decoration-color: #00af00\">0</span>][<span style=\"color: #00af00; text-decoration-color: #00af00\">0</span>]     │    <span style=\"color: #00af00; text-decoration-color: #00af00; font-weight: bold\">Y</span>    │\n",
              "│ (<span style=\"color: #0087ff; text-decoration-color: #0087ff\">BatchNormalization</span>)   │                      │              │                     │         │\n",
              "├────────────────────────┼──────────────────────┼──────────────┼─────────────────────┼─────────┤\n",
              "│ activation_11          │ (<span style=\"color: #00d7ff; text-decoration-color: #00d7ff\">None</span>, <span style=\"color: #00af00; text-decoration-color: #00af00\">8</span>, <span style=\"color: #00af00; text-decoration-color: #00af00\">16</span>, <span style=\"color: #00af00; text-decoration-color: #00af00\">512</span>)   │            <span style=\"color: #00af00; text-decoration-color: #00af00\">0</span> │ batch_normalizatio… │    <span style=\"font-weight: bold\">-</span>    │\n",
              "│ (<span style=\"color: #0087ff; text-decoration-color: #0087ff\">Activation</span>)           │                      │              │                     │         │\n",
              "├────────────────────────┼──────────────────────┼──────────────┼─────────────────────┼─────────┤\n",
              "│ conv2d_18 (<span style=\"color: #0087ff; text-decoration-color: #0087ff\">Conv2D</span>)     │ (<span style=\"color: #00d7ff; text-decoration-color: #00d7ff\">None</span>, <span style=\"color: #00af00; text-decoration-color: #00af00\">8</span>, <span style=\"color: #00af00; text-decoration-color: #00af00\">16</span>, <span style=\"color: #00af00; text-decoration-color: #00af00\">512</span>)   │    <span style=\"color: #00af00; text-decoration-color: #00af00\">2,359,808</span> │ activation_11[<span style=\"color: #00af00; text-decoration-color: #00af00\">0</span>][<span style=\"color: #00af00; text-decoration-color: #00af00\">0</span>] │    <span style=\"color: #00af00; text-decoration-color: #00af00; font-weight: bold\">Y</span>    │\n",
              "├────────────────────────┼──────────────────────┼──────────────┼─────────────────────┼─────────┤\n",
              "│ conv2d_19 (<span style=\"color: #0087ff; text-decoration-color: #0087ff\">Conv2D</span>)     │ (<span style=\"color: #00d7ff; text-decoration-color: #00d7ff\">None</span>, <span style=\"color: #00af00; text-decoration-color: #00af00\">8</span>, <span style=\"color: #00af00; text-decoration-color: #00af00\">16</span>, <span style=\"color: #00af00; text-decoration-color: #00af00\">512</span>)   │      <span style=\"color: #00af00; text-decoration-color: #00af00\">786,944</span> │ concatenate[<span style=\"color: #00af00; text-decoration-color: #00af00\">0</span>][<span style=\"color: #00af00; text-decoration-color: #00af00\">0</span>]   │    <span style=\"color: #00af00; text-decoration-color: #00af00; font-weight: bold\">Y</span>    │\n",
              "├────────────────────────┼──────────────────────┼──────────────┼─────────────────────┼─────────┤\n",
              "│ batch_normalization_11 │ (<span style=\"color: #00d7ff; text-decoration-color: #00d7ff\">None</span>, <span style=\"color: #00af00; text-decoration-color: #00af00\">8</span>, <span style=\"color: #00af00; text-decoration-color: #00af00\">16</span>, <span style=\"color: #00af00; text-decoration-color: #00af00\">512</span>)   │        <span style=\"color: #00af00; text-decoration-color: #00af00\">2,048</span> │ conv2d_18[<span style=\"color: #00af00; text-decoration-color: #00af00\">0</span>][<span style=\"color: #00af00; text-decoration-color: #00af00\">0</span>]     │    <span style=\"color: #00af00; text-decoration-color: #00af00; font-weight: bold\">Y</span>    │\n",
              "│ (<span style=\"color: #0087ff; text-decoration-color: #0087ff\">BatchNormalization</span>)   │                      │              │                     │         │\n",
              "├────────────────────────┼──────────────────────┼──────────────┼─────────────────────┼─────────┤\n",
              "│ add_5 (<span style=\"color: #0087ff; text-decoration-color: #0087ff\">Add</span>)            │ (<span style=\"color: #00d7ff; text-decoration-color: #00d7ff\">None</span>, <span style=\"color: #00af00; text-decoration-color: #00af00\">8</span>, <span style=\"color: #00af00; text-decoration-color: #00af00\">16</span>, <span style=\"color: #00af00; text-decoration-color: #00af00\">512</span>)   │            <span style=\"color: #00af00; text-decoration-color: #00af00\">0</span> │ conv2d_19[<span style=\"color: #00af00; text-decoration-color: #00af00\">0</span>][<span style=\"color: #00af00; text-decoration-color: #00af00\">0</span>],    │    <span style=\"font-weight: bold\">-</span>    │\n",
              "│                        │                      │              │ batch_normalizatio… │         │\n",
              "├────────────────────────┼──────────────────────┼──────────────┼─────────────────────┼─────────┤\n",
              "│ activation_12          │ (<span style=\"color: #00d7ff; text-decoration-color: #00d7ff\">None</span>, <span style=\"color: #00af00; text-decoration-color: #00af00\">8</span>, <span style=\"color: #00af00; text-decoration-color: #00af00\">16</span>, <span style=\"color: #00af00; text-decoration-color: #00af00\">512</span>)   │            <span style=\"color: #00af00; text-decoration-color: #00af00\">0</span> │ add_5[<span style=\"color: #00af00; text-decoration-color: #00af00\">0</span>][<span style=\"color: #00af00; text-decoration-color: #00af00\">0</span>]         │    <span style=\"font-weight: bold\">-</span>    │\n",
              "│ (<span style=\"color: #0087ff; text-decoration-color: #0087ff\">Activation</span>)           │                      │              │                     │         │\n",
              "├────────────────────────┼──────────────────────┼──────────────┼─────────────────────┼─────────┤\n",
              "│ conv2d_20 (<span style=\"color: #0087ff; text-decoration-color: #0087ff\">Conv2D</span>)     │ (<span style=\"color: #00d7ff; text-decoration-color: #00d7ff\">None</span>, <span style=\"color: #00af00; text-decoration-color: #00af00\">8</span>, <span style=\"color: #00af00; text-decoration-color: #00af00\">16</span>, <span style=\"color: #00af00; text-decoration-color: #00af00\">256</span>)   │      <span style=\"color: #00af00; text-decoration-color: #00af00\">131,328</span> │ activation_12[<span style=\"color: #00af00; text-decoration-color: #00af00\">0</span>][<span style=\"color: #00af00; text-decoration-color: #00af00\">0</span>] │    <span style=\"color: #00af00; text-decoration-color: #00af00; font-weight: bold\">Y</span>    │\n",
              "├────────────────────────┼──────────────────────┼──────────────┼─────────────────────┼─────────┤\n",
              "│ batch_normalization_12 │ (<span style=\"color: #00d7ff; text-decoration-color: #00d7ff\">None</span>, <span style=\"color: #00af00; text-decoration-color: #00af00\">8</span>, <span style=\"color: #00af00; text-decoration-color: #00af00\">16</span>, <span style=\"color: #00af00; text-decoration-color: #00af00\">256</span>)   │        <span style=\"color: #00af00; text-decoration-color: #00af00\">1,024</span> │ conv2d_20[<span style=\"color: #00af00; text-decoration-color: #00af00\">0</span>][<span style=\"color: #00af00; text-decoration-color: #00af00\">0</span>]     │    <span style=\"color: #00af00; text-decoration-color: #00af00; font-weight: bold\">Y</span>    │\n",
              "│ (<span style=\"color: #0087ff; text-decoration-color: #0087ff\">BatchNormalization</span>)   │                      │              │                     │         │\n",
              "├────────────────────────┼──────────────────────┼──────────────┼─────────────────────┼─────────┤\n",
              "│ activation_13          │ (<span style=\"color: #00d7ff; text-decoration-color: #00d7ff\">None</span>, <span style=\"color: #00af00; text-decoration-color: #00af00\">8</span>, <span style=\"color: #00af00; text-decoration-color: #00af00\">16</span>, <span style=\"color: #00af00; text-decoration-color: #00af00\">256</span>)   │            <span style=\"color: #00af00; text-decoration-color: #00af00\">0</span> │ batch_normalizatio… │    <span style=\"font-weight: bold\">-</span>    │\n",
              "│ (<span style=\"color: #0087ff; text-decoration-color: #0087ff\">Activation</span>)           │                      │              │                     │         │\n",
              "├────────────────────────┼──────────────────────┼──────────────┼─────────────────────┼─────────┤\n",
              "│ conv2d_22 (<span style=\"color: #0087ff; text-decoration-color: #0087ff\">Conv2D</span>)     │ (<span style=\"color: #00d7ff; text-decoration-color: #00d7ff\">None</span>, <span style=\"color: #00af00; text-decoration-color: #00af00\">8</span>, <span style=\"color: #00af00; text-decoration-color: #00af00\">16</span>, <span style=\"color: #00af00; text-decoration-color: #00af00\">256</span>)   │       <span style=\"color: #00af00; text-decoration-color: #00af00\">65,792</span> │ activation_13[<span style=\"color: #00af00; text-decoration-color: #00af00\">0</span>][<span style=\"color: #00af00; text-decoration-color: #00af00\">0</span>] │    <span style=\"color: #00af00; text-decoration-color: #00af00; font-weight: bold\">Y</span>    │\n",
              "├────────────────────────┼──────────────────────┼──────────────┼─────────────────────┼─────────┤\n",
              "│ conv2d_transpose_1     │ (<span style=\"color: #00d7ff; text-decoration-color: #00d7ff\">None</span>, <span style=\"color: #00af00; text-decoration-color: #00af00\">8</span>, <span style=\"color: #00af00; text-decoration-color: #00af00\">16</span>, <span style=\"color: #00af00; text-decoration-color: #00af00\">256</span>)   │      <span style=\"color: #00af00; text-decoration-color: #00af00\">590,080</span> │ conv2d_22[<span style=\"color: #00af00; text-decoration-color: #00af00\">0</span>][<span style=\"color: #00af00; text-decoration-color: #00af00\">0</span>]     │    <span style=\"color: #00af00; text-decoration-color: #00af00; font-weight: bold\">Y</span>    │\n",
              "│ (<span style=\"color: #0087ff; text-decoration-color: #0087ff\">Conv2DTranspose</span>)      │                      │              │                     │         │\n",
              "├────────────────────────┼──────────────────────┼──────────────┼─────────────────────┼─────────┤\n",
              "│ conv2d_21 (<span style=\"color: #0087ff; text-decoration-color: #0087ff\">Conv2D</span>)     │ (<span style=\"color: #00d7ff; text-decoration-color: #00d7ff\">None</span>, <span style=\"color: #00af00; text-decoration-color: #00af00\">8</span>, <span style=\"color: #00af00; text-decoration-color: #00af00\">16</span>, <span style=\"color: #00af00; text-decoration-color: #00af00\">256</span>)   │      <span style=\"color: #00af00; text-decoration-color: #00af00\">262,400</span> │ activation_5[<span style=\"color: #00af00; text-decoration-color: #00af00\">0</span>][<span style=\"color: #00af00; text-decoration-color: #00af00\">0</span>]  │    <span style=\"color: #00af00; text-decoration-color: #00af00; font-weight: bold\">Y</span>    │\n",
              "├────────────────────────┼──────────────────────┼──────────────┼─────────────────────┼─────────┤\n",
              "│ add_6 (<span style=\"color: #0087ff; text-decoration-color: #0087ff\">Add</span>)            │ (<span style=\"color: #00d7ff; text-decoration-color: #00d7ff\">None</span>, <span style=\"color: #00af00; text-decoration-color: #00af00\">8</span>, <span style=\"color: #00af00; text-decoration-color: #00af00\">16</span>, <span style=\"color: #00af00; text-decoration-color: #00af00\">256</span>)   │            <span style=\"color: #00af00; text-decoration-color: #00af00\">0</span> │ conv2d_transpose_1… │    <span style=\"font-weight: bold\">-</span>    │\n",
              "│                        │                      │              │ conv2d_21[<span style=\"color: #00af00; text-decoration-color: #00af00\">0</span>][<span style=\"color: #00af00; text-decoration-color: #00af00\">0</span>]     │         │\n",
              "├────────────────────────┼──────────────────────┼──────────────┼─────────────────────┼─────────┤\n",
              "│ activation_14          │ (<span style=\"color: #00d7ff; text-decoration-color: #00d7ff\">None</span>, <span style=\"color: #00af00; text-decoration-color: #00af00\">8</span>, <span style=\"color: #00af00; text-decoration-color: #00af00\">16</span>, <span style=\"color: #00af00; text-decoration-color: #00af00\">256</span>)   │            <span style=\"color: #00af00; text-decoration-color: #00af00\">0</span> │ add_6[<span style=\"color: #00af00; text-decoration-color: #00af00\">0</span>][<span style=\"color: #00af00; text-decoration-color: #00af00\">0</span>]         │    <span style=\"font-weight: bold\">-</span>    │\n",
              "│ (<span style=\"color: #0087ff; text-decoration-color: #0087ff\">Activation</span>)           │                      │              │                     │         │\n",
              "├────────────────────────┼──────────────────────┼──────────────┼─────────────────────┼─────────┤\n",
              "│ conv2d_23 (<span style=\"color: #0087ff; text-decoration-color: #0087ff\">Conv2D</span>)     │ (<span style=\"color: #00d7ff; text-decoration-color: #00d7ff\">None</span>, <span style=\"color: #00af00; text-decoration-color: #00af00\">8</span>, <span style=\"color: #00af00; text-decoration-color: #00af00\">16</span>, <span style=\"color: #00af00; text-decoration-color: #00af00\">1</span>)     │          <span style=\"color: #00af00; text-decoration-color: #00af00\">257</span> │ activation_14[<span style=\"color: #00af00; text-decoration-color: #00af00\">0</span>][<span style=\"color: #00af00; text-decoration-color: #00af00\">0</span>] │    <span style=\"color: #00af00; text-decoration-color: #00af00; font-weight: bold\">Y</span>    │\n",
              "├────────────────────────┼──────────────────────┼──────────────┼─────────────────────┼─────────┤\n",
              "│ activation_15          │ (<span style=\"color: #00d7ff; text-decoration-color: #00d7ff\">None</span>, <span style=\"color: #00af00; text-decoration-color: #00af00\">8</span>, <span style=\"color: #00af00; text-decoration-color: #00af00\">16</span>, <span style=\"color: #00af00; text-decoration-color: #00af00\">1</span>)     │            <span style=\"color: #00af00; text-decoration-color: #00af00\">0</span> │ conv2d_23[<span style=\"color: #00af00; text-decoration-color: #00af00\">0</span>][<span style=\"color: #00af00; text-decoration-color: #00af00\">0</span>]     │    <span style=\"font-weight: bold\">-</span>    │\n",
              "│ (<span style=\"color: #0087ff; text-decoration-color: #0087ff\">Activation</span>)           │                      │              │                     │         │\n",
              "├────────────────────────┼──────────────────────┼──────────────┼─────────────────────┼─────────┤\n",
              "│ up_sampling2d_2        │ (<span style=\"color: #00d7ff; text-decoration-color: #00d7ff\">None</span>, <span style=\"color: #00af00; text-decoration-color: #00af00\">16</span>, <span style=\"color: #00af00; text-decoration-color: #00af00\">32</span>, <span style=\"color: #00af00; text-decoration-color: #00af00\">1</span>)    │            <span style=\"color: #00af00; text-decoration-color: #00af00\">0</span> │ activation_15[<span style=\"color: #00af00; text-decoration-color: #00af00\">0</span>][<span style=\"color: #00af00; text-decoration-color: #00af00\">0</span>] │    <span style=\"font-weight: bold\">-</span>    │\n",
              "│ (<span style=\"color: #0087ff; text-decoration-color: #0087ff\">UpSampling2D</span>)         │                      │              │                     │         │\n",
              "├────────────────────────┼──────────────────────┼──────────────┼─────────────────────┼─────────┤\n",
              "│ lambda_1 (<span style=\"color: #0087ff; text-decoration-color: #0087ff\">Lambda</span>)      │ (<span style=\"color: #00d7ff; text-decoration-color: #00d7ff\">None</span>, <span style=\"color: #00af00; text-decoration-color: #00af00\">16</span>, <span style=\"color: #00af00; text-decoration-color: #00af00\">32</span>, <span style=\"color: #00af00; text-decoration-color: #00af00\">256</span>)  │            <span style=\"color: #00af00; text-decoration-color: #00af00\">0</span> │ up_sampling2d_2[<span style=\"color: #00af00; text-decoration-color: #00af00\">0</span>]… │    <span style=\"font-weight: bold\">-</span>    │\n",
              "├────────────────────────┼──────────────────────┼──────────────┼─────────────────────┼─────────┤\n",
              "│ multiply_1 (<span style=\"color: #0087ff; text-decoration-color: #0087ff\">Multiply</span>)  │ (<span style=\"color: #00d7ff; text-decoration-color: #00d7ff\">None</span>, <span style=\"color: #00af00; text-decoration-color: #00af00\">16</span>, <span style=\"color: #00af00; text-decoration-color: #00af00\">32</span>, <span style=\"color: #00af00; text-decoration-color: #00af00\">256</span>)  │            <span style=\"color: #00af00; text-decoration-color: #00af00\">0</span> │ lambda_1[<span style=\"color: #00af00; text-decoration-color: #00af00\">0</span>][<span style=\"color: #00af00; text-decoration-color: #00af00\">0</span>],     │    <span style=\"font-weight: bold\">-</span>    │\n",
              "│                        │                      │              │ activation_5[<span style=\"color: #00af00; text-decoration-color: #00af00\">0</span>][<span style=\"color: #00af00; text-decoration-color: #00af00\">0</span>]  │         │\n",
              "├────────────────────────┼──────────────────────┼──────────────┼─────────────────────┼─────────┤\n",
              "│ conv2d_24 (<span style=\"color: #0087ff; text-decoration-color: #0087ff\">Conv2D</span>)     │ (<span style=\"color: #00d7ff; text-decoration-color: #00d7ff\">None</span>, <span style=\"color: #00af00; text-decoration-color: #00af00\">16</span>, <span style=\"color: #00af00; text-decoration-color: #00af00\">32</span>, <span style=\"color: #00af00; text-decoration-color: #00af00\">256</span>)  │       <span style=\"color: #00af00; text-decoration-color: #00af00\">65,792</span> │ multiply_1[<span style=\"color: #00af00; text-decoration-color: #00af00\">0</span>][<span style=\"color: #00af00; text-decoration-color: #00af00\">0</span>]    │    <span style=\"color: #00af00; text-decoration-color: #00af00; font-weight: bold\">Y</span>    │\n",
              "├────────────────────────┼──────────────────────┼──────────────┼─────────────────────┼─────────┤\n",
              "│ up_sampling2d_3        │ (<span style=\"color: #00d7ff; text-decoration-color: #00d7ff\">None</span>, <span style=\"color: #00af00; text-decoration-color: #00af00\">16</span>, <span style=\"color: #00af00; text-decoration-color: #00af00\">32</span>, <span style=\"color: #00af00; text-decoration-color: #00af00\">512</span>)  │            <span style=\"color: #00af00; text-decoration-color: #00af00\">0</span> │ activation_12[<span style=\"color: #00af00; text-decoration-color: #00af00\">0</span>][<span style=\"color: #00af00; text-decoration-color: #00af00\">0</span>] │    <span style=\"font-weight: bold\">-</span>    │\n",
              "│ (<span style=\"color: #0087ff; text-decoration-color: #0087ff\">UpSampling2D</span>)         │                      │              │                     │         │\n",
              "├────────────────────────┼──────────────────────┼──────────────┼─────────────────────┼─────────┤\n",
              "│ batch_normalization_13 │ (<span style=\"color: #00d7ff; text-decoration-color: #00d7ff\">None</span>, <span style=\"color: #00af00; text-decoration-color: #00af00\">16</span>, <span style=\"color: #00af00; text-decoration-color: #00af00\">32</span>, <span style=\"color: #00af00; text-decoration-color: #00af00\">256</span>)  │        <span style=\"color: #00af00; text-decoration-color: #00af00\">1,024</span> │ conv2d_24[<span style=\"color: #00af00; text-decoration-color: #00af00\">0</span>][<span style=\"color: #00af00; text-decoration-color: #00af00\">0</span>]     │    <span style=\"color: #00af00; text-decoration-color: #00af00; font-weight: bold\">Y</span>    │\n",
              "│ (<span style=\"color: #0087ff; text-decoration-color: #0087ff\">BatchNormalization</span>)   │                      │              │                     │         │\n",
              "├────────────────────────┼──────────────────────┼──────────────┼─────────────────────┼─────────┤\n",
              "│ concatenate_1          │ (<span style=\"color: #00d7ff; text-decoration-color: #00d7ff\">None</span>, <span style=\"color: #00af00; text-decoration-color: #00af00\">16</span>, <span style=\"color: #00af00; text-decoration-color: #00af00\">32</span>, <span style=\"color: #00af00; text-decoration-color: #00af00\">768</span>)  │            <span style=\"color: #00af00; text-decoration-color: #00af00\">0</span> │ up_sampling2d_3[<span style=\"color: #00af00; text-decoration-color: #00af00\">0</span>]… │    <span style=\"font-weight: bold\">-</span>    │\n",
              "│ (<span style=\"color: #0087ff; text-decoration-color: #0087ff\">Concatenate</span>)          │                      │              │ batch_normalizatio… │         │\n",
              "├────────────────────────┼──────────────────────┼──────────────┼─────────────────────┼─────────┤\n",
              "│ conv2d_25 (<span style=\"color: #0087ff; text-decoration-color: #0087ff\">Conv2D</span>)     │ (<span style=\"color: #00d7ff; text-decoration-color: #00d7ff\">None</span>, <span style=\"color: #00af00; text-decoration-color: #00af00\">16</span>, <span style=\"color: #00af00; text-decoration-color: #00af00\">32</span>, <span style=\"color: #00af00; text-decoration-color: #00af00\">256</span>)  │    <span style=\"color: #00af00; text-decoration-color: #00af00\">1,769,728</span> │ concatenate_1[<span style=\"color: #00af00; text-decoration-color: #00af00\">0</span>][<span style=\"color: #00af00; text-decoration-color: #00af00\">0</span>] │    <span style=\"color: #00af00; text-decoration-color: #00af00; font-weight: bold\">Y</span>    │\n",
              "├────────────────────────┼──────────────────────┼──────────────┼─────────────────────┼─────────┤\n",
              "│ batch_normalization_14 │ (<span style=\"color: #00d7ff; text-decoration-color: #00d7ff\">None</span>, <span style=\"color: #00af00; text-decoration-color: #00af00\">16</span>, <span style=\"color: #00af00; text-decoration-color: #00af00\">32</span>, <span style=\"color: #00af00; text-decoration-color: #00af00\">256</span>)  │        <span style=\"color: #00af00; text-decoration-color: #00af00\">1,024</span> │ conv2d_25[<span style=\"color: #00af00; text-decoration-color: #00af00\">0</span>][<span style=\"color: #00af00; text-decoration-color: #00af00\">0</span>]     │    <span style=\"color: #00af00; text-decoration-color: #00af00; font-weight: bold\">Y</span>    │\n",
              "│ (<span style=\"color: #0087ff; text-decoration-color: #0087ff\">BatchNormalization</span>)   │                      │              │                     │         │\n",
              "├────────────────────────┼──────────────────────┼──────────────┼─────────────────────┼─────────┤\n",
              "│ activation_16          │ (<span style=\"color: #00d7ff; text-decoration-color: #00d7ff\">None</span>, <span style=\"color: #00af00; text-decoration-color: #00af00\">16</span>, <span style=\"color: #00af00; text-decoration-color: #00af00\">32</span>, <span style=\"color: #00af00; text-decoration-color: #00af00\">256</span>)  │            <span style=\"color: #00af00; text-decoration-color: #00af00\">0</span> │ batch_normalizatio… │    <span style=\"font-weight: bold\">-</span>    │\n",
              "│ (<span style=\"color: #0087ff; text-decoration-color: #0087ff\">Activation</span>)           │                      │              │                     │         │\n",
              "├────────────────────────┼──────────────────────┼──────────────┼─────────────────────┼─────────┤\n",
              "│ conv2d_26 (<span style=\"color: #0087ff; text-decoration-color: #0087ff\">Conv2D</span>)     │ (<span style=\"color: #00d7ff; text-decoration-color: #00d7ff\">None</span>, <span style=\"color: #00af00; text-decoration-color: #00af00\">16</span>, <span style=\"color: #00af00; text-decoration-color: #00af00\">32</span>, <span style=\"color: #00af00; text-decoration-color: #00af00\">256</span>)  │      <span style=\"color: #00af00; text-decoration-color: #00af00\">590,080</span> │ activation_16[<span style=\"color: #00af00; text-decoration-color: #00af00\">0</span>][<span style=\"color: #00af00; text-decoration-color: #00af00\">0</span>] │    <span style=\"color: #00af00; text-decoration-color: #00af00; font-weight: bold\">Y</span>    │\n",
              "├────────────────────────┼──────────────────────┼──────────────┼─────────────────────┼─────────┤\n",
              "│ conv2d_27 (<span style=\"color: #0087ff; text-decoration-color: #0087ff\">Conv2D</span>)     │ (<span style=\"color: #00d7ff; text-decoration-color: #00d7ff\">None</span>, <span style=\"color: #00af00; text-decoration-color: #00af00\">16</span>, <span style=\"color: #00af00; text-decoration-color: #00af00\">32</span>, <span style=\"color: #00af00; text-decoration-color: #00af00\">256</span>)  │      <span style=\"color: #00af00; text-decoration-color: #00af00\">196,864</span> │ concatenate_1[<span style=\"color: #00af00; text-decoration-color: #00af00\">0</span>][<span style=\"color: #00af00; text-decoration-color: #00af00\">0</span>] │    <span style=\"color: #00af00; text-decoration-color: #00af00; font-weight: bold\">Y</span>    │\n",
              "├────────────────────────┼──────────────────────┼──────────────┼─────────────────────┼─────────┤\n",
              "│ batch_normalization_15 │ (<span style=\"color: #00d7ff; text-decoration-color: #00d7ff\">None</span>, <span style=\"color: #00af00; text-decoration-color: #00af00\">16</span>, <span style=\"color: #00af00; text-decoration-color: #00af00\">32</span>, <span style=\"color: #00af00; text-decoration-color: #00af00\">256</span>)  │        <span style=\"color: #00af00; text-decoration-color: #00af00\">1,024</span> │ conv2d_26[<span style=\"color: #00af00; text-decoration-color: #00af00\">0</span>][<span style=\"color: #00af00; text-decoration-color: #00af00\">0</span>]     │    <span style=\"color: #00af00; text-decoration-color: #00af00; font-weight: bold\">Y</span>    │\n",
              "│ (<span style=\"color: #0087ff; text-decoration-color: #0087ff\">BatchNormalization</span>)   │                      │              │                     │         │\n",
              "├────────────────────────┼──────────────────────┼──────────────┼─────────────────────┼─────────┤\n",
              "│ add_7 (<span style=\"color: #0087ff; text-decoration-color: #0087ff\">Add</span>)            │ (<span style=\"color: #00d7ff; text-decoration-color: #00d7ff\">None</span>, <span style=\"color: #00af00; text-decoration-color: #00af00\">16</span>, <span style=\"color: #00af00; text-decoration-color: #00af00\">32</span>, <span style=\"color: #00af00; text-decoration-color: #00af00\">256</span>)  │            <span style=\"color: #00af00; text-decoration-color: #00af00\">0</span> │ conv2d_27[<span style=\"color: #00af00; text-decoration-color: #00af00\">0</span>][<span style=\"color: #00af00; text-decoration-color: #00af00\">0</span>],    │    <span style=\"font-weight: bold\">-</span>    │\n",
              "│                        │                      │              │ batch_normalizatio… │         │\n",
              "├────────────────────────┼──────────────────────┼──────────────┼─────────────────────┼─────────┤\n",
              "│ activation_17          │ (<span style=\"color: #00d7ff; text-decoration-color: #00d7ff\">None</span>, <span style=\"color: #00af00; text-decoration-color: #00af00\">16</span>, <span style=\"color: #00af00; text-decoration-color: #00af00\">32</span>, <span style=\"color: #00af00; text-decoration-color: #00af00\">256</span>)  │            <span style=\"color: #00af00; text-decoration-color: #00af00\">0</span> │ add_7[<span style=\"color: #00af00; text-decoration-color: #00af00\">0</span>][<span style=\"color: #00af00; text-decoration-color: #00af00\">0</span>]         │    <span style=\"font-weight: bold\">-</span>    │\n",
              "│ (<span style=\"color: #0087ff; text-decoration-color: #0087ff\">Activation</span>)           │                      │              │                     │         │\n",
              "├────────────────────────┼──────────────────────┼──────────────┼─────────────────────┼─────────┤\n",
              "│ conv2d_28 (<span style=\"color: #0087ff; text-decoration-color: #0087ff\">Conv2D</span>)     │ (<span style=\"color: #00d7ff; text-decoration-color: #00d7ff\">None</span>, <span style=\"color: #00af00; text-decoration-color: #00af00\">16</span>, <span style=\"color: #00af00; text-decoration-color: #00af00\">32</span>, <span style=\"color: #00af00; text-decoration-color: #00af00\">128</span>)  │       <span style=\"color: #00af00; text-decoration-color: #00af00\">32,896</span> │ activation_17[<span style=\"color: #00af00; text-decoration-color: #00af00\">0</span>][<span style=\"color: #00af00; text-decoration-color: #00af00\">0</span>] │    <span style=\"color: #00af00; text-decoration-color: #00af00; font-weight: bold\">Y</span>    │\n",
              "├────────────────────────┼──────────────────────┼──────────────┼─────────────────────┼─────────┤\n",
              "│ batch_normalization_16 │ (<span style=\"color: #00d7ff; text-decoration-color: #00d7ff\">None</span>, <span style=\"color: #00af00; text-decoration-color: #00af00\">16</span>, <span style=\"color: #00af00; text-decoration-color: #00af00\">32</span>, <span style=\"color: #00af00; text-decoration-color: #00af00\">128</span>)  │          <span style=\"color: #00af00; text-decoration-color: #00af00\">512</span> │ conv2d_28[<span style=\"color: #00af00; text-decoration-color: #00af00\">0</span>][<span style=\"color: #00af00; text-decoration-color: #00af00\">0</span>]     │    <span style=\"color: #00af00; text-decoration-color: #00af00; font-weight: bold\">Y</span>    │\n",
              "│ (<span style=\"color: #0087ff; text-decoration-color: #0087ff\">BatchNormalization</span>)   │                      │              │                     │         │\n",
              "├────────────────────────┼──────────────────────┼──────────────┼─────────────────────┼─────────┤\n",
              "│ activation_18          │ (<span style=\"color: #00d7ff; text-decoration-color: #00d7ff\">None</span>, <span style=\"color: #00af00; text-decoration-color: #00af00\">16</span>, <span style=\"color: #00af00; text-decoration-color: #00af00\">32</span>, <span style=\"color: #00af00; text-decoration-color: #00af00\">128</span>)  │            <span style=\"color: #00af00; text-decoration-color: #00af00\">0</span> │ batch_normalizatio… │    <span style=\"font-weight: bold\">-</span>    │\n",
              "│ (<span style=\"color: #0087ff; text-decoration-color: #0087ff\">Activation</span>)           │                      │              │                     │         │\n",
              "├────────────────────────┼──────────────────────┼──────────────┼─────────────────────┼─────────┤\n",
              "│ conv2d_30 (<span style=\"color: #0087ff; text-decoration-color: #0087ff\">Conv2D</span>)     │ (<span style=\"color: #00d7ff; text-decoration-color: #00d7ff\">None</span>, <span style=\"color: #00af00; text-decoration-color: #00af00\">16</span>, <span style=\"color: #00af00; text-decoration-color: #00af00\">32</span>, <span style=\"color: #00af00; text-decoration-color: #00af00\">128</span>)  │       <span style=\"color: #00af00; text-decoration-color: #00af00\">16,512</span> │ activation_18[<span style=\"color: #00af00; text-decoration-color: #00af00\">0</span>][<span style=\"color: #00af00; text-decoration-color: #00af00\">0</span>] │    <span style=\"color: #00af00; text-decoration-color: #00af00; font-weight: bold\">Y</span>    │\n",
              "├────────────────────────┼──────────────────────┼──────────────┼─────────────────────┼─────────┤\n",
              "│ conv2d_transpose_2     │ (<span style=\"color: #00d7ff; text-decoration-color: #00d7ff\">None</span>, <span style=\"color: #00af00; text-decoration-color: #00af00\">16</span>, <span style=\"color: #00af00; text-decoration-color: #00af00\">32</span>, <span style=\"color: #00af00; text-decoration-color: #00af00\">128</span>)  │      <span style=\"color: #00af00; text-decoration-color: #00af00\">147,584</span> │ conv2d_30[<span style=\"color: #00af00; text-decoration-color: #00af00\">0</span>][<span style=\"color: #00af00; text-decoration-color: #00af00\">0</span>]     │    <span style=\"color: #00af00; text-decoration-color: #00af00; font-weight: bold\">Y</span>    │\n",
              "│ (<span style=\"color: #0087ff; text-decoration-color: #0087ff\">Conv2DTranspose</span>)      │                      │              │                     │         │\n",
              "├────────────────────────┼──────────────────────┼──────────────┼─────────────────────┼─────────┤\n",
              "│ conv2d_29 (<span style=\"color: #0087ff; text-decoration-color: #0087ff\">Conv2D</span>)     │ (<span style=\"color: #00d7ff; text-decoration-color: #00d7ff\">None</span>, <span style=\"color: #00af00; text-decoration-color: #00af00\">16</span>, <span style=\"color: #00af00; text-decoration-color: #00af00\">32</span>, <span style=\"color: #00af00; text-decoration-color: #00af00\">128</span>)  │       <span style=\"color: #00af00; text-decoration-color: #00af00\">65,664</span> │ activation_3[<span style=\"color: #00af00; text-decoration-color: #00af00\">0</span>][<span style=\"color: #00af00; text-decoration-color: #00af00\">0</span>]  │    <span style=\"color: #00af00; text-decoration-color: #00af00; font-weight: bold\">Y</span>    │\n",
              "├────────────────────────┼──────────────────────┼──────────────┼─────────────────────┼─────────┤\n",
              "│ add_8 (<span style=\"color: #0087ff; text-decoration-color: #0087ff\">Add</span>)            │ (<span style=\"color: #00d7ff; text-decoration-color: #00d7ff\">None</span>, <span style=\"color: #00af00; text-decoration-color: #00af00\">16</span>, <span style=\"color: #00af00; text-decoration-color: #00af00\">32</span>, <span style=\"color: #00af00; text-decoration-color: #00af00\">128</span>)  │            <span style=\"color: #00af00; text-decoration-color: #00af00\">0</span> │ conv2d_transpose_2… │    <span style=\"font-weight: bold\">-</span>    │\n",
              "│                        │                      │              │ conv2d_29[<span style=\"color: #00af00; text-decoration-color: #00af00\">0</span>][<span style=\"color: #00af00; text-decoration-color: #00af00\">0</span>]     │         │\n",
              "├────────────────────────┼──────────────────────┼──────────────┼─────────────────────┼─────────┤\n",
              "│ activation_19          │ (<span style=\"color: #00d7ff; text-decoration-color: #00d7ff\">None</span>, <span style=\"color: #00af00; text-decoration-color: #00af00\">16</span>, <span style=\"color: #00af00; text-decoration-color: #00af00\">32</span>, <span style=\"color: #00af00; text-decoration-color: #00af00\">128</span>)  │            <span style=\"color: #00af00; text-decoration-color: #00af00\">0</span> │ add_8[<span style=\"color: #00af00; text-decoration-color: #00af00\">0</span>][<span style=\"color: #00af00; text-decoration-color: #00af00\">0</span>]         │    <span style=\"font-weight: bold\">-</span>    │\n",
              "│ (<span style=\"color: #0087ff; text-decoration-color: #0087ff\">Activation</span>)           │                      │              │                     │         │\n",
              "├────────────────────────┼──────────────────────┼──────────────┼─────────────────────┼─────────┤\n",
              "│ conv2d_31 (<span style=\"color: #0087ff; text-decoration-color: #0087ff\">Conv2D</span>)     │ (<span style=\"color: #00d7ff; text-decoration-color: #00d7ff\">None</span>, <span style=\"color: #00af00; text-decoration-color: #00af00\">16</span>, <span style=\"color: #00af00; text-decoration-color: #00af00\">32</span>, <span style=\"color: #00af00; text-decoration-color: #00af00\">1</span>)    │          <span style=\"color: #00af00; text-decoration-color: #00af00\">129</span> │ activation_19[<span style=\"color: #00af00; text-decoration-color: #00af00\">0</span>][<span style=\"color: #00af00; text-decoration-color: #00af00\">0</span>] │    <span style=\"color: #00af00; text-decoration-color: #00af00; font-weight: bold\">Y</span>    │\n",
              "├────────────────────────┼──────────────────────┼──────────────┼─────────────────────┼─────────┤\n",
              "│ activation_20          │ (<span style=\"color: #00d7ff; text-decoration-color: #00d7ff\">None</span>, <span style=\"color: #00af00; text-decoration-color: #00af00\">16</span>, <span style=\"color: #00af00; text-decoration-color: #00af00\">32</span>, <span style=\"color: #00af00; text-decoration-color: #00af00\">1</span>)    │            <span style=\"color: #00af00; text-decoration-color: #00af00\">0</span> │ conv2d_31[<span style=\"color: #00af00; text-decoration-color: #00af00\">0</span>][<span style=\"color: #00af00; text-decoration-color: #00af00\">0</span>]     │    <span style=\"font-weight: bold\">-</span>    │\n",
              "│ (<span style=\"color: #0087ff; text-decoration-color: #0087ff\">Activation</span>)           │                      │              │                     │         │\n",
              "├────────────────────────┼──────────────────────┼──────────────┼─────────────────────┼─────────┤\n",
              "│ up_sampling2d_4        │ (<span style=\"color: #00d7ff; text-decoration-color: #00d7ff\">None</span>, <span style=\"color: #00af00; text-decoration-color: #00af00\">32</span>, <span style=\"color: #00af00; text-decoration-color: #00af00\">64</span>, <span style=\"color: #00af00; text-decoration-color: #00af00\">1</span>)    │            <span style=\"color: #00af00; text-decoration-color: #00af00\">0</span> │ activation_20[<span style=\"color: #00af00; text-decoration-color: #00af00\">0</span>][<span style=\"color: #00af00; text-decoration-color: #00af00\">0</span>] │    <span style=\"font-weight: bold\">-</span>    │\n",
              "│ (<span style=\"color: #0087ff; text-decoration-color: #0087ff\">UpSampling2D</span>)         │                      │              │                     │         │\n",
              "├────────────────────────┼──────────────────────┼──────────────┼─────────────────────┼─────────┤\n",
              "│ lambda_2 (<span style=\"color: #0087ff; text-decoration-color: #0087ff\">Lambda</span>)      │ (<span style=\"color: #00d7ff; text-decoration-color: #00d7ff\">None</span>, <span style=\"color: #00af00; text-decoration-color: #00af00\">32</span>, <span style=\"color: #00af00; text-decoration-color: #00af00\">64</span>, <span style=\"color: #00af00; text-decoration-color: #00af00\">128</span>)  │            <span style=\"color: #00af00; text-decoration-color: #00af00\">0</span> │ up_sampling2d_4[<span style=\"color: #00af00; text-decoration-color: #00af00\">0</span>]… │    <span style=\"font-weight: bold\">-</span>    │\n",
              "├────────────────────────┼──────────────────────┼──────────────┼─────────────────────┼─────────┤\n",
              "│ multiply_2 (<span style=\"color: #0087ff; text-decoration-color: #0087ff\">Multiply</span>)  │ (<span style=\"color: #00d7ff; text-decoration-color: #00d7ff\">None</span>, <span style=\"color: #00af00; text-decoration-color: #00af00\">32</span>, <span style=\"color: #00af00; text-decoration-color: #00af00\">64</span>, <span style=\"color: #00af00; text-decoration-color: #00af00\">128</span>)  │            <span style=\"color: #00af00; text-decoration-color: #00af00\">0</span> │ lambda_2[<span style=\"color: #00af00; text-decoration-color: #00af00\">0</span>][<span style=\"color: #00af00; text-decoration-color: #00af00\">0</span>],     │    <span style=\"font-weight: bold\">-</span>    │\n",
              "│                        │                      │              │ activation_3[<span style=\"color: #00af00; text-decoration-color: #00af00\">0</span>][<span style=\"color: #00af00; text-decoration-color: #00af00\">0</span>]  │         │\n",
              "├────────────────────────┼──────────────────────┼──────────────┼─────────────────────┼─────────┤\n",
              "│ conv2d_32 (<span style=\"color: #0087ff; text-decoration-color: #0087ff\">Conv2D</span>)     │ (<span style=\"color: #00d7ff; text-decoration-color: #00d7ff\">None</span>, <span style=\"color: #00af00; text-decoration-color: #00af00\">32</span>, <span style=\"color: #00af00; text-decoration-color: #00af00\">64</span>, <span style=\"color: #00af00; text-decoration-color: #00af00\">128</span>)  │       <span style=\"color: #00af00; text-decoration-color: #00af00\">16,512</span> │ multiply_2[<span style=\"color: #00af00; text-decoration-color: #00af00\">0</span>][<span style=\"color: #00af00; text-decoration-color: #00af00\">0</span>]    │    <span style=\"color: #00af00; text-decoration-color: #00af00; font-weight: bold\">Y</span>    │\n",
              "├────────────────────────┼──────────────────────┼──────────────┼─────────────────────┼─────────┤\n",
              "│ up_sampling2d_5        │ (<span style=\"color: #00d7ff; text-decoration-color: #00d7ff\">None</span>, <span style=\"color: #00af00; text-decoration-color: #00af00\">32</span>, <span style=\"color: #00af00; text-decoration-color: #00af00\">64</span>, <span style=\"color: #00af00; text-decoration-color: #00af00\">256</span>)  │            <span style=\"color: #00af00; text-decoration-color: #00af00\">0</span> │ activation_17[<span style=\"color: #00af00; text-decoration-color: #00af00\">0</span>][<span style=\"color: #00af00; text-decoration-color: #00af00\">0</span>] │    <span style=\"font-weight: bold\">-</span>    │\n",
              "│ (<span style=\"color: #0087ff; text-decoration-color: #0087ff\">UpSampling2D</span>)         │                      │              │                     │         │\n",
              "├────────────────────────┼──────────────────────┼──────────────┼─────────────────────┼─────────┤\n",
              "│ batch_normalization_17 │ (<span style=\"color: #00d7ff; text-decoration-color: #00d7ff\">None</span>, <span style=\"color: #00af00; text-decoration-color: #00af00\">32</span>, <span style=\"color: #00af00; text-decoration-color: #00af00\">64</span>, <span style=\"color: #00af00; text-decoration-color: #00af00\">128</span>)  │          <span style=\"color: #00af00; text-decoration-color: #00af00\">512</span> │ conv2d_32[<span style=\"color: #00af00; text-decoration-color: #00af00\">0</span>][<span style=\"color: #00af00; text-decoration-color: #00af00\">0</span>]     │    <span style=\"color: #00af00; text-decoration-color: #00af00; font-weight: bold\">Y</span>    │\n",
              "│ (<span style=\"color: #0087ff; text-decoration-color: #0087ff\">BatchNormalization</span>)   │                      │              │                     │         │\n",
              "├────────────────────────┼──────────────────────┼──────────────┼─────────────────────┼─────────┤\n",
              "│ concatenate_2          │ (<span style=\"color: #00d7ff; text-decoration-color: #00d7ff\">None</span>, <span style=\"color: #00af00; text-decoration-color: #00af00\">32</span>, <span style=\"color: #00af00; text-decoration-color: #00af00\">64</span>, <span style=\"color: #00af00; text-decoration-color: #00af00\">384</span>)  │            <span style=\"color: #00af00; text-decoration-color: #00af00\">0</span> │ up_sampling2d_5[<span style=\"color: #00af00; text-decoration-color: #00af00\">0</span>]… │    <span style=\"font-weight: bold\">-</span>    │\n",
              "│ (<span style=\"color: #0087ff; text-decoration-color: #0087ff\">Concatenate</span>)          │                      │              │ batch_normalizatio… │         │\n",
              "├────────────────────────┼──────────────────────┼──────────────┼─────────────────────┼─────────┤\n",
              "│ conv2d_33 (<span style=\"color: #0087ff; text-decoration-color: #0087ff\">Conv2D</span>)     │ (<span style=\"color: #00d7ff; text-decoration-color: #00d7ff\">None</span>, <span style=\"color: #00af00; text-decoration-color: #00af00\">32</span>, <span style=\"color: #00af00; text-decoration-color: #00af00\">64</span>, <span style=\"color: #00af00; text-decoration-color: #00af00\">128</span>)  │      <span style=\"color: #00af00; text-decoration-color: #00af00\">442,496</span> │ concatenate_2[<span style=\"color: #00af00; text-decoration-color: #00af00\">0</span>][<span style=\"color: #00af00; text-decoration-color: #00af00\">0</span>] │    <span style=\"color: #00af00; text-decoration-color: #00af00; font-weight: bold\">Y</span>    │\n",
              "├────────────────────────┼──────────────────────┼──────────────┼─────────────────────┼─────────┤\n",
              "│ batch_normalization_18 │ (<span style=\"color: #00d7ff; text-decoration-color: #00d7ff\">None</span>, <span style=\"color: #00af00; text-decoration-color: #00af00\">32</span>, <span style=\"color: #00af00; text-decoration-color: #00af00\">64</span>, <span style=\"color: #00af00; text-decoration-color: #00af00\">128</span>)  │          <span style=\"color: #00af00; text-decoration-color: #00af00\">512</span> │ conv2d_33[<span style=\"color: #00af00; text-decoration-color: #00af00\">0</span>][<span style=\"color: #00af00; text-decoration-color: #00af00\">0</span>]     │    <span style=\"color: #00af00; text-decoration-color: #00af00; font-weight: bold\">Y</span>    │\n",
              "│ (<span style=\"color: #0087ff; text-decoration-color: #0087ff\">BatchNormalization</span>)   │                      │              │                     │         │\n",
              "├────────────────────────┼──────────────────────┼──────────────┼─────────────────────┼─────────┤\n",
              "│ activation_21          │ (<span style=\"color: #00d7ff; text-decoration-color: #00d7ff\">None</span>, <span style=\"color: #00af00; text-decoration-color: #00af00\">32</span>, <span style=\"color: #00af00; text-decoration-color: #00af00\">64</span>, <span style=\"color: #00af00; text-decoration-color: #00af00\">128</span>)  │            <span style=\"color: #00af00; text-decoration-color: #00af00\">0</span> │ batch_normalizatio… │    <span style=\"font-weight: bold\">-</span>    │\n",
              "│ (<span style=\"color: #0087ff; text-decoration-color: #0087ff\">Activation</span>)           │                      │              │                     │         │\n",
              "├────────────────────────┼──────────────────────┼──────────────┼─────────────────────┼─────────┤\n",
              "│ conv2d_34 (<span style=\"color: #0087ff; text-decoration-color: #0087ff\">Conv2D</span>)     │ (<span style=\"color: #00d7ff; text-decoration-color: #00d7ff\">None</span>, <span style=\"color: #00af00; text-decoration-color: #00af00\">32</span>, <span style=\"color: #00af00; text-decoration-color: #00af00\">64</span>, <span style=\"color: #00af00; text-decoration-color: #00af00\">128</span>)  │      <span style=\"color: #00af00; text-decoration-color: #00af00\">147,584</span> │ activation_21[<span style=\"color: #00af00; text-decoration-color: #00af00\">0</span>][<span style=\"color: #00af00; text-decoration-color: #00af00\">0</span>] │    <span style=\"color: #00af00; text-decoration-color: #00af00; font-weight: bold\">Y</span>    │\n",
              "├────────────────────────┼──────────────────────┼──────────────┼─────────────────────┼─────────┤\n",
              "│ conv2d_35 (<span style=\"color: #0087ff; text-decoration-color: #0087ff\">Conv2D</span>)     │ (<span style=\"color: #00d7ff; text-decoration-color: #00d7ff\">None</span>, <span style=\"color: #00af00; text-decoration-color: #00af00\">32</span>, <span style=\"color: #00af00; text-decoration-color: #00af00\">64</span>, <span style=\"color: #00af00; text-decoration-color: #00af00\">128</span>)  │       <span style=\"color: #00af00; text-decoration-color: #00af00\">49,280</span> │ concatenate_2[<span style=\"color: #00af00; text-decoration-color: #00af00\">0</span>][<span style=\"color: #00af00; text-decoration-color: #00af00\">0</span>] │    <span style=\"color: #00af00; text-decoration-color: #00af00; font-weight: bold\">Y</span>    │\n",
              "├────────────────────────┼──────────────────────┼──────────────┼─────────────────────┼─────────┤\n",
              "│ batch_normalization_19 │ (<span style=\"color: #00d7ff; text-decoration-color: #00d7ff\">None</span>, <span style=\"color: #00af00; text-decoration-color: #00af00\">32</span>, <span style=\"color: #00af00; text-decoration-color: #00af00\">64</span>, <span style=\"color: #00af00; text-decoration-color: #00af00\">128</span>)  │          <span style=\"color: #00af00; text-decoration-color: #00af00\">512</span> │ conv2d_34[<span style=\"color: #00af00; text-decoration-color: #00af00\">0</span>][<span style=\"color: #00af00; text-decoration-color: #00af00\">0</span>]     │    <span style=\"color: #00af00; text-decoration-color: #00af00; font-weight: bold\">Y</span>    │\n",
              "│ (<span style=\"color: #0087ff; text-decoration-color: #0087ff\">BatchNormalization</span>)   │                      │              │                     │         │\n",
              "├────────────────────────┼──────────────────────┼──────────────┼─────────────────────┼─────────┤\n",
              "│ add_9 (<span style=\"color: #0087ff; text-decoration-color: #0087ff\">Add</span>)            │ (<span style=\"color: #00d7ff; text-decoration-color: #00d7ff\">None</span>, <span style=\"color: #00af00; text-decoration-color: #00af00\">32</span>, <span style=\"color: #00af00; text-decoration-color: #00af00\">64</span>, <span style=\"color: #00af00; text-decoration-color: #00af00\">128</span>)  │            <span style=\"color: #00af00; text-decoration-color: #00af00\">0</span> │ conv2d_35[<span style=\"color: #00af00; text-decoration-color: #00af00\">0</span>][<span style=\"color: #00af00; text-decoration-color: #00af00\">0</span>],    │    <span style=\"font-weight: bold\">-</span>    │\n",
              "│                        │                      │              │ batch_normalizatio… │         │\n",
              "├────────────────────────┼──────────────────────┼──────────────┼─────────────────────┼─────────┤\n",
              "│ activation_22          │ (<span style=\"color: #00d7ff; text-decoration-color: #00d7ff\">None</span>, <span style=\"color: #00af00; text-decoration-color: #00af00\">32</span>, <span style=\"color: #00af00; text-decoration-color: #00af00\">64</span>, <span style=\"color: #00af00; text-decoration-color: #00af00\">128</span>)  │            <span style=\"color: #00af00; text-decoration-color: #00af00\">0</span> │ add_9[<span style=\"color: #00af00; text-decoration-color: #00af00\">0</span>][<span style=\"color: #00af00; text-decoration-color: #00af00\">0</span>]         │    <span style=\"font-weight: bold\">-</span>    │\n",
              "│ (<span style=\"color: #0087ff; text-decoration-color: #0087ff\">Activation</span>)           │                      │              │                     │         │\n",
              "├────────────────────────┼──────────────────────┼──────────────┼─────────────────────┼─────────┤\n",
              "│ conv2d_36 (<span style=\"color: #0087ff; text-decoration-color: #0087ff\">Conv2D</span>)     │ (<span style=\"color: #00d7ff; text-decoration-color: #00d7ff\">None</span>, <span style=\"color: #00af00; text-decoration-color: #00af00\">32</span>, <span style=\"color: #00af00; text-decoration-color: #00af00\">64</span>, <span style=\"color: #00af00; text-decoration-color: #00af00\">64</span>)   │        <span style=\"color: #00af00; text-decoration-color: #00af00\">8,256</span> │ activation_22[<span style=\"color: #00af00; text-decoration-color: #00af00\">0</span>][<span style=\"color: #00af00; text-decoration-color: #00af00\">0</span>] │    <span style=\"color: #00af00; text-decoration-color: #00af00; font-weight: bold\">Y</span>    │\n",
              "├────────────────────────┼──────────────────────┼──────────────┼─────────────────────┼─────────┤\n",
              "│ batch_normalization_20 │ (<span style=\"color: #00d7ff; text-decoration-color: #00d7ff\">None</span>, <span style=\"color: #00af00; text-decoration-color: #00af00\">32</span>, <span style=\"color: #00af00; text-decoration-color: #00af00\">64</span>, <span style=\"color: #00af00; text-decoration-color: #00af00\">64</span>)   │          <span style=\"color: #00af00; text-decoration-color: #00af00\">256</span> │ conv2d_36[<span style=\"color: #00af00; text-decoration-color: #00af00\">0</span>][<span style=\"color: #00af00; text-decoration-color: #00af00\">0</span>]     │    <span style=\"color: #00af00; text-decoration-color: #00af00; font-weight: bold\">Y</span>    │\n",
              "│ (<span style=\"color: #0087ff; text-decoration-color: #0087ff\">BatchNormalization</span>)   │                      │              │                     │         │\n",
              "├────────────────────────┼──────────────────────┼──────────────┼─────────────────────┼─────────┤\n",
              "│ activation_23          │ (<span style=\"color: #00d7ff; text-decoration-color: #00d7ff\">None</span>, <span style=\"color: #00af00; text-decoration-color: #00af00\">32</span>, <span style=\"color: #00af00; text-decoration-color: #00af00\">64</span>, <span style=\"color: #00af00; text-decoration-color: #00af00\">64</span>)   │            <span style=\"color: #00af00; text-decoration-color: #00af00\">0</span> │ batch_normalizatio… │    <span style=\"font-weight: bold\">-</span>    │\n",
              "│ (<span style=\"color: #0087ff; text-decoration-color: #0087ff\">Activation</span>)           │                      │              │                     │         │\n",
              "├────────────────────────┼──────────────────────┼──────────────┼─────────────────────┼─────────┤\n",
              "│ conv2d_38 (<span style=\"color: #0087ff; text-decoration-color: #0087ff\">Conv2D</span>)     │ (<span style=\"color: #00d7ff; text-decoration-color: #00d7ff\">None</span>, <span style=\"color: #00af00; text-decoration-color: #00af00\">32</span>, <span style=\"color: #00af00; text-decoration-color: #00af00\">64</span>, <span style=\"color: #00af00; text-decoration-color: #00af00\">64</span>)   │        <span style=\"color: #00af00; text-decoration-color: #00af00\">4,160</span> │ activation_23[<span style=\"color: #00af00; text-decoration-color: #00af00\">0</span>][<span style=\"color: #00af00; text-decoration-color: #00af00\">0</span>] │    <span style=\"color: #00af00; text-decoration-color: #00af00; font-weight: bold\">Y</span>    │\n",
              "├────────────────────────┼──────────────────────┼──────────────┼─────────────────────┼─────────┤\n",
              "│ conv2d_transpose_3     │ (<span style=\"color: #00d7ff; text-decoration-color: #00d7ff\">None</span>, <span style=\"color: #00af00; text-decoration-color: #00af00\">32</span>, <span style=\"color: #00af00; text-decoration-color: #00af00\">64</span>, <span style=\"color: #00af00; text-decoration-color: #00af00\">64</span>)   │       <span style=\"color: #00af00; text-decoration-color: #00af00\">36,928</span> │ conv2d_38[<span style=\"color: #00af00; text-decoration-color: #00af00\">0</span>][<span style=\"color: #00af00; text-decoration-color: #00af00\">0</span>]     │    <span style=\"color: #00af00; text-decoration-color: #00af00; font-weight: bold\">Y</span>    │\n",
              "│ (<span style=\"color: #0087ff; text-decoration-color: #0087ff\">Conv2DTranspose</span>)      │                      │              │                     │         │\n",
              "├────────────────────────┼──────────────────────┼──────────────┼─────────────────────┼─────────┤\n",
              "│ conv2d_37 (<span style=\"color: #0087ff; text-decoration-color: #0087ff\">Conv2D</span>)     │ (<span style=\"color: #00d7ff; text-decoration-color: #00d7ff\">None</span>, <span style=\"color: #00af00; text-decoration-color: #00af00\">32</span>, <span style=\"color: #00af00; text-decoration-color: #00af00\">64</span>, <span style=\"color: #00af00; text-decoration-color: #00af00\">64</span>)   │       <span style=\"color: #00af00; text-decoration-color: #00af00\">16,448</span> │ activation_1[<span style=\"color: #00af00; text-decoration-color: #00af00\">0</span>][<span style=\"color: #00af00; text-decoration-color: #00af00\">0</span>]  │    <span style=\"color: #00af00; text-decoration-color: #00af00; font-weight: bold\">Y</span>    │\n",
              "├────────────────────────┼──────────────────────┼──────────────┼─────────────────────┼─────────┤\n",
              "│ add_10 (<span style=\"color: #0087ff; text-decoration-color: #0087ff\">Add</span>)           │ (<span style=\"color: #00d7ff; text-decoration-color: #00d7ff\">None</span>, <span style=\"color: #00af00; text-decoration-color: #00af00\">32</span>, <span style=\"color: #00af00; text-decoration-color: #00af00\">64</span>, <span style=\"color: #00af00; text-decoration-color: #00af00\">64</span>)   │            <span style=\"color: #00af00; text-decoration-color: #00af00\">0</span> │ conv2d_transpose_3… │    <span style=\"font-weight: bold\">-</span>    │\n",
              "│                        │                      │              │ conv2d_37[<span style=\"color: #00af00; text-decoration-color: #00af00\">0</span>][<span style=\"color: #00af00; text-decoration-color: #00af00\">0</span>]     │         │\n",
              "├────────────────────────┼──────────────────────┼──────────────┼─────────────────────┼─────────┤\n",
              "│ activation_24          │ (<span style=\"color: #00d7ff; text-decoration-color: #00d7ff\">None</span>, <span style=\"color: #00af00; text-decoration-color: #00af00\">32</span>, <span style=\"color: #00af00; text-decoration-color: #00af00\">64</span>, <span style=\"color: #00af00; text-decoration-color: #00af00\">64</span>)   │            <span style=\"color: #00af00; text-decoration-color: #00af00\">0</span> │ add_10[<span style=\"color: #00af00; text-decoration-color: #00af00\">0</span>][<span style=\"color: #00af00; text-decoration-color: #00af00\">0</span>]        │    <span style=\"font-weight: bold\">-</span>    │\n",
              "│ (<span style=\"color: #0087ff; text-decoration-color: #0087ff\">Activation</span>)           │                      │              │                     │         │\n",
              "├────────────────────────┼──────────────────────┼──────────────┼─────────────────────┼─────────┤\n",
              "│ conv2d_39 (<span style=\"color: #0087ff; text-decoration-color: #0087ff\">Conv2D</span>)     │ (<span style=\"color: #00d7ff; text-decoration-color: #00d7ff\">None</span>, <span style=\"color: #00af00; text-decoration-color: #00af00\">32</span>, <span style=\"color: #00af00; text-decoration-color: #00af00\">64</span>, <span style=\"color: #00af00; text-decoration-color: #00af00\">1</span>)    │           <span style=\"color: #00af00; text-decoration-color: #00af00\">65</span> │ activation_24[<span style=\"color: #00af00; text-decoration-color: #00af00\">0</span>][<span style=\"color: #00af00; text-decoration-color: #00af00\">0</span>] │    <span style=\"color: #00af00; text-decoration-color: #00af00; font-weight: bold\">Y</span>    │\n",
              "├────────────────────────┼──────────────────────┼──────────────┼─────────────────────┼─────────┤\n",
              "│ activation_25          │ (<span style=\"color: #00d7ff; text-decoration-color: #00d7ff\">None</span>, <span style=\"color: #00af00; text-decoration-color: #00af00\">32</span>, <span style=\"color: #00af00; text-decoration-color: #00af00\">64</span>, <span style=\"color: #00af00; text-decoration-color: #00af00\">1</span>)    │            <span style=\"color: #00af00; text-decoration-color: #00af00\">0</span> │ conv2d_39[<span style=\"color: #00af00; text-decoration-color: #00af00\">0</span>][<span style=\"color: #00af00; text-decoration-color: #00af00\">0</span>]     │    <span style=\"font-weight: bold\">-</span>    │\n",
              "│ (<span style=\"color: #0087ff; text-decoration-color: #0087ff\">Activation</span>)           │                      │              │                     │         │\n",
              "├────────────────────────┼──────────────────────┼──────────────┼─────────────────────┼─────────┤\n",
              "│ up_sampling2d_6        │ (<span style=\"color: #00d7ff; text-decoration-color: #00d7ff\">None</span>, <span style=\"color: #00af00; text-decoration-color: #00af00\">64</span>, <span style=\"color: #00af00; text-decoration-color: #00af00\">128</span>, <span style=\"color: #00af00; text-decoration-color: #00af00\">1</span>)   │            <span style=\"color: #00af00; text-decoration-color: #00af00\">0</span> │ activation_25[<span style=\"color: #00af00; text-decoration-color: #00af00\">0</span>][<span style=\"color: #00af00; text-decoration-color: #00af00\">0</span>] │    <span style=\"font-weight: bold\">-</span>    │\n",
              "│ (<span style=\"color: #0087ff; text-decoration-color: #0087ff\">UpSampling2D</span>)         │                      │              │                     │         │\n",
              "├────────────────────────┼──────────────────────┼──────────────┼─────────────────────┼─────────┤\n",
              "│ lambda_3 (<span style=\"color: #0087ff; text-decoration-color: #0087ff\">Lambda</span>)      │ (<span style=\"color: #00d7ff; text-decoration-color: #00d7ff\">None</span>, <span style=\"color: #00af00; text-decoration-color: #00af00\">64</span>, <span style=\"color: #00af00; text-decoration-color: #00af00\">128</span>, <span style=\"color: #00af00; text-decoration-color: #00af00\">64</span>)  │            <span style=\"color: #00af00; text-decoration-color: #00af00\">0</span> │ up_sampling2d_6[<span style=\"color: #00af00; text-decoration-color: #00af00\">0</span>]… │    <span style=\"font-weight: bold\">-</span>    │\n",
              "├────────────────────────┼──────────────────────┼──────────────┼─────────────────────┼─────────┤\n",
              "│ multiply_3 (<span style=\"color: #0087ff; text-decoration-color: #0087ff\">Multiply</span>)  │ (<span style=\"color: #00d7ff; text-decoration-color: #00d7ff\">None</span>, <span style=\"color: #00af00; text-decoration-color: #00af00\">64</span>, <span style=\"color: #00af00; text-decoration-color: #00af00\">128</span>, <span style=\"color: #00af00; text-decoration-color: #00af00\">64</span>)  │            <span style=\"color: #00af00; text-decoration-color: #00af00\">0</span> │ lambda_3[<span style=\"color: #00af00; text-decoration-color: #00af00\">0</span>][<span style=\"color: #00af00; text-decoration-color: #00af00\">0</span>],     │    <span style=\"font-weight: bold\">-</span>    │\n",
              "│                        │                      │              │ activation_1[<span style=\"color: #00af00; text-decoration-color: #00af00\">0</span>][<span style=\"color: #00af00; text-decoration-color: #00af00\">0</span>]  │         │\n",
              "├────────────────────────┼──────────────────────┼──────────────┼─────────────────────┼─────────┤\n",
              "│ conv2d_40 (<span style=\"color: #0087ff; text-decoration-color: #0087ff\">Conv2D</span>)     │ (<span style=\"color: #00d7ff; text-decoration-color: #00d7ff\">None</span>, <span style=\"color: #00af00; text-decoration-color: #00af00\">64</span>, <span style=\"color: #00af00; text-decoration-color: #00af00\">128</span>, <span style=\"color: #00af00; text-decoration-color: #00af00\">64</span>)  │        <span style=\"color: #00af00; text-decoration-color: #00af00\">4,160</span> │ multiply_3[<span style=\"color: #00af00; text-decoration-color: #00af00\">0</span>][<span style=\"color: #00af00; text-decoration-color: #00af00\">0</span>]    │    <span style=\"color: #00af00; text-decoration-color: #00af00; font-weight: bold\">Y</span>    │\n",
              "├────────────────────────┼──────────────────────┼──────────────┼─────────────────────┼─────────┤\n",
              "│ up_sampling2d_7        │ (<span style=\"color: #00d7ff; text-decoration-color: #00d7ff\">None</span>, <span style=\"color: #00af00; text-decoration-color: #00af00\">64</span>, <span style=\"color: #00af00; text-decoration-color: #00af00\">128</span>, <span style=\"color: #00af00; text-decoration-color: #00af00\">128</span>) │            <span style=\"color: #00af00; text-decoration-color: #00af00\">0</span> │ activation_22[<span style=\"color: #00af00; text-decoration-color: #00af00\">0</span>][<span style=\"color: #00af00; text-decoration-color: #00af00\">0</span>] │    <span style=\"font-weight: bold\">-</span>    │\n",
              "│ (<span style=\"color: #0087ff; text-decoration-color: #0087ff\">UpSampling2D</span>)         │                      │              │                     │         │\n",
              "├────────────────────────┼──────────────────────┼──────────────┼─────────────────────┼─────────┤\n",
              "│ batch_normalization_21 │ (<span style=\"color: #00d7ff; text-decoration-color: #00d7ff\">None</span>, <span style=\"color: #00af00; text-decoration-color: #00af00\">64</span>, <span style=\"color: #00af00; text-decoration-color: #00af00\">128</span>, <span style=\"color: #00af00; text-decoration-color: #00af00\">64</span>)  │          <span style=\"color: #00af00; text-decoration-color: #00af00\">256</span> │ conv2d_40[<span style=\"color: #00af00; text-decoration-color: #00af00\">0</span>][<span style=\"color: #00af00; text-decoration-color: #00af00\">0</span>]     │    <span style=\"color: #00af00; text-decoration-color: #00af00; font-weight: bold\">Y</span>    │\n",
              "│ (<span style=\"color: #0087ff; text-decoration-color: #0087ff\">BatchNormalization</span>)   │                      │              │                     │         │\n",
              "├────────────────────────┼──────────────────────┼──────────────┼─────────────────────┼─────────┤\n",
              "│ concatenate_3          │ (<span style=\"color: #00d7ff; text-decoration-color: #00d7ff\">None</span>, <span style=\"color: #00af00; text-decoration-color: #00af00\">64</span>, <span style=\"color: #00af00; text-decoration-color: #00af00\">128</span>, <span style=\"color: #00af00; text-decoration-color: #00af00\">192</span>) │            <span style=\"color: #00af00; text-decoration-color: #00af00\">0</span> │ up_sampling2d_7[<span style=\"color: #00af00; text-decoration-color: #00af00\">0</span>]… │    <span style=\"font-weight: bold\">-</span>    │\n",
              "│ (<span style=\"color: #0087ff; text-decoration-color: #0087ff\">Concatenate</span>)          │                      │              │ batch_normalizatio… │         │\n",
              "├────────────────────────┼──────────────────────┼──────────────┼─────────────────────┼─────────┤\n",
              "│ conv2d_41 (<span style=\"color: #0087ff; text-decoration-color: #0087ff\">Conv2D</span>)     │ (<span style=\"color: #00d7ff; text-decoration-color: #00d7ff\">None</span>, <span style=\"color: #00af00; text-decoration-color: #00af00\">64</span>, <span style=\"color: #00af00; text-decoration-color: #00af00\">128</span>, <span style=\"color: #00af00; text-decoration-color: #00af00\">64</span>)  │      <span style=\"color: #00af00; text-decoration-color: #00af00\">110,656</span> │ concatenate_3[<span style=\"color: #00af00; text-decoration-color: #00af00\">0</span>][<span style=\"color: #00af00; text-decoration-color: #00af00\">0</span>] │    <span style=\"color: #00af00; text-decoration-color: #00af00; font-weight: bold\">Y</span>    │\n",
              "├────────────────────────┼──────────────────────┼──────────────┼─────────────────────┼─────────┤\n",
              "│ batch_normalization_22 │ (<span style=\"color: #00d7ff; text-decoration-color: #00d7ff\">None</span>, <span style=\"color: #00af00; text-decoration-color: #00af00\">64</span>, <span style=\"color: #00af00; text-decoration-color: #00af00\">128</span>, <span style=\"color: #00af00; text-decoration-color: #00af00\">64</span>)  │          <span style=\"color: #00af00; text-decoration-color: #00af00\">256</span> │ conv2d_41[<span style=\"color: #00af00; text-decoration-color: #00af00\">0</span>][<span style=\"color: #00af00; text-decoration-color: #00af00\">0</span>]     │    <span style=\"color: #00af00; text-decoration-color: #00af00; font-weight: bold\">Y</span>    │\n",
              "│ (<span style=\"color: #0087ff; text-decoration-color: #0087ff\">BatchNormalization</span>)   │                      │              │                     │         │\n",
              "├────────────────────────┼──────────────────────┼──────────────┼─────────────────────┼─────────┤\n",
              "│ activation_26          │ (<span style=\"color: #00d7ff; text-decoration-color: #00d7ff\">None</span>, <span style=\"color: #00af00; text-decoration-color: #00af00\">64</span>, <span style=\"color: #00af00; text-decoration-color: #00af00\">128</span>, <span style=\"color: #00af00; text-decoration-color: #00af00\">64</span>)  │            <span style=\"color: #00af00; text-decoration-color: #00af00\">0</span> │ batch_normalizatio… │    <span style=\"font-weight: bold\">-</span>    │\n",
              "│ (<span style=\"color: #0087ff; text-decoration-color: #0087ff\">Activation</span>)           │                      │              │                     │         │\n",
              "├────────────────────────┼──────────────────────┼──────────────┼─────────────────────┼─────────┤\n",
              "│ conv2d_42 (<span style=\"color: #0087ff; text-decoration-color: #0087ff\">Conv2D</span>)     │ (<span style=\"color: #00d7ff; text-decoration-color: #00d7ff\">None</span>, <span style=\"color: #00af00; text-decoration-color: #00af00\">64</span>, <span style=\"color: #00af00; text-decoration-color: #00af00\">128</span>, <span style=\"color: #00af00; text-decoration-color: #00af00\">64</span>)  │       <span style=\"color: #00af00; text-decoration-color: #00af00\">36,928</span> │ activation_26[<span style=\"color: #00af00; text-decoration-color: #00af00\">0</span>][<span style=\"color: #00af00; text-decoration-color: #00af00\">0</span>] │    <span style=\"color: #00af00; text-decoration-color: #00af00; font-weight: bold\">Y</span>    │\n",
              "├────────────────────────┼──────────────────────┼──────────────┼─────────────────────┼─────────┤\n",
              "│ conv2d_43 (<span style=\"color: #0087ff; text-decoration-color: #0087ff\">Conv2D</span>)     │ (<span style=\"color: #00d7ff; text-decoration-color: #00d7ff\">None</span>, <span style=\"color: #00af00; text-decoration-color: #00af00\">64</span>, <span style=\"color: #00af00; text-decoration-color: #00af00\">128</span>, <span style=\"color: #00af00; text-decoration-color: #00af00\">64</span>)  │       <span style=\"color: #00af00; text-decoration-color: #00af00\">12,352</span> │ concatenate_3[<span style=\"color: #00af00; text-decoration-color: #00af00\">0</span>][<span style=\"color: #00af00; text-decoration-color: #00af00\">0</span>] │    <span style=\"color: #00af00; text-decoration-color: #00af00; font-weight: bold\">Y</span>    │\n",
              "├────────────────────────┼──────────────────────┼──────────────┼─────────────────────┼─────────┤\n",
              "│ batch_normalization_23 │ (<span style=\"color: #00d7ff; text-decoration-color: #00d7ff\">None</span>, <span style=\"color: #00af00; text-decoration-color: #00af00\">64</span>, <span style=\"color: #00af00; text-decoration-color: #00af00\">128</span>, <span style=\"color: #00af00; text-decoration-color: #00af00\">64</span>)  │          <span style=\"color: #00af00; text-decoration-color: #00af00\">256</span> │ conv2d_42[<span style=\"color: #00af00; text-decoration-color: #00af00\">0</span>][<span style=\"color: #00af00; text-decoration-color: #00af00\">0</span>]     │    <span style=\"color: #00af00; text-decoration-color: #00af00; font-weight: bold\">Y</span>    │\n",
              "│ (<span style=\"color: #0087ff; text-decoration-color: #0087ff\">BatchNormalization</span>)   │                      │              │                     │         │\n",
              "├────────────────────────┼──────────────────────┼──────────────┼─────────────────────┼─────────┤\n",
              "│ add_11 (<span style=\"color: #0087ff; text-decoration-color: #0087ff\">Add</span>)           │ (<span style=\"color: #00d7ff; text-decoration-color: #00d7ff\">None</span>, <span style=\"color: #00af00; text-decoration-color: #00af00\">64</span>, <span style=\"color: #00af00; text-decoration-color: #00af00\">128</span>, <span style=\"color: #00af00; text-decoration-color: #00af00\">64</span>)  │            <span style=\"color: #00af00; text-decoration-color: #00af00\">0</span> │ conv2d_43[<span style=\"color: #00af00; text-decoration-color: #00af00\">0</span>][<span style=\"color: #00af00; text-decoration-color: #00af00\">0</span>],    │    <span style=\"font-weight: bold\">-</span>    │\n",
              "│                        │                      │              │ batch_normalizatio… │         │\n",
              "├────────────────────────┼──────────────────────┼──────────────┼─────────────────────┼─────────┤\n",
              "│ activation_27          │ (<span style=\"color: #00d7ff; text-decoration-color: #00d7ff\">None</span>, <span style=\"color: #00af00; text-decoration-color: #00af00\">64</span>, <span style=\"color: #00af00; text-decoration-color: #00af00\">128</span>, <span style=\"color: #00af00; text-decoration-color: #00af00\">64</span>)  │            <span style=\"color: #00af00; text-decoration-color: #00af00\">0</span> │ add_11[<span style=\"color: #00af00; text-decoration-color: #00af00\">0</span>][<span style=\"color: #00af00; text-decoration-color: #00af00\">0</span>]        │    <span style=\"font-weight: bold\">-</span>    │\n",
              "│ (<span style=\"color: #0087ff; text-decoration-color: #0087ff\">Activation</span>)           │                      │              │                     │         │\n",
              "├────────────────────────┼──────────────────────┼──────────────┼─────────────────────┼─────────┤\n",
              "│ conv2d_44 (<span style=\"color: #0087ff; text-decoration-color: #0087ff\">Conv2D</span>)     │ (<span style=\"color: #00d7ff; text-decoration-color: #00d7ff\">None</span>, <span style=\"color: #00af00; text-decoration-color: #00af00\">64</span>, <span style=\"color: #00af00; text-decoration-color: #00af00\">128</span>, <span style=\"color: #00af00; text-decoration-color: #00af00\">5</span>)   │          <span style=\"color: #00af00; text-decoration-color: #00af00\">325</span> │ activation_27[<span style=\"color: #00af00; text-decoration-color: #00af00\">0</span>][<span style=\"color: #00af00; text-decoration-color: #00af00\">0</span>] │    <span style=\"color: #00af00; text-decoration-color: #00af00; font-weight: bold\">Y</span>    │\n",
              "├────────────────────────┼──────────────────────┼──────────────┼─────────────────────┼─────────┤\n",
              "│ batch_normalization_24 │ (<span style=\"color: #00d7ff; text-decoration-color: #00d7ff\">None</span>, <span style=\"color: #00af00; text-decoration-color: #00af00\">64</span>, <span style=\"color: #00af00; text-decoration-color: #00af00\">128</span>, <span style=\"color: #00af00; text-decoration-color: #00af00\">5</span>)   │           <span style=\"color: #00af00; text-decoration-color: #00af00\">20</span> │ conv2d_44[<span style=\"color: #00af00; text-decoration-color: #00af00\">0</span>][<span style=\"color: #00af00; text-decoration-color: #00af00\">0</span>]     │    <span style=\"color: #00af00; text-decoration-color: #00af00; font-weight: bold\">Y</span>    │\n",
              "│ (<span style=\"color: #0087ff; text-decoration-color: #0087ff\">BatchNormalization</span>)   │                      │              │                     │         │\n",
              "├────────────────────────┼──────────────────────┼──────────────┼─────────────────────┼─────────┤\n",
              "│ activation_28          │ (<span style=\"color: #00d7ff; text-decoration-color: #00d7ff\">None</span>, <span style=\"color: #00af00; text-decoration-color: #00af00\">64</span>, <span style=\"color: #00af00; text-decoration-color: #00af00\">128</span>, <span style=\"color: #00af00; text-decoration-color: #00af00\">5</span>)   │            <span style=\"color: #00af00; text-decoration-color: #00af00\">0</span> │ batch_normalizatio… │    <span style=\"font-weight: bold\">-</span>    │\n",
              "│ (<span style=\"color: #0087ff; text-decoration-color: #0087ff\">Activation</span>)           │                      │              │                     │         │\n",
              "└────────────────────────┴──────────────────────┴──────────────┴─────────────────────┴─────────┘\n",
              "</pre>\n"
            ],
            "text/plain": [
              "┏━━━━━━━━━━━━━━━━━━━━━━━━┳━━━━━━━━━━━━━━━━━━━━━━┳━━━━━━━━━━━━━━┳━━━━━━━━━━━━━━━━━━━━━┳━━━━━━━━━┓\n",
              "┃\u001b[1m \u001b[0m\u001b[1mLayer (type)          \u001b[0m\u001b[1m \u001b[0m┃\u001b[1m \u001b[0m\u001b[1mOutput Shape        \u001b[0m\u001b[1m \u001b[0m┃\u001b[1m \u001b[0m\u001b[1m     Param #\u001b[0m\u001b[1m \u001b[0m┃\u001b[1m \u001b[0m\u001b[1mConnected to       \u001b[0m\u001b[1m \u001b[0m┃\u001b[1m \u001b[0m\u001b[1mTraina…\u001b[0m\u001b[1m \u001b[0m┃\n",
              "┡━━━━━━━━━━━━━━━━━━━━━━━━╇━━━━━━━━━━━━━━━━━━━━━━╇━━━━━━━━━━━━━━╇━━━━━━━━━━━━━━━━━━━━━╇━━━━━━━━━┩\n",
              "│ input_layer            │ (\u001b[38;5;45mNone\u001b[0m, \u001b[38;5;34m64\u001b[0m, \u001b[38;5;34m128\u001b[0m, \u001b[38;5;34m1\u001b[0m)   │            \u001b[38;5;34m0\u001b[0m │ -                   │    \u001b[1m-\u001b[0m    │\n",
              "│ (\u001b[38;5;33mInputLayer\u001b[0m)           │                      │              │                     │         │\n",
              "├────────────────────────┼──────────────────────┼──────────────┼─────────────────────┼─────────┤\n",
              "│ conv2d (\u001b[38;5;33mConv2D\u001b[0m)        │ (\u001b[38;5;45mNone\u001b[0m, \u001b[38;5;34m64\u001b[0m, \u001b[38;5;34m128\u001b[0m, \u001b[38;5;34m64\u001b[0m)  │          \u001b[38;5;34m640\u001b[0m │ input_layer[\u001b[38;5;34m0\u001b[0m][\u001b[38;5;34m0\u001b[0m]   │    \u001b[1;38;5;34mY\u001b[0m    │\n",
              "├────────────────────────┼──────────────────────┼──────────────┼─────────────────────┼─────────┤\n",
              "│ batch_normalization    │ (\u001b[38;5;45mNone\u001b[0m, \u001b[38;5;34m64\u001b[0m, \u001b[38;5;34m128\u001b[0m, \u001b[38;5;34m64\u001b[0m)  │          \u001b[38;5;34m256\u001b[0m │ conv2d[\u001b[38;5;34m0\u001b[0m][\u001b[38;5;34m0\u001b[0m]        │    \u001b[1;38;5;34mY\u001b[0m    │\n",
              "│ (\u001b[38;5;33mBatchNormalization\u001b[0m)   │                      │              │                     │         │\n",
              "├────────────────────────┼──────────────────────┼──────────────┼─────────────────────┼─────────┤\n",
              "│ activation             │ (\u001b[38;5;45mNone\u001b[0m, \u001b[38;5;34m64\u001b[0m, \u001b[38;5;34m128\u001b[0m, \u001b[38;5;34m64\u001b[0m)  │            \u001b[38;5;34m0\u001b[0m │ batch_normalizatio… │    \u001b[1m-\u001b[0m    │\n",
              "│ (\u001b[38;5;33mActivation\u001b[0m)           │                      │              │                     │         │\n",
              "├────────────────────────┼──────────────────────┼──────────────┼─────────────────────┼─────────┤\n",
              "│ conv2d_1 (\u001b[38;5;33mConv2D\u001b[0m)      │ (\u001b[38;5;45mNone\u001b[0m, \u001b[38;5;34m64\u001b[0m, \u001b[38;5;34m128\u001b[0m, \u001b[38;5;34m64\u001b[0m)  │       \u001b[38;5;34m36,928\u001b[0m │ activation[\u001b[38;5;34m0\u001b[0m][\u001b[38;5;34m0\u001b[0m]    │    \u001b[1;38;5;34mY\u001b[0m    │\n",
              "├────────────────────────┼──────────────────────┼──────────────┼─────────────────────┼─────────┤\n",
              "│ conv2d_2 (\u001b[38;5;33mConv2D\u001b[0m)      │ (\u001b[38;5;45mNone\u001b[0m, \u001b[38;5;34m64\u001b[0m, \u001b[38;5;34m128\u001b[0m, \u001b[38;5;34m64\u001b[0m)  │          \u001b[38;5;34m128\u001b[0m │ input_layer[\u001b[38;5;34m0\u001b[0m][\u001b[38;5;34m0\u001b[0m]   │    \u001b[1;38;5;34mY\u001b[0m    │\n",
              "├────────────────────────┼──────────────────────┼──────────────┼─────────────────────┼─────────┤\n",
              "│ batch_normalization_1  │ (\u001b[38;5;45mNone\u001b[0m, \u001b[38;5;34m64\u001b[0m, \u001b[38;5;34m128\u001b[0m, \u001b[38;5;34m64\u001b[0m)  │          \u001b[38;5;34m256\u001b[0m │ conv2d_1[\u001b[38;5;34m0\u001b[0m][\u001b[38;5;34m0\u001b[0m]      │    \u001b[1;38;5;34mY\u001b[0m    │\n",
              "│ (\u001b[38;5;33mBatchNormalization\u001b[0m)   │                      │              │                     │         │\n",
              "├────────────────────────┼──────────────────────┼──────────────┼─────────────────────┼─────────┤\n",
              "│ add (\u001b[38;5;33mAdd\u001b[0m)              │ (\u001b[38;5;45mNone\u001b[0m, \u001b[38;5;34m64\u001b[0m, \u001b[38;5;34m128\u001b[0m, \u001b[38;5;34m64\u001b[0m)  │            \u001b[38;5;34m0\u001b[0m │ conv2d_2[\u001b[38;5;34m0\u001b[0m][\u001b[38;5;34m0\u001b[0m],     │    \u001b[1m-\u001b[0m    │\n",
              "│                        │                      │              │ batch_normalizatio… │         │\n",
              "├────────────────────────┼──────────────────────┼──────────────┼─────────────────────┼─────────┤\n",
              "│ activation_1           │ (\u001b[38;5;45mNone\u001b[0m, \u001b[38;5;34m64\u001b[0m, \u001b[38;5;34m128\u001b[0m, \u001b[38;5;34m64\u001b[0m)  │            \u001b[38;5;34m0\u001b[0m │ add[\u001b[38;5;34m0\u001b[0m][\u001b[38;5;34m0\u001b[0m]           │    \u001b[1m-\u001b[0m    │\n",
              "│ (\u001b[38;5;33mActivation\u001b[0m)           │                      │              │                     │         │\n",
              "├────────────────────────┼──────────────────────┼──────────────┼─────────────────────┼─────────┤\n",
              "│ max_pooling2d          │ (\u001b[38;5;45mNone\u001b[0m, \u001b[38;5;34m32\u001b[0m, \u001b[38;5;34m64\u001b[0m, \u001b[38;5;34m64\u001b[0m)   │            \u001b[38;5;34m0\u001b[0m │ activation_1[\u001b[38;5;34m0\u001b[0m][\u001b[38;5;34m0\u001b[0m]  │    \u001b[1m-\u001b[0m    │\n",
              "│ (\u001b[38;5;33mMaxPooling2D\u001b[0m)         │                      │              │                     │         │\n",
              "├────────────────────────┼──────────────────────┼──────────────┼─────────────────────┼─────────┤\n",
              "│ conv2d_3 (\u001b[38;5;33mConv2D\u001b[0m)      │ (\u001b[38;5;45mNone\u001b[0m, \u001b[38;5;34m32\u001b[0m, \u001b[38;5;34m64\u001b[0m, \u001b[38;5;34m128\u001b[0m)  │       \u001b[38;5;34m73,856\u001b[0m │ max_pooling2d[\u001b[38;5;34m0\u001b[0m][\u001b[38;5;34m0\u001b[0m] │    \u001b[1;38;5;34mY\u001b[0m    │\n",
              "├────────────────────────┼──────────────────────┼──────────────┼─────────────────────┼─────────┤\n",
              "│ batch_normalization_2  │ (\u001b[38;5;45mNone\u001b[0m, \u001b[38;5;34m32\u001b[0m, \u001b[38;5;34m64\u001b[0m, \u001b[38;5;34m128\u001b[0m)  │          \u001b[38;5;34m512\u001b[0m │ conv2d_3[\u001b[38;5;34m0\u001b[0m][\u001b[38;5;34m0\u001b[0m]      │    \u001b[1;38;5;34mY\u001b[0m    │\n",
              "│ (\u001b[38;5;33mBatchNormalization\u001b[0m)   │                      │              │                     │         │\n",
              "├────────────────────────┼──────────────────────┼──────────────┼─────────────────────┼─────────┤\n",
              "│ activation_2           │ (\u001b[38;5;45mNone\u001b[0m, \u001b[38;5;34m32\u001b[0m, \u001b[38;5;34m64\u001b[0m, \u001b[38;5;34m128\u001b[0m)  │            \u001b[38;5;34m0\u001b[0m │ batch_normalizatio… │    \u001b[1m-\u001b[0m    │\n",
              "│ (\u001b[38;5;33mActivation\u001b[0m)           │                      │              │                     │         │\n",
              "├────────────────────────┼──────────────────────┼──────────────┼─────────────────────┼─────────┤\n",
              "│ conv2d_4 (\u001b[38;5;33mConv2D\u001b[0m)      │ (\u001b[38;5;45mNone\u001b[0m, \u001b[38;5;34m32\u001b[0m, \u001b[38;5;34m64\u001b[0m, \u001b[38;5;34m128\u001b[0m)  │      \u001b[38;5;34m147,584\u001b[0m │ activation_2[\u001b[38;5;34m0\u001b[0m][\u001b[38;5;34m0\u001b[0m]  │    \u001b[1;38;5;34mY\u001b[0m    │\n",
              "├────────────────────────┼──────────────────────┼──────────────┼─────────────────────┼─────────┤\n",
              "│ conv2d_5 (\u001b[38;5;33mConv2D\u001b[0m)      │ (\u001b[38;5;45mNone\u001b[0m, \u001b[38;5;34m32\u001b[0m, \u001b[38;5;34m64\u001b[0m, \u001b[38;5;34m128\u001b[0m)  │        \u001b[38;5;34m8,320\u001b[0m │ max_pooling2d[\u001b[38;5;34m0\u001b[0m][\u001b[38;5;34m0\u001b[0m] │    \u001b[1;38;5;34mY\u001b[0m    │\n",
              "├────────────────────────┼──────────────────────┼──────────────┼─────────────────────┼─────────┤\n",
              "│ batch_normalization_3  │ (\u001b[38;5;45mNone\u001b[0m, \u001b[38;5;34m32\u001b[0m, \u001b[38;5;34m64\u001b[0m, \u001b[38;5;34m128\u001b[0m)  │          \u001b[38;5;34m512\u001b[0m │ conv2d_4[\u001b[38;5;34m0\u001b[0m][\u001b[38;5;34m0\u001b[0m]      │    \u001b[1;38;5;34mY\u001b[0m    │\n",
              "│ (\u001b[38;5;33mBatchNormalization\u001b[0m)   │                      │              │                     │         │\n",
              "├────────────────────────┼──────────────────────┼──────────────┼─────────────────────┼─────────┤\n",
              "│ add_1 (\u001b[38;5;33mAdd\u001b[0m)            │ (\u001b[38;5;45mNone\u001b[0m, \u001b[38;5;34m32\u001b[0m, \u001b[38;5;34m64\u001b[0m, \u001b[38;5;34m128\u001b[0m)  │            \u001b[38;5;34m0\u001b[0m │ conv2d_5[\u001b[38;5;34m0\u001b[0m][\u001b[38;5;34m0\u001b[0m],     │    \u001b[1m-\u001b[0m    │\n",
              "│                        │                      │              │ batch_normalizatio… │         │\n",
              "├────────────────────────┼──────────────────────┼──────────────┼─────────────────────┼─────────┤\n",
              "│ activation_3           │ (\u001b[38;5;45mNone\u001b[0m, \u001b[38;5;34m32\u001b[0m, \u001b[38;5;34m64\u001b[0m, \u001b[38;5;34m128\u001b[0m)  │            \u001b[38;5;34m0\u001b[0m │ add_1[\u001b[38;5;34m0\u001b[0m][\u001b[38;5;34m0\u001b[0m]         │    \u001b[1m-\u001b[0m    │\n",
              "│ (\u001b[38;5;33mActivation\u001b[0m)           │                      │              │                     │         │\n",
              "├────────────────────────┼──────────────────────┼──────────────┼─────────────────────┼─────────┤\n",
              "│ max_pooling2d_1        │ (\u001b[38;5;45mNone\u001b[0m, \u001b[38;5;34m16\u001b[0m, \u001b[38;5;34m32\u001b[0m, \u001b[38;5;34m128\u001b[0m)  │            \u001b[38;5;34m0\u001b[0m │ activation_3[\u001b[38;5;34m0\u001b[0m][\u001b[38;5;34m0\u001b[0m]  │    \u001b[1m-\u001b[0m    │\n",
              "│ (\u001b[38;5;33mMaxPooling2D\u001b[0m)         │                      │              │                     │         │\n",
              "├────────────────────────┼──────────────────────┼──────────────┼─────────────────────┼─────────┤\n",
              "│ conv2d_6 (\u001b[38;5;33mConv2D\u001b[0m)      │ (\u001b[38;5;45mNone\u001b[0m, \u001b[38;5;34m16\u001b[0m, \u001b[38;5;34m32\u001b[0m, \u001b[38;5;34m256\u001b[0m)  │      \u001b[38;5;34m295,168\u001b[0m │ max_pooling2d_1[\u001b[38;5;34m0\u001b[0m]… │    \u001b[1;38;5;34mY\u001b[0m    │\n",
              "├────────────────────────┼──────────────────────┼──────────────┼─────────────────────┼─────────┤\n",
              "│ batch_normalization_4  │ (\u001b[38;5;45mNone\u001b[0m, \u001b[38;5;34m16\u001b[0m, \u001b[38;5;34m32\u001b[0m, \u001b[38;5;34m256\u001b[0m)  │        \u001b[38;5;34m1,024\u001b[0m │ conv2d_6[\u001b[38;5;34m0\u001b[0m][\u001b[38;5;34m0\u001b[0m]      │    \u001b[1;38;5;34mY\u001b[0m    │\n",
              "│ (\u001b[38;5;33mBatchNormalization\u001b[0m)   │                      │              │                     │         │\n",
              "├────────────────────────┼──────────────────────┼──────────────┼─────────────────────┼─────────┤\n",
              "│ activation_4           │ (\u001b[38;5;45mNone\u001b[0m, \u001b[38;5;34m16\u001b[0m, \u001b[38;5;34m32\u001b[0m, \u001b[38;5;34m256\u001b[0m)  │            \u001b[38;5;34m0\u001b[0m │ batch_normalizatio… │    \u001b[1m-\u001b[0m    │\n",
              "│ (\u001b[38;5;33mActivation\u001b[0m)           │                      │              │                     │         │\n",
              "├────────────────────────┼──────────────────────┼──────────────┼─────────────────────┼─────────┤\n",
              "│ conv2d_7 (\u001b[38;5;33mConv2D\u001b[0m)      │ (\u001b[38;5;45mNone\u001b[0m, \u001b[38;5;34m16\u001b[0m, \u001b[38;5;34m32\u001b[0m, \u001b[38;5;34m256\u001b[0m)  │      \u001b[38;5;34m590,080\u001b[0m │ activation_4[\u001b[38;5;34m0\u001b[0m][\u001b[38;5;34m0\u001b[0m]  │    \u001b[1;38;5;34mY\u001b[0m    │\n",
              "├────────────────────────┼──────────────────────┼──────────────┼─────────────────────┼─────────┤\n",
              "│ conv2d_8 (\u001b[38;5;33mConv2D\u001b[0m)      │ (\u001b[38;5;45mNone\u001b[0m, \u001b[38;5;34m16\u001b[0m, \u001b[38;5;34m32\u001b[0m, \u001b[38;5;34m256\u001b[0m)  │       \u001b[38;5;34m33,024\u001b[0m │ max_pooling2d_1[\u001b[38;5;34m0\u001b[0m]… │    \u001b[1;38;5;34mY\u001b[0m    │\n",
              "├────────────────────────┼──────────────────────┼──────────────┼─────────────────────┼─────────┤\n",
              "│ batch_normalization_5  │ (\u001b[38;5;45mNone\u001b[0m, \u001b[38;5;34m16\u001b[0m, \u001b[38;5;34m32\u001b[0m, \u001b[38;5;34m256\u001b[0m)  │        \u001b[38;5;34m1,024\u001b[0m │ conv2d_7[\u001b[38;5;34m0\u001b[0m][\u001b[38;5;34m0\u001b[0m]      │    \u001b[1;38;5;34mY\u001b[0m    │\n",
              "│ (\u001b[38;5;33mBatchNormalization\u001b[0m)   │                      │              │                     │         │\n",
              "├────────────────────────┼──────────────────────┼──────────────┼─────────────────────┼─────────┤\n",
              "│ add_2 (\u001b[38;5;33mAdd\u001b[0m)            │ (\u001b[38;5;45mNone\u001b[0m, \u001b[38;5;34m16\u001b[0m, \u001b[38;5;34m32\u001b[0m, \u001b[38;5;34m256\u001b[0m)  │            \u001b[38;5;34m0\u001b[0m │ conv2d_8[\u001b[38;5;34m0\u001b[0m][\u001b[38;5;34m0\u001b[0m],     │    \u001b[1m-\u001b[0m    │\n",
              "│                        │                      │              │ batch_normalizatio… │         │\n",
              "├────────────────────────┼──────────────────────┼──────────────┼─────────────────────┼─────────┤\n",
              "│ activation_5           │ (\u001b[38;5;45mNone\u001b[0m, \u001b[38;5;34m16\u001b[0m, \u001b[38;5;34m32\u001b[0m, \u001b[38;5;34m256\u001b[0m)  │            \u001b[38;5;34m0\u001b[0m │ add_2[\u001b[38;5;34m0\u001b[0m][\u001b[38;5;34m0\u001b[0m]         │    \u001b[1m-\u001b[0m    │\n",
              "│ (\u001b[38;5;33mActivation\u001b[0m)           │                      │              │                     │         │\n",
              "├────────────────────────┼──────────────────────┼──────────────┼─────────────────────┼─────────┤\n",
              "│ max_pooling2d_2        │ (\u001b[38;5;45mNone\u001b[0m, \u001b[38;5;34m8\u001b[0m, \u001b[38;5;34m16\u001b[0m, \u001b[38;5;34m256\u001b[0m)   │            \u001b[38;5;34m0\u001b[0m │ activation_5[\u001b[38;5;34m0\u001b[0m][\u001b[38;5;34m0\u001b[0m]  │    \u001b[1m-\u001b[0m    │\n",
              "│ (\u001b[38;5;33mMaxPooling2D\u001b[0m)         │                      │              │                     │         │\n",
              "├────────────────────────┼──────────────────────┼──────────────┼─────────────────────┼─────────┤\n",
              "│ conv2d_9 (\u001b[38;5;33mConv2D\u001b[0m)      │ (\u001b[38;5;45mNone\u001b[0m, \u001b[38;5;34m8\u001b[0m, \u001b[38;5;34m16\u001b[0m, \u001b[38;5;34m512\u001b[0m)   │    \u001b[38;5;34m1,180,160\u001b[0m │ max_pooling2d_2[\u001b[38;5;34m0\u001b[0m]… │    \u001b[1;38;5;34mY\u001b[0m    │\n",
              "├────────────────────────┼──────────────────────┼──────────────┼─────────────────────┼─────────┤\n",
              "│ batch_normalization_6  │ (\u001b[38;5;45mNone\u001b[0m, \u001b[38;5;34m8\u001b[0m, \u001b[38;5;34m16\u001b[0m, \u001b[38;5;34m512\u001b[0m)   │        \u001b[38;5;34m2,048\u001b[0m │ conv2d_9[\u001b[38;5;34m0\u001b[0m][\u001b[38;5;34m0\u001b[0m]      │    \u001b[1;38;5;34mY\u001b[0m    │\n",
              "│ (\u001b[38;5;33mBatchNormalization\u001b[0m)   │                      │              │                     │         │\n",
              "├────────────────────────┼──────────────────────┼──────────────┼─────────────────────┼─────────┤\n",
              "│ activation_6           │ (\u001b[38;5;45mNone\u001b[0m, \u001b[38;5;34m8\u001b[0m, \u001b[38;5;34m16\u001b[0m, \u001b[38;5;34m512\u001b[0m)   │            \u001b[38;5;34m0\u001b[0m │ batch_normalizatio… │    \u001b[1m-\u001b[0m    │\n",
              "│ (\u001b[38;5;33mActivation\u001b[0m)           │                      │              │                     │         │\n",
              "├────────────────────────┼──────────────────────┼──────────────┼─────────────────────┼─────────┤\n",
              "│ conv2d_10 (\u001b[38;5;33mConv2D\u001b[0m)     │ (\u001b[38;5;45mNone\u001b[0m, \u001b[38;5;34m8\u001b[0m, \u001b[38;5;34m16\u001b[0m, \u001b[38;5;34m512\u001b[0m)   │    \u001b[38;5;34m2,359,808\u001b[0m │ activation_6[\u001b[38;5;34m0\u001b[0m][\u001b[38;5;34m0\u001b[0m]  │    \u001b[1;38;5;34mY\u001b[0m    │\n",
              "├────────────────────────┼──────────────────────┼──────────────┼─────────────────────┼─────────┤\n",
              "│ conv2d_11 (\u001b[38;5;33mConv2D\u001b[0m)     │ (\u001b[38;5;45mNone\u001b[0m, \u001b[38;5;34m8\u001b[0m, \u001b[38;5;34m16\u001b[0m, \u001b[38;5;34m512\u001b[0m)   │      \u001b[38;5;34m131,584\u001b[0m │ max_pooling2d_2[\u001b[38;5;34m0\u001b[0m]… │    \u001b[1;38;5;34mY\u001b[0m    │\n",
              "├────────────────────────┼──────────────────────┼──────────────┼─────────────────────┼─────────┤\n",
              "│ batch_normalization_7  │ (\u001b[38;5;45mNone\u001b[0m, \u001b[38;5;34m8\u001b[0m, \u001b[38;5;34m16\u001b[0m, \u001b[38;5;34m512\u001b[0m)   │        \u001b[38;5;34m2,048\u001b[0m │ conv2d_10[\u001b[38;5;34m0\u001b[0m][\u001b[38;5;34m0\u001b[0m]     │    \u001b[1;38;5;34mY\u001b[0m    │\n",
              "│ (\u001b[38;5;33mBatchNormalization\u001b[0m)   │                      │              │                     │         │\n",
              "├────────────────────────┼──────────────────────┼──────────────┼─────────────────────┼─────────┤\n",
              "│ add_3 (\u001b[38;5;33mAdd\u001b[0m)            │ (\u001b[38;5;45mNone\u001b[0m, \u001b[38;5;34m8\u001b[0m, \u001b[38;5;34m16\u001b[0m, \u001b[38;5;34m512\u001b[0m)   │            \u001b[38;5;34m0\u001b[0m │ conv2d_11[\u001b[38;5;34m0\u001b[0m][\u001b[38;5;34m0\u001b[0m],    │    \u001b[1m-\u001b[0m    │\n",
              "│                        │                      │              │ batch_normalizatio… │         │\n",
              "├────────────────────────┼──────────────────────┼──────────────┼─────────────────────┼─────────┤\n",
              "│ activation_7           │ (\u001b[38;5;45mNone\u001b[0m, \u001b[38;5;34m8\u001b[0m, \u001b[38;5;34m16\u001b[0m, \u001b[38;5;34m512\u001b[0m)   │            \u001b[38;5;34m0\u001b[0m │ add_3[\u001b[38;5;34m0\u001b[0m][\u001b[38;5;34m0\u001b[0m]         │    \u001b[1m-\u001b[0m    │\n",
              "│ (\u001b[38;5;33mActivation\u001b[0m)           │                      │              │                     │         │\n",
              "├────────────────────────┼──────────────────────┼──────────────┼─────────────────────┼─────────┤\n",
              "│ max_pooling2d_3        │ (\u001b[38;5;45mNone\u001b[0m, \u001b[38;5;34m4\u001b[0m, \u001b[38;5;34m8\u001b[0m, \u001b[38;5;34m512\u001b[0m)    │            \u001b[38;5;34m0\u001b[0m │ activation_7[\u001b[38;5;34m0\u001b[0m][\u001b[38;5;34m0\u001b[0m]  │    \u001b[1m-\u001b[0m    │\n",
              "│ (\u001b[38;5;33mMaxPooling2D\u001b[0m)         │                      │              │                     │         │\n",
              "├────────────────────────┼──────────────────────┼──────────────┼─────────────────────┼─────────┤\n",
              "│ bottleneck_conv_0      │ (\u001b[38;5;45mNone\u001b[0m, \u001b[38;5;34m4\u001b[0m, \u001b[38;5;34m8\u001b[0m, \u001b[38;5;34m1024\u001b[0m)   │    \u001b[38;5;34m4,718,592\u001b[0m │ max_pooling2d_3[\u001b[38;5;34m0\u001b[0m]… │    \u001b[1;38;5;34mY\u001b[0m    │\n",
              "│ (\u001b[38;5;33mConv2D\u001b[0m)               │                      │              │                     │         │\n",
              "├────────────────────────┼──────────────────────┼──────────────┼─────────────────────┼─────────┤\n",
              "│ bottleneck_bn1_0       │ (\u001b[38;5;45mNone\u001b[0m, \u001b[38;5;34m4\u001b[0m, \u001b[38;5;34m8\u001b[0m, \u001b[38;5;34m1024\u001b[0m)   │        \u001b[38;5;34m4,096\u001b[0m │ bottleneck_conv_0[\u001b[38;5;34m…\u001b[0m │    \u001b[1;38;5;34mY\u001b[0m    │\n",
              "│ (\u001b[38;5;33mBatchNormalization\u001b[0m)   │                      │              │                     │         │\n",
              "├────────────────────────┼──────────────────────┼──────────────┼─────────────────────┼─────────┤\n",
              "│ bottleneck_activation… │ (\u001b[38;5;45mNone\u001b[0m, \u001b[38;5;34m4\u001b[0m, \u001b[38;5;34m8\u001b[0m, \u001b[38;5;34m1024\u001b[0m)   │            \u001b[38;5;34m0\u001b[0m │ bottleneck_bn1_0[\u001b[38;5;34m0\u001b[0m… │    \u001b[1m-\u001b[0m    │\n",
              "│ (\u001b[38;5;33mActivation\u001b[0m)           │                      │              │                     │         │\n",
              "├────────────────────────┼──────────────────────┼──────────────┼─────────────────────┼─────────┤\n",
              "│ bottleneck_squeeze_0   │ (\u001b[38;5;45mNone\u001b[0m, \u001b[38;5;34m1024\u001b[0m)         │            \u001b[38;5;34m0\u001b[0m │ bottleneck_activat… │    \u001b[1m-\u001b[0m    │\n",
              "│ (\u001b[38;5;33mGlobalAveragePooling…\u001b[0m │                      │              │                     │         │\n",
              "├────────────────────────┼──────────────────────┼──────────────┼─────────────────────┼─────────┤\n",
              "│ bottleneck_dense1_0    │ (\u001b[38;5;45mNone\u001b[0m, \u001b[38;5;34m64\u001b[0m)           │       \u001b[38;5;34m65,600\u001b[0m │ bottleneck_squeeze… │    \u001b[1;38;5;34mY\u001b[0m    │\n",
              "│ (\u001b[38;5;33mDense\u001b[0m)                │                      │              │                     │         │\n",
              "├────────────────────────┼──────────────────────┼──────────────┼─────────────────────┼─────────┤\n",
              "│ bottleneck_dense2_0    │ (\u001b[38;5;45mNone\u001b[0m, \u001b[38;5;34m1024\u001b[0m)         │       \u001b[38;5;34m66,560\u001b[0m │ bottleneck_dense1_… │    \u001b[1;38;5;34mY\u001b[0m    │\n",
              "│ (\u001b[38;5;33mDense\u001b[0m)                │                      │              │                     │         │\n",
              "├────────────────────────┼──────────────────────┼──────────────┼─────────────────────┼─────────┤\n",
              "│ reshape (\u001b[38;5;33mReshape\u001b[0m)      │ (\u001b[38;5;45mNone\u001b[0m, \u001b[38;5;34m1\u001b[0m, \u001b[38;5;34m1\u001b[0m, \u001b[38;5;34m1024\u001b[0m)   │            \u001b[38;5;34m0\u001b[0m │ bottleneck_dense2_… │    \u001b[1m-\u001b[0m    │\n",
              "├────────────────────────┼──────────────────────┼──────────────┼─────────────────────┼─────────┤\n",
              "│ bottleneck_scale_0     │ (\u001b[38;5;45mNone\u001b[0m, \u001b[38;5;34m4\u001b[0m, \u001b[38;5;34m8\u001b[0m, \u001b[38;5;34m1024\u001b[0m)   │            \u001b[38;5;34m0\u001b[0m │ bottleneck_activat… │    \u001b[1m-\u001b[0m    │\n",
              "│ (\u001b[38;5;33mMultiply\u001b[0m)             │                      │              │ reshape[\u001b[38;5;34m0\u001b[0m][\u001b[38;5;34m0\u001b[0m]       │         │\n",
              "├────────────────────────┼──────────────────────┼──────────────┼─────────────────────┼─────────┤\n",
              "│ conv2d_12 (\u001b[38;5;33mConv2D\u001b[0m)     │ (\u001b[38;5;45mNone\u001b[0m, \u001b[38;5;34m4\u001b[0m, \u001b[38;5;34m8\u001b[0m, \u001b[38;5;34m512\u001b[0m)    │      \u001b[38;5;34m524,800\u001b[0m │ bottleneck_scale_0… │    \u001b[1;38;5;34mY\u001b[0m    │\n",
              "├────────────────────────┼──────────────────────┼──────────────┼─────────────────────┼─────────┤\n",
              "│ batch_normalization_8  │ (\u001b[38;5;45mNone\u001b[0m, \u001b[38;5;34m4\u001b[0m, \u001b[38;5;34m8\u001b[0m, \u001b[38;5;34m512\u001b[0m)    │        \u001b[38;5;34m2,048\u001b[0m │ conv2d_12[\u001b[38;5;34m0\u001b[0m][\u001b[38;5;34m0\u001b[0m]     │    \u001b[1;38;5;34mY\u001b[0m    │\n",
              "│ (\u001b[38;5;33mBatchNormalization\u001b[0m)   │                      │              │                     │         │\n",
              "├────────────────────────┼──────────────────────┼──────────────┼─────────────────────┼─────────┤\n",
              "│ activation_8           │ (\u001b[38;5;45mNone\u001b[0m, \u001b[38;5;34m4\u001b[0m, \u001b[38;5;34m8\u001b[0m, \u001b[38;5;34m512\u001b[0m)    │            \u001b[38;5;34m0\u001b[0m │ batch_normalizatio… │    \u001b[1m-\u001b[0m    │\n",
              "│ (\u001b[38;5;33mActivation\u001b[0m)           │                      │              │                     │         │\n",
              "├────────────────────────┼──────────────────────┼──────────────┼─────────────────────┼─────────┤\n",
              "│ conv2d_14 (\u001b[38;5;33mConv2D\u001b[0m)     │ (\u001b[38;5;45mNone\u001b[0m, \u001b[38;5;34m4\u001b[0m, \u001b[38;5;34m8\u001b[0m, \u001b[38;5;34m512\u001b[0m)    │      \u001b[38;5;34m262,656\u001b[0m │ activation_8[\u001b[38;5;34m0\u001b[0m][\u001b[38;5;34m0\u001b[0m]  │    \u001b[1;38;5;34mY\u001b[0m    │\n",
              "├────────────────────────┼──────────────────────┼──────────────┼─────────────────────┼─────────┤\n",
              "│ conv2d_transpose       │ (\u001b[38;5;45mNone\u001b[0m, \u001b[38;5;34m4\u001b[0m, \u001b[38;5;34m8\u001b[0m, \u001b[38;5;34m512\u001b[0m)    │    \u001b[38;5;34m2,359,808\u001b[0m │ conv2d_14[\u001b[38;5;34m0\u001b[0m][\u001b[38;5;34m0\u001b[0m]     │    \u001b[1;38;5;34mY\u001b[0m    │\n",
              "│ (\u001b[38;5;33mConv2DTranspose\u001b[0m)      │                      │              │                     │         │\n",
              "├────────────────────────┼──────────────────────┼──────────────┼─────────────────────┼─────────┤\n",
              "│ conv2d_13 (\u001b[38;5;33mConv2D\u001b[0m)     │ (\u001b[38;5;45mNone\u001b[0m, \u001b[38;5;34m4\u001b[0m, \u001b[38;5;34m8\u001b[0m, \u001b[38;5;34m512\u001b[0m)    │    \u001b[38;5;34m1,049,088\u001b[0m │ activation_7[\u001b[38;5;34m0\u001b[0m][\u001b[38;5;34m0\u001b[0m]  │    \u001b[1;38;5;34mY\u001b[0m    │\n",
              "├────────────────────────┼──────────────────────┼──────────────┼─────────────────────┼─────────┤\n",
              "│ add_4 (\u001b[38;5;33mAdd\u001b[0m)            │ (\u001b[38;5;45mNone\u001b[0m, \u001b[38;5;34m4\u001b[0m, \u001b[38;5;34m8\u001b[0m, \u001b[38;5;34m512\u001b[0m)    │            \u001b[38;5;34m0\u001b[0m │ conv2d_transpose[\u001b[38;5;34m0\u001b[0m… │    \u001b[1m-\u001b[0m    │\n",
              "│                        │                      │              │ conv2d_13[\u001b[38;5;34m0\u001b[0m][\u001b[38;5;34m0\u001b[0m]     │         │\n",
              "├────────────────────────┼──────────────────────┼──────────────┼─────────────────────┼─────────┤\n",
              "│ activation_9           │ (\u001b[38;5;45mNone\u001b[0m, \u001b[38;5;34m4\u001b[0m, \u001b[38;5;34m8\u001b[0m, \u001b[38;5;34m512\u001b[0m)    │            \u001b[38;5;34m0\u001b[0m │ add_4[\u001b[38;5;34m0\u001b[0m][\u001b[38;5;34m0\u001b[0m]         │    \u001b[1m-\u001b[0m    │\n",
              "│ (\u001b[38;5;33mActivation\u001b[0m)           │                      │              │                     │         │\n",
              "├────────────────────────┼──────────────────────┼──────────────┼─────────────────────┼─────────┤\n",
              "│ conv2d_15 (\u001b[38;5;33mConv2D\u001b[0m)     │ (\u001b[38;5;45mNone\u001b[0m, \u001b[38;5;34m4\u001b[0m, \u001b[38;5;34m8\u001b[0m, \u001b[38;5;34m1\u001b[0m)      │          \u001b[38;5;34m513\u001b[0m │ activation_9[\u001b[38;5;34m0\u001b[0m][\u001b[38;5;34m0\u001b[0m]  │    \u001b[1;38;5;34mY\u001b[0m    │\n",
              "├────────────────────────┼──────────────────────┼──────────────┼─────────────────────┼─────────┤\n",
              "│ activation_10          │ (\u001b[38;5;45mNone\u001b[0m, \u001b[38;5;34m4\u001b[0m, \u001b[38;5;34m8\u001b[0m, \u001b[38;5;34m1\u001b[0m)      │            \u001b[38;5;34m0\u001b[0m │ conv2d_15[\u001b[38;5;34m0\u001b[0m][\u001b[38;5;34m0\u001b[0m]     │    \u001b[1m-\u001b[0m    │\n",
              "│ (\u001b[38;5;33mActivation\u001b[0m)           │                      │              │                     │         │\n",
              "├────────────────────────┼──────────────────────┼──────────────┼─────────────────────┼─────────┤\n",
              "│ up_sampling2d          │ (\u001b[38;5;45mNone\u001b[0m, \u001b[38;5;34m8\u001b[0m, \u001b[38;5;34m16\u001b[0m, \u001b[38;5;34m1\u001b[0m)     │            \u001b[38;5;34m0\u001b[0m │ activation_10[\u001b[38;5;34m0\u001b[0m][\u001b[38;5;34m0\u001b[0m] │    \u001b[1m-\u001b[0m    │\n",
              "│ (\u001b[38;5;33mUpSampling2D\u001b[0m)         │                      │              │                     │         │\n",
              "├────────────────────────┼──────────────────────┼──────────────┼─────────────────────┼─────────┤\n",
              "│ lambda (\u001b[38;5;33mLambda\u001b[0m)        │ (\u001b[38;5;45mNone\u001b[0m, \u001b[38;5;34m8\u001b[0m, \u001b[38;5;34m16\u001b[0m, \u001b[38;5;34m512\u001b[0m)   │            \u001b[38;5;34m0\u001b[0m │ up_sampling2d[\u001b[38;5;34m0\u001b[0m][\u001b[38;5;34m0\u001b[0m] │    \u001b[1m-\u001b[0m    │\n",
              "├────────────────────────┼──────────────────────┼──────────────┼─────────────────────┼─────────┤\n",
              "│ multiply (\u001b[38;5;33mMultiply\u001b[0m)    │ (\u001b[38;5;45mNone\u001b[0m, \u001b[38;5;34m8\u001b[0m, \u001b[38;5;34m16\u001b[0m, \u001b[38;5;34m512\u001b[0m)   │            \u001b[38;5;34m0\u001b[0m │ lambda[\u001b[38;5;34m0\u001b[0m][\u001b[38;5;34m0\u001b[0m],       │    \u001b[1m-\u001b[0m    │\n",
              "│                        │                      │              │ activation_7[\u001b[38;5;34m0\u001b[0m][\u001b[38;5;34m0\u001b[0m]  │         │\n",
              "├────────────────────────┼──────────────────────┼──────────────┼─────────────────────┼─────────┤\n",
              "│ conv2d_16 (\u001b[38;5;33mConv2D\u001b[0m)     │ (\u001b[38;5;45mNone\u001b[0m, \u001b[38;5;34m8\u001b[0m, \u001b[38;5;34m16\u001b[0m, \u001b[38;5;34m512\u001b[0m)   │      \u001b[38;5;34m262,656\u001b[0m │ multiply[\u001b[38;5;34m0\u001b[0m][\u001b[38;5;34m0\u001b[0m]      │    \u001b[1;38;5;34mY\u001b[0m    │\n",
              "├────────────────────────┼──────────────────────┼──────────────┼─────────────────────┼─────────┤\n",
              "│ up_sampling2d_1        │ (\u001b[38;5;45mNone\u001b[0m, \u001b[38;5;34m8\u001b[0m, \u001b[38;5;34m16\u001b[0m, \u001b[38;5;34m1024\u001b[0m)  │            \u001b[38;5;34m0\u001b[0m │ bottleneck_scale_0… │    \u001b[1m-\u001b[0m    │\n",
              "│ (\u001b[38;5;33mUpSampling2D\u001b[0m)         │                      │              │                     │         │\n",
              "├────────────────────────┼──────────────────────┼──────────────┼─────────────────────┼─────────┤\n",
              "│ batch_normalization_9  │ (\u001b[38;5;45mNone\u001b[0m, \u001b[38;5;34m8\u001b[0m, \u001b[38;5;34m16\u001b[0m, \u001b[38;5;34m512\u001b[0m)   │        \u001b[38;5;34m2,048\u001b[0m │ conv2d_16[\u001b[38;5;34m0\u001b[0m][\u001b[38;5;34m0\u001b[0m]     │    \u001b[1;38;5;34mY\u001b[0m    │\n",
              "│ (\u001b[38;5;33mBatchNormalization\u001b[0m)   │                      │              │                     │         │\n",
              "├────────────────────────┼──────────────────────┼──────────────┼─────────────────────┼─────────┤\n",
              "│ concatenate            │ (\u001b[38;5;45mNone\u001b[0m, \u001b[38;5;34m8\u001b[0m, \u001b[38;5;34m16\u001b[0m, \u001b[38;5;34m1536\u001b[0m)  │            \u001b[38;5;34m0\u001b[0m │ up_sampling2d_1[\u001b[38;5;34m0\u001b[0m]… │    \u001b[1m-\u001b[0m    │\n",
              "│ (\u001b[38;5;33mConcatenate\u001b[0m)          │                      │              │ batch_normalizatio… │         │\n",
              "├────────────────────────┼──────────────────────┼──────────────┼─────────────────────┼─────────┤\n",
              "│ conv2d_17 (\u001b[38;5;33mConv2D\u001b[0m)     │ (\u001b[38;5;45mNone\u001b[0m, \u001b[38;5;34m8\u001b[0m, \u001b[38;5;34m16\u001b[0m, \u001b[38;5;34m512\u001b[0m)   │    \u001b[38;5;34m7,078,400\u001b[0m │ concatenate[\u001b[38;5;34m0\u001b[0m][\u001b[38;5;34m0\u001b[0m]   │    \u001b[1;38;5;34mY\u001b[0m    │\n",
              "├────────────────────────┼──────────────────────┼──────────────┼─────────────────────┼─────────┤\n",
              "│ batch_normalization_10 │ (\u001b[38;5;45mNone\u001b[0m, \u001b[38;5;34m8\u001b[0m, \u001b[38;5;34m16\u001b[0m, \u001b[38;5;34m512\u001b[0m)   │        \u001b[38;5;34m2,048\u001b[0m │ conv2d_17[\u001b[38;5;34m0\u001b[0m][\u001b[38;5;34m0\u001b[0m]     │    \u001b[1;38;5;34mY\u001b[0m    │\n",
              "│ (\u001b[38;5;33mBatchNormalization\u001b[0m)   │                      │              │                     │         │\n",
              "├────────────────────────┼──────────────────────┼──────────────┼─────────────────────┼─────────┤\n",
              "│ activation_11          │ (\u001b[38;5;45mNone\u001b[0m, \u001b[38;5;34m8\u001b[0m, \u001b[38;5;34m16\u001b[0m, \u001b[38;5;34m512\u001b[0m)   │            \u001b[38;5;34m0\u001b[0m │ batch_normalizatio… │    \u001b[1m-\u001b[0m    │\n",
              "│ (\u001b[38;5;33mActivation\u001b[0m)           │                      │              │                     │         │\n",
              "├────────────────────────┼──────────────────────┼──────────────┼─────────────────────┼─────────┤\n",
              "│ conv2d_18 (\u001b[38;5;33mConv2D\u001b[0m)     │ (\u001b[38;5;45mNone\u001b[0m, \u001b[38;5;34m8\u001b[0m, \u001b[38;5;34m16\u001b[0m, \u001b[38;5;34m512\u001b[0m)   │    \u001b[38;5;34m2,359,808\u001b[0m │ activation_11[\u001b[38;5;34m0\u001b[0m][\u001b[38;5;34m0\u001b[0m] │    \u001b[1;38;5;34mY\u001b[0m    │\n",
              "├────────────────────────┼──────────────────────┼──────────────┼─────────────────────┼─────────┤\n",
              "│ conv2d_19 (\u001b[38;5;33mConv2D\u001b[0m)     │ (\u001b[38;5;45mNone\u001b[0m, \u001b[38;5;34m8\u001b[0m, \u001b[38;5;34m16\u001b[0m, \u001b[38;5;34m512\u001b[0m)   │      \u001b[38;5;34m786,944\u001b[0m │ concatenate[\u001b[38;5;34m0\u001b[0m][\u001b[38;5;34m0\u001b[0m]   │    \u001b[1;38;5;34mY\u001b[0m    │\n",
              "├────────────────────────┼──────────────────────┼──────────────┼─────────────────────┼─────────┤\n",
              "│ batch_normalization_11 │ (\u001b[38;5;45mNone\u001b[0m, \u001b[38;5;34m8\u001b[0m, \u001b[38;5;34m16\u001b[0m, \u001b[38;5;34m512\u001b[0m)   │        \u001b[38;5;34m2,048\u001b[0m │ conv2d_18[\u001b[38;5;34m0\u001b[0m][\u001b[38;5;34m0\u001b[0m]     │    \u001b[1;38;5;34mY\u001b[0m    │\n",
              "│ (\u001b[38;5;33mBatchNormalization\u001b[0m)   │                      │              │                     │         │\n",
              "├────────────────────────┼──────────────────────┼──────────────┼─────────────────────┼─────────┤\n",
              "│ add_5 (\u001b[38;5;33mAdd\u001b[0m)            │ (\u001b[38;5;45mNone\u001b[0m, \u001b[38;5;34m8\u001b[0m, \u001b[38;5;34m16\u001b[0m, \u001b[38;5;34m512\u001b[0m)   │            \u001b[38;5;34m0\u001b[0m │ conv2d_19[\u001b[38;5;34m0\u001b[0m][\u001b[38;5;34m0\u001b[0m],    │    \u001b[1m-\u001b[0m    │\n",
              "│                        │                      │              │ batch_normalizatio… │         │\n",
              "├────────────────────────┼──────────────────────┼──────────────┼─────────────────────┼─────────┤\n",
              "│ activation_12          │ (\u001b[38;5;45mNone\u001b[0m, \u001b[38;5;34m8\u001b[0m, \u001b[38;5;34m16\u001b[0m, \u001b[38;5;34m512\u001b[0m)   │            \u001b[38;5;34m0\u001b[0m │ add_5[\u001b[38;5;34m0\u001b[0m][\u001b[38;5;34m0\u001b[0m]         │    \u001b[1m-\u001b[0m    │\n",
              "│ (\u001b[38;5;33mActivation\u001b[0m)           │                      │              │                     │         │\n",
              "├────────────────────────┼──────────────────────┼──────────────┼─────────────────────┼─────────┤\n",
              "│ conv2d_20 (\u001b[38;5;33mConv2D\u001b[0m)     │ (\u001b[38;5;45mNone\u001b[0m, \u001b[38;5;34m8\u001b[0m, \u001b[38;5;34m16\u001b[0m, \u001b[38;5;34m256\u001b[0m)   │      \u001b[38;5;34m131,328\u001b[0m │ activation_12[\u001b[38;5;34m0\u001b[0m][\u001b[38;5;34m0\u001b[0m] │    \u001b[1;38;5;34mY\u001b[0m    │\n",
              "├────────────────────────┼──────────────────────┼──────────────┼─────────────────────┼─────────┤\n",
              "│ batch_normalization_12 │ (\u001b[38;5;45mNone\u001b[0m, \u001b[38;5;34m8\u001b[0m, \u001b[38;5;34m16\u001b[0m, \u001b[38;5;34m256\u001b[0m)   │        \u001b[38;5;34m1,024\u001b[0m │ conv2d_20[\u001b[38;5;34m0\u001b[0m][\u001b[38;5;34m0\u001b[0m]     │    \u001b[1;38;5;34mY\u001b[0m    │\n",
              "│ (\u001b[38;5;33mBatchNormalization\u001b[0m)   │                      │              │                     │         │\n",
              "├────────────────────────┼──────────────────────┼──────────────┼─────────────────────┼─────────┤\n",
              "│ activation_13          │ (\u001b[38;5;45mNone\u001b[0m, \u001b[38;5;34m8\u001b[0m, \u001b[38;5;34m16\u001b[0m, \u001b[38;5;34m256\u001b[0m)   │            \u001b[38;5;34m0\u001b[0m │ batch_normalizatio… │    \u001b[1m-\u001b[0m    │\n",
              "│ (\u001b[38;5;33mActivation\u001b[0m)           │                      │              │                     │         │\n",
              "├────────────────────────┼──────────────────────┼──────────────┼─────────────────────┼─────────┤\n",
              "│ conv2d_22 (\u001b[38;5;33mConv2D\u001b[0m)     │ (\u001b[38;5;45mNone\u001b[0m, \u001b[38;5;34m8\u001b[0m, \u001b[38;5;34m16\u001b[0m, \u001b[38;5;34m256\u001b[0m)   │       \u001b[38;5;34m65,792\u001b[0m │ activation_13[\u001b[38;5;34m0\u001b[0m][\u001b[38;5;34m0\u001b[0m] │    \u001b[1;38;5;34mY\u001b[0m    │\n",
              "├────────────────────────┼──────────────────────┼──────────────┼─────────────────────┼─────────┤\n",
              "│ conv2d_transpose_1     │ (\u001b[38;5;45mNone\u001b[0m, \u001b[38;5;34m8\u001b[0m, \u001b[38;5;34m16\u001b[0m, \u001b[38;5;34m256\u001b[0m)   │      \u001b[38;5;34m590,080\u001b[0m │ conv2d_22[\u001b[38;5;34m0\u001b[0m][\u001b[38;5;34m0\u001b[0m]     │    \u001b[1;38;5;34mY\u001b[0m    │\n",
              "│ (\u001b[38;5;33mConv2DTranspose\u001b[0m)      │                      │              │                     │         │\n",
              "├────────────────────────┼──────────────────────┼──────────────┼─────────────────────┼─────────┤\n",
              "│ conv2d_21 (\u001b[38;5;33mConv2D\u001b[0m)     │ (\u001b[38;5;45mNone\u001b[0m, \u001b[38;5;34m8\u001b[0m, \u001b[38;5;34m16\u001b[0m, \u001b[38;5;34m256\u001b[0m)   │      \u001b[38;5;34m262,400\u001b[0m │ activation_5[\u001b[38;5;34m0\u001b[0m][\u001b[38;5;34m0\u001b[0m]  │    \u001b[1;38;5;34mY\u001b[0m    │\n",
              "├────────────────────────┼──────────────────────┼──────────────┼─────────────────────┼─────────┤\n",
              "│ add_6 (\u001b[38;5;33mAdd\u001b[0m)            │ (\u001b[38;5;45mNone\u001b[0m, \u001b[38;5;34m8\u001b[0m, \u001b[38;5;34m16\u001b[0m, \u001b[38;5;34m256\u001b[0m)   │            \u001b[38;5;34m0\u001b[0m │ conv2d_transpose_1… │    \u001b[1m-\u001b[0m    │\n",
              "│                        │                      │              │ conv2d_21[\u001b[38;5;34m0\u001b[0m][\u001b[38;5;34m0\u001b[0m]     │         │\n",
              "├────────────────────────┼──────────────────────┼──────────────┼─────────────────────┼─────────┤\n",
              "│ activation_14          │ (\u001b[38;5;45mNone\u001b[0m, \u001b[38;5;34m8\u001b[0m, \u001b[38;5;34m16\u001b[0m, \u001b[38;5;34m256\u001b[0m)   │            \u001b[38;5;34m0\u001b[0m │ add_6[\u001b[38;5;34m0\u001b[0m][\u001b[38;5;34m0\u001b[0m]         │    \u001b[1m-\u001b[0m    │\n",
              "│ (\u001b[38;5;33mActivation\u001b[0m)           │                      │              │                     │         │\n",
              "├────────────────────────┼──────────────────────┼──────────────┼─────────────────────┼─────────┤\n",
              "│ conv2d_23 (\u001b[38;5;33mConv2D\u001b[0m)     │ (\u001b[38;5;45mNone\u001b[0m, \u001b[38;5;34m8\u001b[0m, \u001b[38;5;34m16\u001b[0m, \u001b[38;5;34m1\u001b[0m)     │          \u001b[38;5;34m257\u001b[0m │ activation_14[\u001b[38;5;34m0\u001b[0m][\u001b[38;5;34m0\u001b[0m] │    \u001b[1;38;5;34mY\u001b[0m    │\n",
              "├────────────────────────┼──────────────────────┼──────────────┼─────────────────────┼─────────┤\n",
              "│ activation_15          │ (\u001b[38;5;45mNone\u001b[0m, \u001b[38;5;34m8\u001b[0m, \u001b[38;5;34m16\u001b[0m, \u001b[38;5;34m1\u001b[0m)     │            \u001b[38;5;34m0\u001b[0m │ conv2d_23[\u001b[38;5;34m0\u001b[0m][\u001b[38;5;34m0\u001b[0m]     │    \u001b[1m-\u001b[0m    │\n",
              "│ (\u001b[38;5;33mActivation\u001b[0m)           │                      │              │                     │         │\n",
              "├────────────────────────┼──────────────────────┼──────────────┼─────────────────────┼─────────┤\n",
              "│ up_sampling2d_2        │ (\u001b[38;5;45mNone\u001b[0m, \u001b[38;5;34m16\u001b[0m, \u001b[38;5;34m32\u001b[0m, \u001b[38;5;34m1\u001b[0m)    │            \u001b[38;5;34m0\u001b[0m │ activation_15[\u001b[38;5;34m0\u001b[0m][\u001b[38;5;34m0\u001b[0m] │    \u001b[1m-\u001b[0m    │\n",
              "│ (\u001b[38;5;33mUpSampling2D\u001b[0m)         │                      │              │                     │         │\n",
              "├────────────────────────┼──────────────────────┼──────────────┼─────────────────────┼─────────┤\n",
              "│ lambda_1 (\u001b[38;5;33mLambda\u001b[0m)      │ (\u001b[38;5;45mNone\u001b[0m, \u001b[38;5;34m16\u001b[0m, \u001b[38;5;34m32\u001b[0m, \u001b[38;5;34m256\u001b[0m)  │            \u001b[38;5;34m0\u001b[0m │ up_sampling2d_2[\u001b[38;5;34m0\u001b[0m]… │    \u001b[1m-\u001b[0m    │\n",
              "├────────────────────────┼──────────────────────┼──────────────┼─────────────────────┼─────────┤\n",
              "│ multiply_1 (\u001b[38;5;33mMultiply\u001b[0m)  │ (\u001b[38;5;45mNone\u001b[0m, \u001b[38;5;34m16\u001b[0m, \u001b[38;5;34m32\u001b[0m, \u001b[38;5;34m256\u001b[0m)  │            \u001b[38;5;34m0\u001b[0m │ lambda_1[\u001b[38;5;34m0\u001b[0m][\u001b[38;5;34m0\u001b[0m],     │    \u001b[1m-\u001b[0m    │\n",
              "│                        │                      │              │ activation_5[\u001b[38;5;34m0\u001b[0m][\u001b[38;5;34m0\u001b[0m]  │         │\n",
              "├────────────────────────┼──────────────────────┼──────────────┼─────────────────────┼─────────┤\n",
              "│ conv2d_24 (\u001b[38;5;33mConv2D\u001b[0m)     │ (\u001b[38;5;45mNone\u001b[0m, \u001b[38;5;34m16\u001b[0m, \u001b[38;5;34m32\u001b[0m, \u001b[38;5;34m256\u001b[0m)  │       \u001b[38;5;34m65,792\u001b[0m │ multiply_1[\u001b[38;5;34m0\u001b[0m][\u001b[38;5;34m0\u001b[0m]    │    \u001b[1;38;5;34mY\u001b[0m    │\n",
              "├────────────────────────┼──────────────────────┼──────────────┼─────────────────────┼─────────┤\n",
              "│ up_sampling2d_3        │ (\u001b[38;5;45mNone\u001b[0m, \u001b[38;5;34m16\u001b[0m, \u001b[38;5;34m32\u001b[0m, \u001b[38;5;34m512\u001b[0m)  │            \u001b[38;5;34m0\u001b[0m │ activation_12[\u001b[38;5;34m0\u001b[0m][\u001b[38;5;34m0\u001b[0m] │    \u001b[1m-\u001b[0m    │\n",
              "│ (\u001b[38;5;33mUpSampling2D\u001b[0m)         │                      │              │                     │         │\n",
              "├────────────────────────┼──────────────────────┼──────────────┼─────────────────────┼─────────┤\n",
              "│ batch_normalization_13 │ (\u001b[38;5;45mNone\u001b[0m, \u001b[38;5;34m16\u001b[0m, \u001b[38;5;34m32\u001b[0m, \u001b[38;5;34m256\u001b[0m)  │        \u001b[38;5;34m1,024\u001b[0m │ conv2d_24[\u001b[38;5;34m0\u001b[0m][\u001b[38;5;34m0\u001b[0m]     │    \u001b[1;38;5;34mY\u001b[0m    │\n",
              "│ (\u001b[38;5;33mBatchNormalization\u001b[0m)   │                      │              │                     │         │\n",
              "├────────────────────────┼──────────────────────┼──────────────┼─────────────────────┼─────────┤\n",
              "│ concatenate_1          │ (\u001b[38;5;45mNone\u001b[0m, \u001b[38;5;34m16\u001b[0m, \u001b[38;5;34m32\u001b[0m, \u001b[38;5;34m768\u001b[0m)  │            \u001b[38;5;34m0\u001b[0m │ up_sampling2d_3[\u001b[38;5;34m0\u001b[0m]… │    \u001b[1m-\u001b[0m    │\n",
              "│ (\u001b[38;5;33mConcatenate\u001b[0m)          │                      │              │ batch_normalizatio… │         │\n",
              "├────────────────────────┼──────────────────────┼──────────────┼─────────────────────┼─────────┤\n",
              "│ conv2d_25 (\u001b[38;5;33mConv2D\u001b[0m)     │ (\u001b[38;5;45mNone\u001b[0m, \u001b[38;5;34m16\u001b[0m, \u001b[38;5;34m32\u001b[0m, \u001b[38;5;34m256\u001b[0m)  │    \u001b[38;5;34m1,769,728\u001b[0m │ concatenate_1[\u001b[38;5;34m0\u001b[0m][\u001b[38;5;34m0\u001b[0m] │    \u001b[1;38;5;34mY\u001b[0m    │\n",
              "├────────────────────────┼──────────────────────┼──────────────┼─────────────────────┼─────────┤\n",
              "│ batch_normalization_14 │ (\u001b[38;5;45mNone\u001b[0m, \u001b[38;5;34m16\u001b[0m, \u001b[38;5;34m32\u001b[0m, \u001b[38;5;34m256\u001b[0m)  │        \u001b[38;5;34m1,024\u001b[0m │ conv2d_25[\u001b[38;5;34m0\u001b[0m][\u001b[38;5;34m0\u001b[0m]     │    \u001b[1;38;5;34mY\u001b[0m    │\n",
              "│ (\u001b[38;5;33mBatchNormalization\u001b[0m)   │                      │              │                     │         │\n",
              "├────────────────────────┼──────────────────────┼──────────────┼─────────────────────┼─────────┤\n",
              "│ activation_16          │ (\u001b[38;5;45mNone\u001b[0m, \u001b[38;5;34m16\u001b[0m, \u001b[38;5;34m32\u001b[0m, \u001b[38;5;34m256\u001b[0m)  │            \u001b[38;5;34m0\u001b[0m │ batch_normalizatio… │    \u001b[1m-\u001b[0m    │\n",
              "│ (\u001b[38;5;33mActivation\u001b[0m)           │                      │              │                     │         │\n",
              "├────────────────────────┼──────────────────────┼──────────────┼─────────────────────┼─────────┤\n",
              "│ conv2d_26 (\u001b[38;5;33mConv2D\u001b[0m)     │ (\u001b[38;5;45mNone\u001b[0m, \u001b[38;5;34m16\u001b[0m, \u001b[38;5;34m32\u001b[0m, \u001b[38;5;34m256\u001b[0m)  │      \u001b[38;5;34m590,080\u001b[0m │ activation_16[\u001b[38;5;34m0\u001b[0m][\u001b[38;5;34m0\u001b[0m] │    \u001b[1;38;5;34mY\u001b[0m    │\n",
              "├────────────────────────┼──────────────────────┼──────────────┼─────────────────────┼─────────┤\n",
              "│ conv2d_27 (\u001b[38;5;33mConv2D\u001b[0m)     │ (\u001b[38;5;45mNone\u001b[0m, \u001b[38;5;34m16\u001b[0m, \u001b[38;5;34m32\u001b[0m, \u001b[38;5;34m256\u001b[0m)  │      \u001b[38;5;34m196,864\u001b[0m │ concatenate_1[\u001b[38;5;34m0\u001b[0m][\u001b[38;5;34m0\u001b[0m] │    \u001b[1;38;5;34mY\u001b[0m    │\n",
              "├────────────────────────┼──────────────────────┼──────────────┼─────────────────────┼─────────┤\n",
              "│ batch_normalization_15 │ (\u001b[38;5;45mNone\u001b[0m, \u001b[38;5;34m16\u001b[0m, \u001b[38;5;34m32\u001b[0m, \u001b[38;5;34m256\u001b[0m)  │        \u001b[38;5;34m1,024\u001b[0m │ conv2d_26[\u001b[38;5;34m0\u001b[0m][\u001b[38;5;34m0\u001b[0m]     │    \u001b[1;38;5;34mY\u001b[0m    │\n",
              "│ (\u001b[38;5;33mBatchNormalization\u001b[0m)   │                      │              │                     │         │\n",
              "├────────────────────────┼──────────────────────┼──────────────┼─────────────────────┼─────────┤\n",
              "│ add_7 (\u001b[38;5;33mAdd\u001b[0m)            │ (\u001b[38;5;45mNone\u001b[0m, \u001b[38;5;34m16\u001b[0m, \u001b[38;5;34m32\u001b[0m, \u001b[38;5;34m256\u001b[0m)  │            \u001b[38;5;34m0\u001b[0m │ conv2d_27[\u001b[38;5;34m0\u001b[0m][\u001b[38;5;34m0\u001b[0m],    │    \u001b[1m-\u001b[0m    │\n",
              "│                        │                      │              │ batch_normalizatio… │         │\n",
              "├────────────────────────┼──────────────────────┼──────────────┼─────────────────────┼─────────┤\n",
              "│ activation_17          │ (\u001b[38;5;45mNone\u001b[0m, \u001b[38;5;34m16\u001b[0m, \u001b[38;5;34m32\u001b[0m, \u001b[38;5;34m256\u001b[0m)  │            \u001b[38;5;34m0\u001b[0m │ add_7[\u001b[38;5;34m0\u001b[0m][\u001b[38;5;34m0\u001b[0m]         │    \u001b[1m-\u001b[0m    │\n",
              "│ (\u001b[38;5;33mActivation\u001b[0m)           │                      │              │                     │         │\n",
              "├────────────────────────┼──────────────────────┼──────────────┼─────────────────────┼─────────┤\n",
              "│ conv2d_28 (\u001b[38;5;33mConv2D\u001b[0m)     │ (\u001b[38;5;45mNone\u001b[0m, \u001b[38;5;34m16\u001b[0m, \u001b[38;5;34m32\u001b[0m, \u001b[38;5;34m128\u001b[0m)  │       \u001b[38;5;34m32,896\u001b[0m │ activation_17[\u001b[38;5;34m0\u001b[0m][\u001b[38;5;34m0\u001b[0m] │    \u001b[1;38;5;34mY\u001b[0m    │\n",
              "├────────────────────────┼──────────────────────┼──────────────┼─────────────────────┼─────────┤\n",
              "│ batch_normalization_16 │ (\u001b[38;5;45mNone\u001b[0m, \u001b[38;5;34m16\u001b[0m, \u001b[38;5;34m32\u001b[0m, \u001b[38;5;34m128\u001b[0m)  │          \u001b[38;5;34m512\u001b[0m │ conv2d_28[\u001b[38;5;34m0\u001b[0m][\u001b[38;5;34m0\u001b[0m]     │    \u001b[1;38;5;34mY\u001b[0m    │\n",
              "│ (\u001b[38;5;33mBatchNormalization\u001b[0m)   │                      │              │                     │         │\n",
              "├────────────────────────┼──────────────────────┼──────────────┼─────────────────────┼─────────┤\n",
              "│ activation_18          │ (\u001b[38;5;45mNone\u001b[0m, \u001b[38;5;34m16\u001b[0m, \u001b[38;5;34m32\u001b[0m, \u001b[38;5;34m128\u001b[0m)  │            \u001b[38;5;34m0\u001b[0m │ batch_normalizatio… │    \u001b[1m-\u001b[0m    │\n",
              "│ (\u001b[38;5;33mActivation\u001b[0m)           │                      │              │                     │         │\n",
              "├────────────────────────┼──────────────────────┼──────────────┼─────────────────────┼─────────┤\n",
              "│ conv2d_30 (\u001b[38;5;33mConv2D\u001b[0m)     │ (\u001b[38;5;45mNone\u001b[0m, \u001b[38;5;34m16\u001b[0m, \u001b[38;5;34m32\u001b[0m, \u001b[38;5;34m128\u001b[0m)  │       \u001b[38;5;34m16,512\u001b[0m │ activation_18[\u001b[38;5;34m0\u001b[0m][\u001b[38;5;34m0\u001b[0m] │    \u001b[1;38;5;34mY\u001b[0m    │\n",
              "├────────────────────────┼──────────────────────┼──────────────┼─────────────────────┼─────────┤\n",
              "│ conv2d_transpose_2     │ (\u001b[38;5;45mNone\u001b[0m, \u001b[38;5;34m16\u001b[0m, \u001b[38;5;34m32\u001b[0m, \u001b[38;5;34m128\u001b[0m)  │      \u001b[38;5;34m147,584\u001b[0m │ conv2d_30[\u001b[38;5;34m0\u001b[0m][\u001b[38;5;34m0\u001b[0m]     │    \u001b[1;38;5;34mY\u001b[0m    │\n",
              "│ (\u001b[38;5;33mConv2DTranspose\u001b[0m)      │                      │              │                     │         │\n",
              "├────────────────────────┼──────────────────────┼──────────────┼─────────────────────┼─────────┤\n",
              "│ conv2d_29 (\u001b[38;5;33mConv2D\u001b[0m)     │ (\u001b[38;5;45mNone\u001b[0m, \u001b[38;5;34m16\u001b[0m, \u001b[38;5;34m32\u001b[0m, \u001b[38;5;34m128\u001b[0m)  │       \u001b[38;5;34m65,664\u001b[0m │ activation_3[\u001b[38;5;34m0\u001b[0m][\u001b[38;5;34m0\u001b[0m]  │    \u001b[1;38;5;34mY\u001b[0m    │\n",
              "├────────────────────────┼──────────────────────┼──────────────┼─────────────────────┼─────────┤\n",
              "│ add_8 (\u001b[38;5;33mAdd\u001b[0m)            │ (\u001b[38;5;45mNone\u001b[0m, \u001b[38;5;34m16\u001b[0m, \u001b[38;5;34m32\u001b[0m, \u001b[38;5;34m128\u001b[0m)  │            \u001b[38;5;34m0\u001b[0m │ conv2d_transpose_2… │    \u001b[1m-\u001b[0m    │\n",
              "│                        │                      │              │ conv2d_29[\u001b[38;5;34m0\u001b[0m][\u001b[38;5;34m0\u001b[0m]     │         │\n",
              "├────────────────────────┼──────────────────────┼──────────────┼─────────────────────┼─────────┤\n",
              "│ activation_19          │ (\u001b[38;5;45mNone\u001b[0m, \u001b[38;5;34m16\u001b[0m, \u001b[38;5;34m32\u001b[0m, \u001b[38;5;34m128\u001b[0m)  │            \u001b[38;5;34m0\u001b[0m │ add_8[\u001b[38;5;34m0\u001b[0m][\u001b[38;5;34m0\u001b[0m]         │    \u001b[1m-\u001b[0m    │\n",
              "│ (\u001b[38;5;33mActivation\u001b[0m)           │                      │              │                     │         │\n",
              "├────────────────────────┼──────────────────────┼──────────────┼─────────────────────┼─────────┤\n",
              "│ conv2d_31 (\u001b[38;5;33mConv2D\u001b[0m)     │ (\u001b[38;5;45mNone\u001b[0m, \u001b[38;5;34m16\u001b[0m, \u001b[38;5;34m32\u001b[0m, \u001b[38;5;34m1\u001b[0m)    │          \u001b[38;5;34m129\u001b[0m │ activation_19[\u001b[38;5;34m0\u001b[0m][\u001b[38;5;34m0\u001b[0m] │    \u001b[1;38;5;34mY\u001b[0m    │\n",
              "├────────────────────────┼──────────────────────┼──────────────┼─────────────────────┼─────────┤\n",
              "│ activation_20          │ (\u001b[38;5;45mNone\u001b[0m, \u001b[38;5;34m16\u001b[0m, \u001b[38;5;34m32\u001b[0m, \u001b[38;5;34m1\u001b[0m)    │            \u001b[38;5;34m0\u001b[0m │ conv2d_31[\u001b[38;5;34m0\u001b[0m][\u001b[38;5;34m0\u001b[0m]     │    \u001b[1m-\u001b[0m    │\n",
              "│ (\u001b[38;5;33mActivation\u001b[0m)           │                      │              │                     │         │\n",
              "├────────────────────────┼──────────────────────┼──────────────┼─────────────────────┼─────────┤\n",
              "│ up_sampling2d_4        │ (\u001b[38;5;45mNone\u001b[0m, \u001b[38;5;34m32\u001b[0m, \u001b[38;5;34m64\u001b[0m, \u001b[38;5;34m1\u001b[0m)    │            \u001b[38;5;34m0\u001b[0m │ activation_20[\u001b[38;5;34m0\u001b[0m][\u001b[38;5;34m0\u001b[0m] │    \u001b[1m-\u001b[0m    │\n",
              "│ (\u001b[38;5;33mUpSampling2D\u001b[0m)         │                      │              │                     │         │\n",
              "├────────────────────────┼──────────────────────┼──────────────┼─────────────────────┼─────────┤\n",
              "│ lambda_2 (\u001b[38;5;33mLambda\u001b[0m)      │ (\u001b[38;5;45mNone\u001b[0m, \u001b[38;5;34m32\u001b[0m, \u001b[38;5;34m64\u001b[0m, \u001b[38;5;34m128\u001b[0m)  │            \u001b[38;5;34m0\u001b[0m │ up_sampling2d_4[\u001b[38;5;34m0\u001b[0m]… │    \u001b[1m-\u001b[0m    │\n",
              "├────────────────────────┼──────────────────────┼──────────────┼─────────────────────┼─────────┤\n",
              "│ multiply_2 (\u001b[38;5;33mMultiply\u001b[0m)  │ (\u001b[38;5;45mNone\u001b[0m, \u001b[38;5;34m32\u001b[0m, \u001b[38;5;34m64\u001b[0m, \u001b[38;5;34m128\u001b[0m)  │            \u001b[38;5;34m0\u001b[0m │ lambda_2[\u001b[38;5;34m0\u001b[0m][\u001b[38;5;34m0\u001b[0m],     │    \u001b[1m-\u001b[0m    │\n",
              "│                        │                      │              │ activation_3[\u001b[38;5;34m0\u001b[0m][\u001b[38;5;34m0\u001b[0m]  │         │\n",
              "├────────────────────────┼──────────────────────┼──────────────┼─────────────────────┼─────────┤\n",
              "│ conv2d_32 (\u001b[38;5;33mConv2D\u001b[0m)     │ (\u001b[38;5;45mNone\u001b[0m, \u001b[38;5;34m32\u001b[0m, \u001b[38;5;34m64\u001b[0m, \u001b[38;5;34m128\u001b[0m)  │       \u001b[38;5;34m16,512\u001b[0m │ multiply_2[\u001b[38;5;34m0\u001b[0m][\u001b[38;5;34m0\u001b[0m]    │    \u001b[1;38;5;34mY\u001b[0m    │\n",
              "├────────────────────────┼──────────────────────┼──────────────┼─────────────────────┼─────────┤\n",
              "│ up_sampling2d_5        │ (\u001b[38;5;45mNone\u001b[0m, \u001b[38;5;34m32\u001b[0m, \u001b[38;5;34m64\u001b[0m, \u001b[38;5;34m256\u001b[0m)  │            \u001b[38;5;34m0\u001b[0m │ activation_17[\u001b[38;5;34m0\u001b[0m][\u001b[38;5;34m0\u001b[0m] │    \u001b[1m-\u001b[0m    │\n",
              "│ (\u001b[38;5;33mUpSampling2D\u001b[0m)         │                      │              │                     │         │\n",
              "├────────────────────────┼──────────────────────┼──────────────┼─────────────────────┼─────────┤\n",
              "│ batch_normalization_17 │ (\u001b[38;5;45mNone\u001b[0m, \u001b[38;5;34m32\u001b[0m, \u001b[38;5;34m64\u001b[0m, \u001b[38;5;34m128\u001b[0m)  │          \u001b[38;5;34m512\u001b[0m │ conv2d_32[\u001b[38;5;34m0\u001b[0m][\u001b[38;5;34m0\u001b[0m]     │    \u001b[1;38;5;34mY\u001b[0m    │\n",
              "│ (\u001b[38;5;33mBatchNormalization\u001b[0m)   │                      │              │                     │         │\n",
              "├────────────────────────┼──────────────────────┼──────────────┼─────────────────────┼─────────┤\n",
              "│ concatenate_2          │ (\u001b[38;5;45mNone\u001b[0m, \u001b[38;5;34m32\u001b[0m, \u001b[38;5;34m64\u001b[0m, \u001b[38;5;34m384\u001b[0m)  │            \u001b[38;5;34m0\u001b[0m │ up_sampling2d_5[\u001b[38;5;34m0\u001b[0m]… │    \u001b[1m-\u001b[0m    │\n",
              "│ (\u001b[38;5;33mConcatenate\u001b[0m)          │                      │              │ batch_normalizatio… │         │\n",
              "├────────────────────────┼──────────────────────┼──────────────┼─────────────────────┼─────────┤\n",
              "│ conv2d_33 (\u001b[38;5;33mConv2D\u001b[0m)     │ (\u001b[38;5;45mNone\u001b[0m, \u001b[38;5;34m32\u001b[0m, \u001b[38;5;34m64\u001b[0m, \u001b[38;5;34m128\u001b[0m)  │      \u001b[38;5;34m442,496\u001b[0m │ concatenate_2[\u001b[38;5;34m0\u001b[0m][\u001b[38;5;34m0\u001b[0m] │    \u001b[1;38;5;34mY\u001b[0m    │\n",
              "├────────────────────────┼──────────────────────┼──────────────┼─────────────────────┼─────────┤\n",
              "│ batch_normalization_18 │ (\u001b[38;5;45mNone\u001b[0m, \u001b[38;5;34m32\u001b[0m, \u001b[38;5;34m64\u001b[0m, \u001b[38;5;34m128\u001b[0m)  │          \u001b[38;5;34m512\u001b[0m │ conv2d_33[\u001b[38;5;34m0\u001b[0m][\u001b[38;5;34m0\u001b[0m]     │    \u001b[1;38;5;34mY\u001b[0m    │\n",
              "│ (\u001b[38;5;33mBatchNormalization\u001b[0m)   │                      │              │                     │         │\n",
              "├────────────────────────┼──────────────────────┼──────────────┼─────────────────────┼─────────┤\n",
              "│ activation_21          │ (\u001b[38;5;45mNone\u001b[0m, \u001b[38;5;34m32\u001b[0m, \u001b[38;5;34m64\u001b[0m, \u001b[38;5;34m128\u001b[0m)  │            \u001b[38;5;34m0\u001b[0m │ batch_normalizatio… │    \u001b[1m-\u001b[0m    │\n",
              "│ (\u001b[38;5;33mActivation\u001b[0m)           │                      │              │                     │         │\n",
              "├────────────────────────┼──────────────────────┼──────────────┼─────────────────────┼─────────┤\n",
              "│ conv2d_34 (\u001b[38;5;33mConv2D\u001b[0m)     │ (\u001b[38;5;45mNone\u001b[0m, \u001b[38;5;34m32\u001b[0m, \u001b[38;5;34m64\u001b[0m, \u001b[38;5;34m128\u001b[0m)  │      \u001b[38;5;34m147,584\u001b[0m │ activation_21[\u001b[38;5;34m0\u001b[0m][\u001b[38;5;34m0\u001b[0m] │    \u001b[1;38;5;34mY\u001b[0m    │\n",
              "├────────────────────────┼──────────────────────┼──────────────┼─────────────────────┼─────────┤\n",
              "│ conv2d_35 (\u001b[38;5;33mConv2D\u001b[0m)     │ (\u001b[38;5;45mNone\u001b[0m, \u001b[38;5;34m32\u001b[0m, \u001b[38;5;34m64\u001b[0m, \u001b[38;5;34m128\u001b[0m)  │       \u001b[38;5;34m49,280\u001b[0m │ concatenate_2[\u001b[38;5;34m0\u001b[0m][\u001b[38;5;34m0\u001b[0m] │    \u001b[1;38;5;34mY\u001b[0m    │\n",
              "├────────────────────────┼──────────────────────┼──────────────┼─────────────────────┼─────────┤\n",
              "│ batch_normalization_19 │ (\u001b[38;5;45mNone\u001b[0m, \u001b[38;5;34m32\u001b[0m, \u001b[38;5;34m64\u001b[0m, \u001b[38;5;34m128\u001b[0m)  │          \u001b[38;5;34m512\u001b[0m │ conv2d_34[\u001b[38;5;34m0\u001b[0m][\u001b[38;5;34m0\u001b[0m]     │    \u001b[1;38;5;34mY\u001b[0m    │\n",
              "│ (\u001b[38;5;33mBatchNormalization\u001b[0m)   │                      │              │                     │         │\n",
              "├────────────────────────┼──────────────────────┼──────────────┼─────────────────────┼─────────┤\n",
              "│ add_9 (\u001b[38;5;33mAdd\u001b[0m)            │ (\u001b[38;5;45mNone\u001b[0m, \u001b[38;5;34m32\u001b[0m, \u001b[38;5;34m64\u001b[0m, \u001b[38;5;34m128\u001b[0m)  │            \u001b[38;5;34m0\u001b[0m │ conv2d_35[\u001b[38;5;34m0\u001b[0m][\u001b[38;5;34m0\u001b[0m],    │    \u001b[1m-\u001b[0m    │\n",
              "│                        │                      │              │ batch_normalizatio… │         │\n",
              "├────────────────────────┼──────────────────────┼──────────────┼─────────────────────┼─────────┤\n",
              "│ activation_22          │ (\u001b[38;5;45mNone\u001b[0m, \u001b[38;5;34m32\u001b[0m, \u001b[38;5;34m64\u001b[0m, \u001b[38;5;34m128\u001b[0m)  │            \u001b[38;5;34m0\u001b[0m │ add_9[\u001b[38;5;34m0\u001b[0m][\u001b[38;5;34m0\u001b[0m]         │    \u001b[1m-\u001b[0m    │\n",
              "│ (\u001b[38;5;33mActivation\u001b[0m)           │                      │              │                     │         │\n",
              "├────────────────────────┼──────────────────────┼──────────────┼─────────────────────┼─────────┤\n",
              "│ conv2d_36 (\u001b[38;5;33mConv2D\u001b[0m)     │ (\u001b[38;5;45mNone\u001b[0m, \u001b[38;5;34m32\u001b[0m, \u001b[38;5;34m64\u001b[0m, \u001b[38;5;34m64\u001b[0m)   │        \u001b[38;5;34m8,256\u001b[0m │ activation_22[\u001b[38;5;34m0\u001b[0m][\u001b[38;5;34m0\u001b[0m] │    \u001b[1;38;5;34mY\u001b[0m    │\n",
              "├────────────────────────┼──────────────────────┼──────────────┼─────────────────────┼─────────┤\n",
              "│ batch_normalization_20 │ (\u001b[38;5;45mNone\u001b[0m, \u001b[38;5;34m32\u001b[0m, \u001b[38;5;34m64\u001b[0m, \u001b[38;5;34m64\u001b[0m)   │          \u001b[38;5;34m256\u001b[0m │ conv2d_36[\u001b[38;5;34m0\u001b[0m][\u001b[38;5;34m0\u001b[0m]     │    \u001b[1;38;5;34mY\u001b[0m    │\n",
              "│ (\u001b[38;5;33mBatchNormalization\u001b[0m)   │                      │              │                     │         │\n",
              "├────────────────────────┼──────────────────────┼──────────────┼─────────────────────┼─────────┤\n",
              "│ activation_23          │ (\u001b[38;5;45mNone\u001b[0m, \u001b[38;5;34m32\u001b[0m, \u001b[38;5;34m64\u001b[0m, \u001b[38;5;34m64\u001b[0m)   │            \u001b[38;5;34m0\u001b[0m │ batch_normalizatio… │    \u001b[1m-\u001b[0m    │\n",
              "│ (\u001b[38;5;33mActivation\u001b[0m)           │                      │              │                     │         │\n",
              "├────────────────────────┼──────────────────────┼──────────────┼─────────────────────┼─────────┤\n",
              "│ conv2d_38 (\u001b[38;5;33mConv2D\u001b[0m)     │ (\u001b[38;5;45mNone\u001b[0m, \u001b[38;5;34m32\u001b[0m, \u001b[38;5;34m64\u001b[0m, \u001b[38;5;34m64\u001b[0m)   │        \u001b[38;5;34m4,160\u001b[0m │ activation_23[\u001b[38;5;34m0\u001b[0m][\u001b[38;5;34m0\u001b[0m] │    \u001b[1;38;5;34mY\u001b[0m    │\n",
              "├────────────────────────┼──────────────────────┼──────────────┼─────────────────────┼─────────┤\n",
              "│ conv2d_transpose_3     │ (\u001b[38;5;45mNone\u001b[0m, \u001b[38;5;34m32\u001b[0m, \u001b[38;5;34m64\u001b[0m, \u001b[38;5;34m64\u001b[0m)   │       \u001b[38;5;34m36,928\u001b[0m │ conv2d_38[\u001b[38;5;34m0\u001b[0m][\u001b[38;5;34m0\u001b[0m]     │    \u001b[1;38;5;34mY\u001b[0m    │\n",
              "│ (\u001b[38;5;33mConv2DTranspose\u001b[0m)      │                      │              │                     │         │\n",
              "├────────────────────────┼──────────────────────┼──────────────┼─────────────────────┼─────────┤\n",
              "│ conv2d_37 (\u001b[38;5;33mConv2D\u001b[0m)     │ (\u001b[38;5;45mNone\u001b[0m, \u001b[38;5;34m32\u001b[0m, \u001b[38;5;34m64\u001b[0m, \u001b[38;5;34m64\u001b[0m)   │       \u001b[38;5;34m16,448\u001b[0m │ activation_1[\u001b[38;5;34m0\u001b[0m][\u001b[38;5;34m0\u001b[0m]  │    \u001b[1;38;5;34mY\u001b[0m    │\n",
              "├────────────────────────┼──────────────────────┼──────────────┼─────────────────────┼─────────┤\n",
              "│ add_10 (\u001b[38;5;33mAdd\u001b[0m)           │ (\u001b[38;5;45mNone\u001b[0m, \u001b[38;5;34m32\u001b[0m, \u001b[38;5;34m64\u001b[0m, \u001b[38;5;34m64\u001b[0m)   │            \u001b[38;5;34m0\u001b[0m │ conv2d_transpose_3… │    \u001b[1m-\u001b[0m    │\n",
              "│                        │                      │              │ conv2d_37[\u001b[38;5;34m0\u001b[0m][\u001b[38;5;34m0\u001b[0m]     │         │\n",
              "├────────────────────────┼──────────────────────┼──────────────┼─────────────────────┼─────────┤\n",
              "│ activation_24          │ (\u001b[38;5;45mNone\u001b[0m, \u001b[38;5;34m32\u001b[0m, \u001b[38;5;34m64\u001b[0m, \u001b[38;5;34m64\u001b[0m)   │            \u001b[38;5;34m0\u001b[0m │ add_10[\u001b[38;5;34m0\u001b[0m][\u001b[38;5;34m0\u001b[0m]        │    \u001b[1m-\u001b[0m    │\n",
              "│ (\u001b[38;5;33mActivation\u001b[0m)           │                      │              │                     │         │\n",
              "├────────────────────────┼──────────────────────┼──────────────┼─────────────────────┼─────────┤\n",
              "│ conv2d_39 (\u001b[38;5;33mConv2D\u001b[0m)     │ (\u001b[38;5;45mNone\u001b[0m, \u001b[38;5;34m32\u001b[0m, \u001b[38;5;34m64\u001b[0m, \u001b[38;5;34m1\u001b[0m)    │           \u001b[38;5;34m65\u001b[0m │ activation_24[\u001b[38;5;34m0\u001b[0m][\u001b[38;5;34m0\u001b[0m] │    \u001b[1;38;5;34mY\u001b[0m    │\n",
              "├────────────────────────┼──────────────────────┼──────────────┼─────────────────────┼─────────┤\n",
              "│ activation_25          │ (\u001b[38;5;45mNone\u001b[0m, \u001b[38;5;34m32\u001b[0m, \u001b[38;5;34m64\u001b[0m, \u001b[38;5;34m1\u001b[0m)    │            \u001b[38;5;34m0\u001b[0m │ conv2d_39[\u001b[38;5;34m0\u001b[0m][\u001b[38;5;34m0\u001b[0m]     │    \u001b[1m-\u001b[0m    │\n",
              "│ (\u001b[38;5;33mActivation\u001b[0m)           │                      │              │                     │         │\n",
              "├────────────────────────┼──────────────────────┼──────────────┼─────────────────────┼─────────┤\n",
              "│ up_sampling2d_6        │ (\u001b[38;5;45mNone\u001b[0m, \u001b[38;5;34m64\u001b[0m, \u001b[38;5;34m128\u001b[0m, \u001b[38;5;34m1\u001b[0m)   │            \u001b[38;5;34m0\u001b[0m │ activation_25[\u001b[38;5;34m0\u001b[0m][\u001b[38;5;34m0\u001b[0m] │    \u001b[1m-\u001b[0m    │\n",
              "│ (\u001b[38;5;33mUpSampling2D\u001b[0m)         │                      │              │                     │         │\n",
              "├────────────────────────┼──────────────────────┼──────────────┼─────────────────────┼─────────┤\n",
              "│ lambda_3 (\u001b[38;5;33mLambda\u001b[0m)      │ (\u001b[38;5;45mNone\u001b[0m, \u001b[38;5;34m64\u001b[0m, \u001b[38;5;34m128\u001b[0m, \u001b[38;5;34m64\u001b[0m)  │            \u001b[38;5;34m0\u001b[0m │ up_sampling2d_6[\u001b[38;5;34m0\u001b[0m]… │    \u001b[1m-\u001b[0m    │\n",
              "├────────────────────────┼──────────────────────┼──────────────┼─────────────────────┼─────────┤\n",
              "│ multiply_3 (\u001b[38;5;33mMultiply\u001b[0m)  │ (\u001b[38;5;45mNone\u001b[0m, \u001b[38;5;34m64\u001b[0m, \u001b[38;5;34m128\u001b[0m, \u001b[38;5;34m64\u001b[0m)  │            \u001b[38;5;34m0\u001b[0m │ lambda_3[\u001b[38;5;34m0\u001b[0m][\u001b[38;5;34m0\u001b[0m],     │    \u001b[1m-\u001b[0m    │\n",
              "│                        │                      │              │ activation_1[\u001b[38;5;34m0\u001b[0m][\u001b[38;5;34m0\u001b[0m]  │         │\n",
              "├────────────────────────┼──────────────────────┼──────────────┼─────────────────────┼─────────┤\n",
              "│ conv2d_40 (\u001b[38;5;33mConv2D\u001b[0m)     │ (\u001b[38;5;45mNone\u001b[0m, \u001b[38;5;34m64\u001b[0m, \u001b[38;5;34m128\u001b[0m, \u001b[38;5;34m64\u001b[0m)  │        \u001b[38;5;34m4,160\u001b[0m │ multiply_3[\u001b[38;5;34m0\u001b[0m][\u001b[38;5;34m0\u001b[0m]    │    \u001b[1;38;5;34mY\u001b[0m    │\n",
              "├────────────────────────┼──────────────────────┼──────────────┼─────────────────────┼─────────┤\n",
              "│ up_sampling2d_7        │ (\u001b[38;5;45mNone\u001b[0m, \u001b[38;5;34m64\u001b[0m, \u001b[38;5;34m128\u001b[0m, \u001b[38;5;34m128\u001b[0m) │            \u001b[38;5;34m0\u001b[0m │ activation_22[\u001b[38;5;34m0\u001b[0m][\u001b[38;5;34m0\u001b[0m] │    \u001b[1m-\u001b[0m    │\n",
              "│ (\u001b[38;5;33mUpSampling2D\u001b[0m)         │                      │              │                     │         │\n",
              "├────────────────────────┼──────────────────────┼──────────────┼─────────────────────┼─────────┤\n",
              "│ batch_normalization_21 │ (\u001b[38;5;45mNone\u001b[0m, \u001b[38;5;34m64\u001b[0m, \u001b[38;5;34m128\u001b[0m, \u001b[38;5;34m64\u001b[0m)  │          \u001b[38;5;34m256\u001b[0m │ conv2d_40[\u001b[38;5;34m0\u001b[0m][\u001b[38;5;34m0\u001b[0m]     │    \u001b[1;38;5;34mY\u001b[0m    │\n",
              "│ (\u001b[38;5;33mBatchNormalization\u001b[0m)   │                      │              │                     │         │\n",
              "├────────────────────────┼──────────────────────┼──────────────┼─────────────────────┼─────────┤\n",
              "│ concatenate_3          │ (\u001b[38;5;45mNone\u001b[0m, \u001b[38;5;34m64\u001b[0m, \u001b[38;5;34m128\u001b[0m, \u001b[38;5;34m192\u001b[0m) │            \u001b[38;5;34m0\u001b[0m │ up_sampling2d_7[\u001b[38;5;34m0\u001b[0m]… │    \u001b[1m-\u001b[0m    │\n",
              "│ (\u001b[38;5;33mConcatenate\u001b[0m)          │                      │              │ batch_normalizatio… │         │\n",
              "├────────────────────────┼──────────────────────┼──────────────┼─────────────────────┼─────────┤\n",
              "│ conv2d_41 (\u001b[38;5;33mConv2D\u001b[0m)     │ (\u001b[38;5;45mNone\u001b[0m, \u001b[38;5;34m64\u001b[0m, \u001b[38;5;34m128\u001b[0m, \u001b[38;5;34m64\u001b[0m)  │      \u001b[38;5;34m110,656\u001b[0m │ concatenate_3[\u001b[38;5;34m0\u001b[0m][\u001b[38;5;34m0\u001b[0m] │    \u001b[1;38;5;34mY\u001b[0m    │\n",
              "├────────────────────────┼──────────────────────┼──────────────┼─────────────────────┼─────────┤\n",
              "│ batch_normalization_22 │ (\u001b[38;5;45mNone\u001b[0m, \u001b[38;5;34m64\u001b[0m, \u001b[38;5;34m128\u001b[0m, \u001b[38;5;34m64\u001b[0m)  │          \u001b[38;5;34m256\u001b[0m │ conv2d_41[\u001b[38;5;34m0\u001b[0m][\u001b[38;5;34m0\u001b[0m]     │    \u001b[1;38;5;34mY\u001b[0m    │\n",
              "│ (\u001b[38;5;33mBatchNormalization\u001b[0m)   │                      │              │                     │         │\n",
              "├────────────────────────┼──────────────────────┼──────────────┼─────────────────────┼─────────┤\n",
              "│ activation_26          │ (\u001b[38;5;45mNone\u001b[0m, \u001b[38;5;34m64\u001b[0m, \u001b[38;5;34m128\u001b[0m, \u001b[38;5;34m64\u001b[0m)  │            \u001b[38;5;34m0\u001b[0m │ batch_normalizatio… │    \u001b[1m-\u001b[0m    │\n",
              "│ (\u001b[38;5;33mActivation\u001b[0m)           │                      │              │                     │         │\n",
              "├────────────────────────┼──────────────────────┼──────────────┼─────────────────────┼─────────┤\n",
              "│ conv2d_42 (\u001b[38;5;33mConv2D\u001b[0m)     │ (\u001b[38;5;45mNone\u001b[0m, \u001b[38;5;34m64\u001b[0m, \u001b[38;5;34m128\u001b[0m, \u001b[38;5;34m64\u001b[0m)  │       \u001b[38;5;34m36,928\u001b[0m │ activation_26[\u001b[38;5;34m0\u001b[0m][\u001b[38;5;34m0\u001b[0m] │    \u001b[1;38;5;34mY\u001b[0m    │\n",
              "├────────────────────────┼──────────────────────┼──────────────┼─────────────────────┼─────────┤\n",
              "│ conv2d_43 (\u001b[38;5;33mConv2D\u001b[0m)     │ (\u001b[38;5;45mNone\u001b[0m, \u001b[38;5;34m64\u001b[0m, \u001b[38;5;34m128\u001b[0m, \u001b[38;5;34m64\u001b[0m)  │       \u001b[38;5;34m12,352\u001b[0m │ concatenate_3[\u001b[38;5;34m0\u001b[0m][\u001b[38;5;34m0\u001b[0m] │    \u001b[1;38;5;34mY\u001b[0m    │\n",
              "├────────────────────────┼──────────────────────┼──────────────┼─────────────────────┼─────────┤\n",
              "│ batch_normalization_23 │ (\u001b[38;5;45mNone\u001b[0m, \u001b[38;5;34m64\u001b[0m, \u001b[38;5;34m128\u001b[0m, \u001b[38;5;34m64\u001b[0m)  │          \u001b[38;5;34m256\u001b[0m │ conv2d_42[\u001b[38;5;34m0\u001b[0m][\u001b[38;5;34m0\u001b[0m]     │    \u001b[1;38;5;34mY\u001b[0m    │\n",
              "│ (\u001b[38;5;33mBatchNormalization\u001b[0m)   │                      │              │                     │         │\n",
              "├────────────────────────┼──────────────────────┼──────────────┼─────────────────────┼─────────┤\n",
              "│ add_11 (\u001b[38;5;33mAdd\u001b[0m)           │ (\u001b[38;5;45mNone\u001b[0m, \u001b[38;5;34m64\u001b[0m, \u001b[38;5;34m128\u001b[0m, \u001b[38;5;34m64\u001b[0m)  │            \u001b[38;5;34m0\u001b[0m │ conv2d_43[\u001b[38;5;34m0\u001b[0m][\u001b[38;5;34m0\u001b[0m],    │    \u001b[1m-\u001b[0m    │\n",
              "│                        │                      │              │ batch_normalizatio… │         │\n",
              "├────────────────────────┼──────────────────────┼──────────────┼─────────────────────┼─────────┤\n",
              "│ activation_27          │ (\u001b[38;5;45mNone\u001b[0m, \u001b[38;5;34m64\u001b[0m, \u001b[38;5;34m128\u001b[0m, \u001b[38;5;34m64\u001b[0m)  │            \u001b[38;5;34m0\u001b[0m │ add_11[\u001b[38;5;34m0\u001b[0m][\u001b[38;5;34m0\u001b[0m]        │    \u001b[1m-\u001b[0m    │\n",
              "│ (\u001b[38;5;33mActivation\u001b[0m)           │                      │              │                     │         │\n",
              "├────────────────────────┼──────────────────────┼──────────────┼─────────────────────┼─────────┤\n",
              "│ conv2d_44 (\u001b[38;5;33mConv2D\u001b[0m)     │ (\u001b[38;5;45mNone\u001b[0m, \u001b[38;5;34m64\u001b[0m, \u001b[38;5;34m128\u001b[0m, \u001b[38;5;34m5\u001b[0m)   │          \u001b[38;5;34m325\u001b[0m │ activation_27[\u001b[38;5;34m0\u001b[0m][\u001b[38;5;34m0\u001b[0m] │    \u001b[1;38;5;34mY\u001b[0m    │\n",
              "├────────────────────────┼──────────────────────┼──────────────┼─────────────────────┼─────────┤\n",
              "│ batch_normalization_24 │ (\u001b[38;5;45mNone\u001b[0m, \u001b[38;5;34m64\u001b[0m, \u001b[38;5;34m128\u001b[0m, \u001b[38;5;34m5\u001b[0m)   │           \u001b[38;5;34m20\u001b[0m │ conv2d_44[\u001b[38;5;34m0\u001b[0m][\u001b[38;5;34m0\u001b[0m]     │    \u001b[1;38;5;34mY\u001b[0m    │\n",
              "│ (\u001b[38;5;33mBatchNormalization\u001b[0m)   │                      │              │                     │         │\n",
              "├────────────────────────┼──────────────────────┼──────────────┼─────────────────────┼─────────┤\n",
              "│ activation_28          │ (\u001b[38;5;45mNone\u001b[0m, \u001b[38;5;34m64\u001b[0m, \u001b[38;5;34m128\u001b[0m, \u001b[38;5;34m5\u001b[0m)   │            \u001b[38;5;34m0\u001b[0m │ batch_normalizatio… │    \u001b[1m-\u001b[0m    │\n",
              "│ (\u001b[38;5;33mActivation\u001b[0m)           │                      │              │                     │         │\n",
              "└────────────────────────┴──────────────────────┴──────────────┴─────────────────────┴─────────┘\n"
            ]
          },
          "metadata": {},
          "output_type": "display_data"
        },
        {
          "data": {
            "text/html": [
              "<pre style=\"white-space:pre;overflow-x:auto;line-height:normal;font-family:Menlo,'DejaVu Sans Mono',consolas,'Courier New',monospace\"><span style=\"font-weight: bold\"> Total params: </span><span style=\"color: #00af00; text-decoration-color: #00af00\">29,241,117</span> (111.55 MB)\n",
              "</pre>\n"
            ],
            "text/plain": [
              "\u001b[1m Total params: \u001b[0m\u001b[38;5;34m29,241,117\u001b[0m (111.55 MB)\n"
            ]
          },
          "metadata": {},
          "output_type": "display_data"
        },
        {
          "data": {
            "text/html": [
              "<pre style=\"white-space:pre;overflow-x:auto;line-height:normal;font-family:Menlo,'DejaVu Sans Mono',consolas,'Courier New',monospace\"><span style=\"font-weight: bold\"> Trainable params: </span><span style=\"color: #00af00; text-decoration-color: #00af00\">29,227,539</span> (111.49 MB)\n",
              "</pre>\n"
            ],
            "text/plain": [
              "\u001b[1m Trainable params: \u001b[0m\u001b[38;5;34m29,227,539\u001b[0m (111.49 MB)\n"
            ]
          },
          "metadata": {},
          "output_type": "display_data"
        },
        {
          "data": {
            "text/html": [
              "<pre style=\"white-space:pre;overflow-x:auto;line-height:normal;font-family:Menlo,'DejaVu Sans Mono',consolas,'Courier New',monospace\"><span style=\"font-weight: bold\"> Non-trainable params: </span><span style=\"color: #00af00; text-decoration-color: #00af00\">13,578</span> (53.04 KB)\n",
              "</pre>\n"
            ],
            "text/plain": [
              "\u001b[1m Non-trainable params: \u001b[0m\u001b[38;5;34m13,578\u001b[0m (53.04 KB)\n"
            ]
          },
          "metadata": {},
          "output_type": "display_data"
        }
      ],
      "source": [
        "model = Attention_ResUNet(input_shape=input_shape, NUM_CLASSES=num_classes)\n",
        "\n",
        "# Print a detailed summary of the model with expanded nested layers and trainable parameters.\n",
        "model.summary(expand_nested=True, show_trainable=True)"
      ]
    },
    {
      "cell_type": "markdown",
      "metadata": {
        "id": "6pekIxXFYsbI"
      },
      "source": [
        "## Compile Model"
      ]
    },
    {
      "cell_type": "code",
      "execution_count": null,
      "metadata": {
        "colab": {
          "base_uri": "https://localhost:8080/"
        },
        "id": "i-82ib7lYvu1",
        "outputId": "fc273b43-e17e-4421-d229-d78ad29f7750"
      },
      "outputs": [
        {
          "name": "stdout",
          "output_type": "stream",
          "text": [
            "Compiling model...\n",
            "Model compiled!\n"
          ]
        }
      ],
      "source": [
        "# Compile the model\n",
        "print(\"Compiling model...\")\n",
        "model.compile(\n",
        "    loss=tf.keras.losses.SparseCategoricalCrossentropy(),\n",
        "    optimizer=tf.keras.optimizers.AdamW(learning_rate),\n",
        "    metrics=[\"accuracy\", MeanIntersectionOverUnion(num_classes=num_classes, labels_to_exclude=[0])]\n",
        ")\n",
        "\n",
        "print(\"Model compiled!\")"
      ]
    },
    {
      "cell_type": "markdown",
      "metadata": {
        "id": "8rJR7eXzY4cN"
      },
      "source": [
        "### Setup Callbacks"
      ]
    },
    {
      "cell_type": "code",
      "execution_count": null,
      "metadata": {
        "id": "JRTyH5aw8IYx"
      },
      "outputs": [],
      "source": [
        "earlystop = tf.keras.callbacks.EarlyStopping(\n",
        "    monitor= \"accuracy\",\n",
        "    mode='max',\n",
        "    patience=patience,\n",
        "    restore_best_weights=True\n",
        ")\n",
        "\n",
        "plateau = tf.keras.callbacks.ReduceLROnPlateau(\n",
        "    monitor= \"accuracy\",\n",
        "    mode='max',\n",
        "    factor=0.1,\n",
        "    patience=8,\n",
        "    min_lr=1e-4\n",
        ")\n",
        "\n",
        "viz_callback = VizCallback(X_val[10], y_val[10])"
      ]
    },
    {
      "cell_type": "markdown",
      "metadata": {
        "id": "tefhGcnbZBFc"
      },
      "source": [
        "### Train the Model"
      ]
    },
    {
      "cell_type": "code",
      "execution_count": null,
      "metadata": {
        "colab": {
          "background_save": true,
          "base_uri": "https://localhost:8080/"
        },
        "id": "CBkb3TRF1KJx",
        "outputId": "34a6eb0b-f696-4129-ab6d-8b6aeec659cb"
      },
      "outputs": [
        {
          "name": "stdout",
          "output_type": "stream",
          "text": [
            "Epoch 1/120\n",
            "\u001b[1m 755/1128\u001b[0m \u001b[32m━━━━━━━━━━━━━\u001b[0m\u001b[37m━━━━━━━\u001b[0m \u001b[1m58:57\u001b[0m 9s/step - accuracy: 0.5825 - loss: 1.1323 - mean_iou: 0.3090"
          ]
        }
      ],
      "source": [
        "# Train the model\n",
        "history = model.fit(\n",
        "    X_train,\n",
        "    y_train,\n",
        "    epochs=num_epochs,\n",
        "    callbacks=[earlystop, viz_callback, plateau],\n",
        "    verbose=1,\n",
        "    validation_data=(X_val, y_val)\n",
        ").history\n",
        "\n",
        "# Calculate and print the final validation accuracy\n",
        "final_val_meanIoU = round(max(history['val_mean_iou'])* 100, 2)\n",
        "print(f'Final validation Mean Intersection Over Union: {final_val_meanIoU}%')\n",
        "\n",
        "# Save the trained model to a file with the accuracy included in the filename\n",
        "model_filename = 'baseline_'+str(final_val_meanIoU)+'.keras'\n",
        "\n",
        "timestep_str = datetime.now().strftime(\"%y%m%d_%H%M%S\")\n",
        "model_filename = f\"exploration_model_{timestep_str}.keras\"\n",
        "model.save(model_filename)"
      ]
    },
    {
      "cell_type": "markdown",
      "metadata": {
        "id": "RNp6pUZuddqC"
      },
      "source": [
        "## 📊 Prepare Your Submission\n",
        "\n",
        "In our Kaggle competition, submissions are made as `csv` files. To create a proper `csv` file, you need to flatten your predictions and include an `id` column as the first column of your dataframe. To maintain consistency between your results and our solution, please avoid shuffling the test set. The code below demonstrates how to prepare the `csv` file from your model predictions.\n",
        "\n",
        "\n"
      ]
    },
    {
      "cell_type": "code",
      "execution_count": null,
      "metadata": {
        "id": "BU00iEFcYi_X"
      },
      "outputs": [],
      "source": [
        "# If model_filename is not defined, load the most recent model from Google Drive\n",
        "if \"model_filename\" not in globals() or model_filename is None:\n",
        "    files = [f for f in os.listdir('.') if os.path.isfile(f) and f.startswith('model_') and f.endswith('.keras')]\n",
        "    files.sort(key=lambda x: os.path.getmtime(x), reverse=True)\n",
        "    if files:\n",
        "        model_filename = files[0]\n",
        "    else:\n",
        "        raise FileNotFoundError(\"No model files found in the current directory.\")"
      ]
    },
    {
      "cell_type": "code",
      "execution_count": null,
      "metadata": {
        "id": "FMIq69eWgRmr"
      },
      "outputs": [],
      "source": [
        "#model = tfk.models.load_model(model_filename, safe_mode=False)\n",
        "#print(f\"Model loaded from {model_filename}\")"
      ]
    },
    {
      "cell_type": "code",
      "execution_count": null,
      "metadata": {
        "id": "a7kti6_P9YzQ"
      },
      "outputs": [],
      "source": [
        "## Define your model architecture again (without the weights)\n",
        "#model = Attention_ResUNet(input_shape=input_shape, NUM_CLASSES=num_classes)\n",
        "#\n",
        "## Load the weights\n",
        "#model.load_weights(model_filename)\n",
        "#\n",
        "#print(f\"Model weights loaded from {model_filename}\")"
      ]
    },
    {
      "cell_type": "code",
      "execution_count": null,
      "metadata": {
        "id": "z287uIQ_VGoK"
      },
      "outputs": [],
      "source": [
        "preds = model.predict(X_test)\n",
        "preds = np.argmax(preds, axis=-1)\n",
        "print(f\"Predictions shape: {preds.shape}\")\n",
        "del model"
      ]
    },
    {
      "cell_type": "code",
      "execution_count": null,
      "metadata": {
        "id": "SPjMEKqZW5jX"
      },
      "outputs": [],
      "source": [
        "def y_to_df(y) -> pd.DataFrame:\n",
        "    \"\"\"Converts segmentation predictions into a DataFrame format for Kaggle.\"\"\"\n",
        "    n_samples = len(y)\n",
        "    y_flat = y.reshape(n_samples, -1)\n",
        "    df = pd.DataFrame(y_flat)\n",
        "    df[\"id\"] = np.arange(n_samples)\n",
        "    cols = [\"id\"] + [col for col in df.columns if col != \"id\"]\n",
        "    return df[cols]"
      ]
    },
    {
      "cell_type": "code",
      "execution_count": null,
      "metadata": {
        "id": "s18kX1uDconq"
      },
      "outputs": [],
      "source": [
        "# Create and download the csv submission file\n",
        "timestep_str = model_filename.replace(\"model_\", \"\").replace(\".keras\", \"\")\n",
        "submission_filename = f\"submission_{timestep_str}.csv\"\n",
        "submission_df = y_to_df(preds)\n",
        "submission_df.to_csv(submission_filename, index=False)\n",
        "\n",
        "from google.colab import files\n",
        "files.download(submission_filename)"
      ]
    },
    {
      "cell_type": "markdown",
      "metadata": {
        "id": "cQEgmFTPfz1n"
      },
      "source": [
        "#  \n",
        "<img src=\"https://airlab.deib.polimi.it/wp-content/uploads/2019/07/airlab-logo-new_cropped.png\" width=\"350\">\n",
        "\n",
        "<img src=\"https://upload.wikimedia.org/wikipedia/commons/thumb/9/95/Instagram_logo_2022.svg/800px-Instagram_logo_2022.svg.png\" width=\"15\"> **Instagram:** https://www.instagram.com/airlab_polimi/\n",
        "\n",
        "<img src=\"https://upload.wikimedia.org/wikipedia/commons/thumb/8/81/LinkedIn_icon.svg/2048px-LinkedIn_icon.svg.png\" width=\"15\"> **LinkedIn:** https://www.linkedin.com/company/airlab-polimi/\n",
        "___\n",
        "Credits: Alberto Archetti 📧 alberto.archetti@polito.it\n",
        "\n",
        "\n",
        "\n",
        "\n",
        "\n",
        "```\n",
        "   Copyright 2024 Alberto Archetti\n",
        "\n",
        "   Licensed under the Apache License, Version 2.0 (the \"License\");\n",
        "   you may not use this file except in compliance with the License.\n",
        "   You may obtain a copy of the License at\n",
        "\n",
        "       http://www.apache.org/licenses/LICENSE-2.0\n",
        "\n",
        "   Unless required by applicable law or agreed to in writing, software\n",
        "   distributed under the License is distributed on an \"AS IS\" BASIS,\n",
        "   WITHOUT WARRANTIES OR CONDITIONS OF ANY KIND, either express or implied.\n",
        "   See the License for the specific language governing permissions and\n",
        "   limitations under the License.\n",
        "```"
      ]
    }
  ],
  "metadata": {
    "accelerator": "GPU",
    "colab": {
      "collapsed_sections": [
        "oT5VBI4QqbKt",
        "EpSz04b6YawS",
        "GN_cpHlSboXV"
      ],
      "gpuType": "T4",
      "machine_shape": "hm",
      "provenance": []
    },
    "kernelspec": {
      "display_name": "Python 3",
      "name": "python3"
    },
    "language_info": {
      "name": "python"
    }
  },
  "nbformat": 4,
  "nbformat_minor": 0
}